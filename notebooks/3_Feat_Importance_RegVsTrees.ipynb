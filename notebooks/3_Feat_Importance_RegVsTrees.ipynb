{
  "cells": [
    {
      "cell_type": "markdown",
      "metadata": {
        "id": "view-in-github",
        "colab_type": "text"
      },
      "source": [
        "<a href=\"https://colab.research.google.com/github/piyush-an/INFO7374_Predict_StockPrice/blob/main/notebooks/3_Feat_Importance_RegVsTrees.ipynb\" target=\"_parent\"><img src=\"https://colab.research.google.com/assets/colab-badge.svg\" alt=\"Open In Colab\"/></a>"
      ]
    },
    {
      "cell_type": "markdown",
      "id": "48dfc132",
      "metadata": {
        "id": "48dfc132"
      },
      "source": [
        "# Part - 3: Visualize the feature importance and feature selection process\n",
        "- Regression based approach, such as Ridge regression, LASSO, Elastic Net or LARS\n",
        "\n",
        "    `vs`\n",
        "\n",
        "- Decision tree based approach (random forest, XGBoost)"
      ]
    },
    {
      "cell_type": "markdown",
      "id": "16143eb6",
      "metadata": {
        "id": "16143eb6"
      },
      "source": [
        "## Importing libraries"
      ]
    },
    {
      "cell_type": "code",
      "source": [
        "%%bash\n",
        "\n",
        "pip install pandas yfinance ta seaborn matplotlib pandas-datareader jinja2 fredapi openpyxl xgboost scikit-learn statsmodels mlflow\n"
      ],
      "metadata": {
        "id": "vXEEiDhOGhNV"
      },
      "id": "vXEEiDhOGhNV",
      "execution_count": null,
      "outputs": []
    },
    {
      "cell_type": "code",
      "execution_count": 19,
      "id": "b78bb749",
      "metadata": {
        "id": "b78bb749"
      },
      "outputs": [],
      "source": [
        "import numpy as np\n",
        "import pandas as pd\n",
        "from datetime import datetime\n",
        "import yfinance as yf\n",
        "import matplotlib.pyplot as plt\n",
        "import seaborn as sns\n",
        "import scipy.stats as ss\n",
        "from sklearn import linear_model\n",
        "import statsmodels.api as sm\n",
        "from sklearn.model_selection import cross_val_score\n",
        "from sklearn.ensemble import RandomForestRegressor\n",
        "from sklearn.metrics import mean_squared_error\n",
        "import math\n",
        "import xgboost as xgb\n",
        "from xgboost import XGBRegressor\n",
        "import math\n",
        "from sklearn.linear_model import Lasso\n",
        "from sklearn.preprocessing import StandardScaler\n",
        "\n",
        "pd.set_option('display.max_columns', None)\n",
        "plt.rcParams[\"figure.figsize\"] = (15, 20)"
      ]
    },
    {
      "cell_type": "markdown",
      "source": [
        "## MLFlow Experiment Tracking"
      ],
      "metadata": {
        "id": "Laae4IIL45eI"
      },
      "id": "Laae4IIL45eI"
    },
    {
      "cell_type": "code",
      "execution_count": 12,
      "id": "2f1011ed",
      "metadata": {
        "id": "2f1011ed"
      },
      "outputs": [],
      "source": [
        "import mlflow\n",
        "from mlflow.entities import ViewType\n",
        "from mlflow.tracking import MlflowClient\n",
        "\n",
        "MLFLOW_TRACKING_URI = \"http://mlflow.anandpiyush.com\"\n",
        "SET_EXPERIMENT = \"info7374_nvdia_model_v2\"\n",
        "EXPERIMENT_ID = \"3\"\n",
        "\n",
        "mlflow.set_tracking_uri(MLFLOW_TRACKING_URI)\n",
        "mlflow.set_experiment(SET_EXPERIMENT)\n",
        "client = MlflowClient(tracking_uri=MLFLOW_TRACKING_URI)\n",
        "mlflow.sklearn.autolog(silent=True)\n",
        "mlflow.xgboost.autolog(silent=True)"
      ]
    },
    {
      "cell_type": "markdown",
      "source": [
        "## NVIDIA Latest Prices"
      ],
      "metadata": {
        "id": "KLuuWXZj7gFl"
      },
      "id": "KLuuWXZj7gFl"
    },
    {
      "cell_type": "code",
      "source": [
        "start_date = datetime(2023, 7, 1)\n",
        "end_date = datetime(2023, 12, 31)\n",
        "\n",
        "NVDA_STOCK = yf.download(\"NVDA\", start_date, end_date)\n",
        "NVDA_STOCK.head()"
      ],
      "metadata": {
        "colab": {
          "base_uri": "https://localhost:8080/",
          "height": 255
        },
        "id": "Yj0sigRl7l-N",
        "outputId": "530d61c5-086b-4b1e-ad37-38a70534d5bd"
      },
      "id": "Yj0sigRl7l-N",
      "execution_count": 13,
      "outputs": [
        {
          "output_type": "stream",
          "name": "stdout",
          "text": [
            "\r[*********************100%%**********************]  1 of 1 completed\n"
          ]
        },
        {
          "output_type": "execute_result",
          "data": {
            "text/plain": [
              "                  Open        High         Low       Close   Adj Close  \\\n",
              "Date                                                                     \n",
              "2023-07-03  425.170013  428.980011  422.019989  424.130005  424.057770   \n",
              "2023-07-05  421.350006  431.769989  420.850006  423.170013  423.097961   \n",
              "2023-07-06  418.440002  421.790009  413.459991  421.029999  420.958313   \n",
              "2023-07-07  423.220001  432.140015  421.799988  425.029999  424.957642   \n",
              "2023-07-10  426.570007  428.109985  416.489990  421.799988  421.728180   \n",
              "\n",
              "              Volume  \n",
              "Date                  \n",
              "2023-07-03  19820900  \n",
              "2023-07-05  32361800  \n",
              "2023-07-06  30358200  \n",
              "2023-07-07  35525300  \n",
              "2023-07-10  35390800  "
            ],
            "text/html": [
              "\n",
              "  <div id=\"df-ab0c08f0-f341-4f4f-9890-804fd62746d1\" class=\"colab-df-container\">\n",
              "    <div>\n",
              "<style scoped>\n",
              "    .dataframe tbody tr th:only-of-type {\n",
              "        vertical-align: middle;\n",
              "    }\n",
              "\n",
              "    .dataframe tbody tr th {\n",
              "        vertical-align: top;\n",
              "    }\n",
              "\n",
              "    .dataframe thead th {\n",
              "        text-align: right;\n",
              "    }\n",
              "</style>\n",
              "<table border=\"1\" class=\"dataframe\">\n",
              "  <thead>\n",
              "    <tr style=\"text-align: right;\">\n",
              "      <th></th>\n",
              "      <th>Open</th>\n",
              "      <th>High</th>\n",
              "      <th>Low</th>\n",
              "      <th>Close</th>\n",
              "      <th>Adj Close</th>\n",
              "      <th>Volume</th>\n",
              "    </tr>\n",
              "    <tr>\n",
              "      <th>Date</th>\n",
              "      <th></th>\n",
              "      <th></th>\n",
              "      <th></th>\n",
              "      <th></th>\n",
              "      <th></th>\n",
              "      <th></th>\n",
              "    </tr>\n",
              "  </thead>\n",
              "  <tbody>\n",
              "    <tr>\n",
              "      <th>2023-07-03</th>\n",
              "      <td>425.170013</td>\n",
              "      <td>428.980011</td>\n",
              "      <td>422.019989</td>\n",
              "      <td>424.130005</td>\n",
              "      <td>424.057770</td>\n",
              "      <td>19820900</td>\n",
              "    </tr>\n",
              "    <tr>\n",
              "      <th>2023-07-05</th>\n",
              "      <td>421.350006</td>\n",
              "      <td>431.769989</td>\n",
              "      <td>420.850006</td>\n",
              "      <td>423.170013</td>\n",
              "      <td>423.097961</td>\n",
              "      <td>32361800</td>\n",
              "    </tr>\n",
              "    <tr>\n",
              "      <th>2023-07-06</th>\n",
              "      <td>418.440002</td>\n",
              "      <td>421.790009</td>\n",
              "      <td>413.459991</td>\n",
              "      <td>421.029999</td>\n",
              "      <td>420.958313</td>\n",
              "      <td>30358200</td>\n",
              "    </tr>\n",
              "    <tr>\n",
              "      <th>2023-07-07</th>\n",
              "      <td>423.220001</td>\n",
              "      <td>432.140015</td>\n",
              "      <td>421.799988</td>\n",
              "      <td>425.029999</td>\n",
              "      <td>424.957642</td>\n",
              "      <td>35525300</td>\n",
              "    </tr>\n",
              "    <tr>\n",
              "      <th>2023-07-10</th>\n",
              "      <td>426.570007</td>\n",
              "      <td>428.109985</td>\n",
              "      <td>416.489990</td>\n",
              "      <td>421.799988</td>\n",
              "      <td>421.728180</td>\n",
              "      <td>35390800</td>\n",
              "    </tr>\n",
              "  </tbody>\n",
              "</table>\n",
              "</div>\n",
              "    <div class=\"colab-df-buttons\">\n",
              "\n",
              "  <div class=\"colab-df-container\">\n",
              "    <button class=\"colab-df-convert\" onclick=\"convertToInteractive('df-ab0c08f0-f341-4f4f-9890-804fd62746d1')\"\n",
              "            title=\"Convert this dataframe to an interactive table.\"\n",
              "            style=\"display:none;\">\n",
              "\n",
              "  <svg xmlns=\"http://www.w3.org/2000/svg\" height=\"24px\" viewBox=\"0 -960 960 960\">\n",
              "    <path d=\"M120-120v-720h720v720H120Zm60-500h600v-160H180v160Zm220 220h160v-160H400v160Zm0 220h160v-160H400v160ZM180-400h160v-160H180v160Zm440 0h160v-160H620v160ZM180-180h160v-160H180v160Zm440 0h160v-160H620v160Z\"/>\n",
              "  </svg>\n",
              "    </button>\n",
              "\n",
              "  <style>\n",
              "    .colab-df-container {\n",
              "      display:flex;\n",
              "      gap: 12px;\n",
              "    }\n",
              "\n",
              "    .colab-df-convert {\n",
              "      background-color: #E8F0FE;\n",
              "      border: none;\n",
              "      border-radius: 50%;\n",
              "      cursor: pointer;\n",
              "      display: none;\n",
              "      fill: #1967D2;\n",
              "      height: 32px;\n",
              "      padding: 0 0 0 0;\n",
              "      width: 32px;\n",
              "    }\n",
              "\n",
              "    .colab-df-convert:hover {\n",
              "      background-color: #E2EBFA;\n",
              "      box-shadow: 0px 1px 2px rgba(60, 64, 67, 0.3), 0px 1px 3px 1px rgba(60, 64, 67, 0.15);\n",
              "      fill: #174EA6;\n",
              "    }\n",
              "\n",
              "    .colab-df-buttons div {\n",
              "      margin-bottom: 4px;\n",
              "    }\n",
              "\n",
              "    [theme=dark] .colab-df-convert {\n",
              "      background-color: #3B4455;\n",
              "      fill: #D2E3FC;\n",
              "    }\n",
              "\n",
              "    [theme=dark] .colab-df-convert:hover {\n",
              "      background-color: #434B5C;\n",
              "      box-shadow: 0px 1px 3px 1px rgba(0, 0, 0, 0.15);\n",
              "      filter: drop-shadow(0px 1px 2px rgba(0, 0, 0, 0.3));\n",
              "      fill: #FFFFFF;\n",
              "    }\n",
              "  </style>\n",
              "\n",
              "    <script>\n",
              "      const buttonEl =\n",
              "        document.querySelector('#df-ab0c08f0-f341-4f4f-9890-804fd62746d1 button.colab-df-convert');\n",
              "      buttonEl.style.display =\n",
              "        google.colab.kernel.accessAllowed ? 'block' : 'none';\n",
              "\n",
              "      async function convertToInteractive(key) {\n",
              "        const element = document.querySelector('#df-ab0c08f0-f341-4f4f-9890-804fd62746d1');\n",
              "        const dataTable =\n",
              "          await google.colab.kernel.invokeFunction('convertToInteractive',\n",
              "                                                    [key], {});\n",
              "        if (!dataTable) return;\n",
              "\n",
              "        const docLinkHtml = 'Like what you see? Visit the ' +\n",
              "          '<a target=\"_blank\" href=https://colab.research.google.com/notebooks/data_table.ipynb>data table notebook</a>'\n",
              "          + ' to learn more about interactive tables.';\n",
              "        element.innerHTML = '';\n",
              "        dataTable['output_type'] = 'display_data';\n",
              "        await google.colab.output.renderOutput(dataTable, element);\n",
              "        const docLink = document.createElement('div');\n",
              "        docLink.innerHTML = docLinkHtml;\n",
              "        element.appendChild(docLink);\n",
              "      }\n",
              "    </script>\n",
              "  </div>\n",
              "\n",
              "\n",
              "<div id=\"df-0319597f-6a9d-4e33-8437-e4efa2f7f51f\">\n",
              "  <button class=\"colab-df-quickchart\" onclick=\"quickchart('df-0319597f-6a9d-4e33-8437-e4efa2f7f51f')\"\n",
              "            title=\"Suggest charts\"\n",
              "            style=\"display:none;\">\n",
              "\n",
              "<svg xmlns=\"http://www.w3.org/2000/svg\" height=\"24px\"viewBox=\"0 0 24 24\"\n",
              "     width=\"24px\">\n",
              "    <g>\n",
              "        <path d=\"M19 3H5c-1.1 0-2 .9-2 2v14c0 1.1.9 2 2 2h14c1.1 0 2-.9 2-2V5c0-1.1-.9-2-2-2zM9 17H7v-7h2v7zm4 0h-2V7h2v10zm4 0h-2v-4h2v4z\"/>\n",
              "    </g>\n",
              "</svg>\n",
              "  </button>\n",
              "\n",
              "<style>\n",
              "  .colab-df-quickchart {\n",
              "      --bg-color: #E8F0FE;\n",
              "      --fill-color: #1967D2;\n",
              "      --hover-bg-color: #E2EBFA;\n",
              "      --hover-fill-color: #174EA6;\n",
              "      --disabled-fill-color: #AAA;\n",
              "      --disabled-bg-color: #DDD;\n",
              "  }\n",
              "\n",
              "  [theme=dark] .colab-df-quickchart {\n",
              "      --bg-color: #3B4455;\n",
              "      --fill-color: #D2E3FC;\n",
              "      --hover-bg-color: #434B5C;\n",
              "      --hover-fill-color: #FFFFFF;\n",
              "      --disabled-bg-color: #3B4455;\n",
              "      --disabled-fill-color: #666;\n",
              "  }\n",
              "\n",
              "  .colab-df-quickchart {\n",
              "    background-color: var(--bg-color);\n",
              "    border: none;\n",
              "    border-radius: 50%;\n",
              "    cursor: pointer;\n",
              "    display: none;\n",
              "    fill: var(--fill-color);\n",
              "    height: 32px;\n",
              "    padding: 0;\n",
              "    width: 32px;\n",
              "  }\n",
              "\n",
              "  .colab-df-quickchart:hover {\n",
              "    background-color: var(--hover-bg-color);\n",
              "    box-shadow: 0 1px 2px rgba(60, 64, 67, 0.3), 0 1px 3px 1px rgba(60, 64, 67, 0.15);\n",
              "    fill: var(--button-hover-fill-color);\n",
              "  }\n",
              "\n",
              "  .colab-df-quickchart-complete:disabled,\n",
              "  .colab-df-quickchart-complete:disabled:hover {\n",
              "    background-color: var(--disabled-bg-color);\n",
              "    fill: var(--disabled-fill-color);\n",
              "    box-shadow: none;\n",
              "  }\n",
              "\n",
              "  .colab-df-spinner {\n",
              "    border: 2px solid var(--fill-color);\n",
              "    border-color: transparent;\n",
              "    border-bottom-color: var(--fill-color);\n",
              "    animation:\n",
              "      spin 1s steps(1) infinite;\n",
              "  }\n",
              "\n",
              "  @keyframes spin {\n",
              "    0% {\n",
              "      border-color: transparent;\n",
              "      border-bottom-color: var(--fill-color);\n",
              "      border-left-color: var(--fill-color);\n",
              "    }\n",
              "    20% {\n",
              "      border-color: transparent;\n",
              "      border-left-color: var(--fill-color);\n",
              "      border-top-color: var(--fill-color);\n",
              "    }\n",
              "    30% {\n",
              "      border-color: transparent;\n",
              "      border-left-color: var(--fill-color);\n",
              "      border-top-color: var(--fill-color);\n",
              "      border-right-color: var(--fill-color);\n",
              "    }\n",
              "    40% {\n",
              "      border-color: transparent;\n",
              "      border-right-color: var(--fill-color);\n",
              "      border-top-color: var(--fill-color);\n",
              "    }\n",
              "    60% {\n",
              "      border-color: transparent;\n",
              "      border-right-color: var(--fill-color);\n",
              "    }\n",
              "    80% {\n",
              "      border-color: transparent;\n",
              "      border-right-color: var(--fill-color);\n",
              "      border-bottom-color: var(--fill-color);\n",
              "    }\n",
              "    90% {\n",
              "      border-color: transparent;\n",
              "      border-bottom-color: var(--fill-color);\n",
              "    }\n",
              "  }\n",
              "</style>\n",
              "\n",
              "  <script>\n",
              "    async function quickchart(key) {\n",
              "      const quickchartButtonEl =\n",
              "        document.querySelector('#' + key + ' button');\n",
              "      quickchartButtonEl.disabled = true;  // To prevent multiple clicks.\n",
              "      quickchartButtonEl.classList.add('colab-df-spinner');\n",
              "      try {\n",
              "        const charts = await google.colab.kernel.invokeFunction(\n",
              "            'suggestCharts', [key], {});\n",
              "      } catch (error) {\n",
              "        console.error('Error during call to suggestCharts:', error);\n",
              "      }\n",
              "      quickchartButtonEl.classList.remove('colab-df-spinner');\n",
              "      quickchartButtonEl.classList.add('colab-df-quickchart-complete');\n",
              "    }\n",
              "    (() => {\n",
              "      let quickchartButtonEl =\n",
              "        document.querySelector('#df-0319597f-6a9d-4e33-8437-e4efa2f7f51f button');\n",
              "      quickchartButtonEl.style.display =\n",
              "        google.colab.kernel.accessAllowed ? 'block' : 'none';\n",
              "    })();\n",
              "  </script>\n",
              "</div>\n",
              "\n",
              "    </div>\n",
              "  </div>\n"
            ]
          },
          "metadata": {},
          "execution_count": 13
        }
      ]
    },
    {
      "cell_type": "markdown",
      "source": [
        "## Train & Test Data Split"
      ],
      "metadata": {
        "id": "5vWB_9s5xRrV"
      },
      "id": "5vWB_9s5xRrV"
    },
    {
      "cell_type": "code",
      "execution_count": 14,
      "id": "778b846e",
      "metadata": {
        "id": "778b846e",
        "outputId": "8d2f3b0c-e9a8-44d8-bcd4-fed9f4ffa585",
        "colab": {
          "base_uri": "https://localhost:8080/"
        }
      },
      "outputs": [
        {
          "output_type": "stream",
          "name": "stdout",
          "text": [
            "Number of rows in df_train: 393\n",
            "Number of rows in df_test: 64\n"
          ]
        }
      ],
      "source": [
        "nvda = pd.read_csv(\"https://raw.githubusercontent.com/piyush-an/INFO7374_Predict_StockPrice/main/notebooks/NVDA_feature_mart.csv\")\n",
        "nvda.set_index(\"Unnamed: 0\", inplace=True)\n",
        "\n",
        "# nvda = nvda.drop([\"Adj Close\"], axis=1)\n",
        "# columns_to_keep = ['Open', 'Close', 'High', 'Low', 'Typical_Price', 'Momentum_KAMA', 'Trend_EMA', 'Volumne_VWAP', 'Volatility_ATR', 'Volatility_KeltnerChannel', 'SP500']\n",
        "# nvda = nvda[columns_to_keep]\n",
        "# nvda.head()\n",
        "\n",
        "nvda.index = pd.to_datetime(nvda.index)\n",
        "nvda = nvda[nvda.index >= pd.to_datetime('2022-01-01')]\n",
        "split_date = pd.to_datetime('2023-07-31')\n",
        "\n",
        "df_train = nvda[nvda.index <= split_date]\n",
        "df_test = nvda[nvda.index > split_date]\n",
        "\n",
        "print(f\"Number of rows in df_train: {len(df_train)}\")\n",
        "print(f\"Number of rows in df_test: {len(df_test)}\")\n",
        "\n",
        "columns_to_keep = []\n",
        "columns_to_drop = [\"Open\", \"High\", \"Low\", \"Typical_Price\"]\n",
        "\n",
        "X_train = df_train.loc[:, df_train.columns != \"Close\"][:-1]\n",
        "X_train = X_train.drop(columns_to_drop, axis=1)\n",
        "y_train = df_train[\"Close\"].shift(-1)[:-1]\n",
        "\n",
        "X_test = df_test.loc[:, df_test.columns != \"Close\"][:-1]\n",
        "X_test = X_test.drop(columns_to_drop, axis=1)\n",
        "y_test = df_test[\"Close\"].shift(-1)[:-1]"
      ]
    },
    {
      "cell_type": "markdown",
      "id": "b6be12cb",
      "metadata": {
        "id": "b6be12cb"
      },
      "source": [
        "## Random Forest Regressors"
      ]
    },
    {
      "cell_type": "code",
      "source": [
        "from itertools import product\n",
        "\n",
        "# Define the hyperparameters to tune\n",
        "param_grid = {\n",
        "    'n_estimators': [100, 200, 300],\n",
        "    'max_depth': [5, 10, 15],\n",
        "    'min_samples_leaf': [1, 2, 4]\n",
        "}\n",
        "\n",
        "# Loop through all combinations of hyperparameters\n",
        "for n_estimators in param_grid['n_estimators']:\n",
        "    for max_depth in param_grid['max_depth']:\n",
        "        for min_samples_leaf in param_grid['min_samples_leaf']:\n",
        "            with mlflow.start_run():\n",
        "                # Create the model with specific parameters\n",
        "                model = RandomForestRegressor(n_estimators=n_estimators,\n",
        "                                              max_depth=max_depth,\n",
        "                                              min_samples_leaf=min_samples_leaf)\n",
        "\n",
        "                # Fit the model and make predictions\n",
        "                model.fit(X_train, y_train)\n",
        "                y_pred = model.predict(X_test)\n",
        "\n",
        "                # Calculate RMSE\n",
        "                MSE = mean_squared_error(y_test, y_pred, squared=False)\n",
        "                RMSE = math.sqrt(MSE)\n",
        "\n",
        "                # Log metrics and parameters to MLflow\n",
        "                mlflow.set_tag(\"model\", \"RandomForestRegressor\")\n",
        "                mlflow.log_metric(\"RMSE\", RMSE)\n",
        "\n",
        "                print(f\"RandomForestRegressor - RMSE: {RMSE:.2f}\")\n"
      ],
      "metadata": {
        "id": "GLskDhG9zUdD"
      },
      "id": "GLskDhG9zUdD",
      "execution_count": null,
      "outputs": []
    },
    {
      "cell_type": "markdown",
      "source": [
        "### Retrive the best model\n"
      ],
      "metadata": {
        "id": "OddN8PjHThR1"
      },
      "id": "OddN8PjHThR1"
    },
    {
      "cell_type": "code",
      "source": [
        "best_run_id = runs = client.search_runs(\n",
        "        experiment_ids=EXPERIMENT_ID,\n",
        "        run_view_type=ViewType.ACTIVE_ONLY,\n",
        "        max_results=1,\n",
        "        order_by=[\"metrics.RMSE ASC\"],\n",
        "        filter_string=\"tags.model = 'RandomForestRegressor'\"\n",
        "    )[0].info.run_id\n",
        "print(f\"Best Run ID: {best_run_id}\")\n",
        "\n",
        "loaded_model = mlflow.pyfunc.load_model(f\"runs:/{best_run_id}/model\")\n",
        "y_pred = loaded_model.predict(X_test)\n",
        "\n",
        "MSE = mean_squared_error(y_test, y_pred, squared=False)\n",
        "RMSE = math.sqrt(MSE)\n",
        "\n",
        "print(f\"RandomForestRegressor - RMSE: {RMSE}\")"
      ],
      "metadata": {
        "colab": {
          "base_uri": "https://localhost:8080/",
          "height": 84,
          "referenced_widgets": [
            "60831dd7bef44e7aa3c0a7533b20e8ad",
            "eed92208ab854a18975977f8dee01e54",
            "df05ef9842bd4be2b6d40e1c4706ad2b",
            "e206b7b843f24a1caa61674d0452c409",
            "78596a5268824101b0b40dee04e46fb8",
            "111f6b34b1db472a9a540920df6c4752",
            "85cbdef3b1084078b1229f617265d34c",
            "b66cba4d6eea4266bd2dc6a53df07787",
            "5413334bebaf4da4bae378e995a25088",
            "1d2d046837ab44c5bc19a1b0e133b3a5",
            "e347f171fe384837a87f55c965098c61"
          ]
        },
        "id": "-OxTmDizW6GR",
        "outputId": "59a9f0d2-f619-4d2b-dc88-c8d7405a0658"
      },
      "id": "-OxTmDizW6GR",
      "execution_count": 85,
      "outputs": [
        {
          "output_type": "stream",
          "name": "stdout",
          "text": [
            "Best Run ID: 4b72853797fc4c1aa4fb9c3533212dee\n"
          ]
        },
        {
          "output_type": "display_data",
          "data": {
            "text/plain": [
              "Downloading artifacts:   0%|          | 0/5 [00:00<?, ?it/s]"
            ],
            "application/vnd.jupyter.widget-view+json": {
              "version_major": 2,
              "version_minor": 0,
              "model_id": "60831dd7bef44e7aa3c0a7533b20e8ad"
            }
          },
          "metadata": {}
        },
        {
          "output_type": "stream",
          "name": "stdout",
          "text": [
            "RandomForestRegressor - RMSE: 4.452209360647558\n"
          ]
        }
      ]
    },
    {
      "cell_type": "markdown",
      "source": [
        "### Plot Actual and Predicted"
      ],
      "metadata": {
        "id": "hd-Kfz3G5EWb"
      },
      "id": "hd-Kfz3G5EWb"
    },
    {
      "cell_type": "code",
      "source": [
        "plt.figure(figsize=(15, 4))\n",
        "plt.plot(y_test, label='Actual_Close_Price', linestyle='solid')\n",
        "plt.plot(pd.Series(y_pred, index=y_test.index), label='Predicted_Close_Price', linestyle='dashed')\n",
        "plt.title('Random Forest Regressor - Close Price - Actual vs Predicted')\n",
        "plt.xlabel('Date')\n",
        "plt.ylabel('Close Price')\n",
        "plt.legend()\n",
        "plt.figtext(0.20, .85, f\"RSME = {RMSE:.2f}\", ha='right', va='top', color='red', weight='bold', bbox=dict(facecolor='yellow', edgecolor='black', boxstyle='round,pad=0.5'))\n",
        "plt.show()"
      ],
      "metadata": {
        "colab": {
          "base_uri": "https://localhost:8080/",
          "height": 410
        },
        "id": "G9GfS_M9RXJn",
        "outputId": "7932d4eb-d366-4afc-ba83-fdea3d22f3ce"
      },
      "id": "G9GfS_M9RXJn",
      "execution_count": 86,
      "outputs": [
        {
          "output_type": "display_data",
          "data": {
            "text/plain": [
              "<Figure size 1500x400 with 1 Axes>"
            ],
            "image/png": "[encoded data removed]"
          },
          "metadata": {}
        }
      ]
    },
    {
      "cell_type": "markdown",
      "source": [
        "### Trading Signals"
      ],
      "metadata": {
        "id": "9sn9re7JKfFg"
      },
      "id": "9sn9re7JKfFg"
    },
    {
      "cell_type": "code",
      "source": [
        "y_test = y_test.to_frame(name='Actual')\n",
        "y_test = y_test.rename_axis('Date')\n",
        "y_pred = pd.Series(y_pred, index=y_test.index)\n",
        "y_pred = y_pred.to_frame(name='Predicted')\n",
        "y_pred = y_pred.rename_axis('Date')\n",
        "results = NVDA_STOCK.merge(y_test, left_index=True, right_index=True, how='inner')\n",
        "results = results.merge(y_pred, left_index=True, right_index=True, how='inner')\n",
        "results = results[['Actual', 'Predicted', 'Open', 'Close']]\n",
        "results.head()"
      ],
      "metadata": {
        "colab": {
          "base_uri": "https://localhost:8080/",
          "height": 238
        },
        "id": "MK7ovUXREBwb",
        "outputId": "82a6a3b5-b217-4c33-d3a6-363d26e2003d"
      },
      "id": "MK7ovUXREBwb",
      "execution_count": 94,
      "outputs": [
        {
          "output_type": "execute_result",
          "data": {
            "text/plain": [
              "                Actual   Predicted        Open       Close\n",
              "Date                                                      \n",
              "2023-08-01  442.690002  451.335864  464.600006  465.070007\n",
              "2023-08-02  445.149994  446.812188  458.309998  442.690002\n",
              "2023-08-03  446.799988  446.188620  438.000000  445.149994\n",
              "2023-08-04  454.170013  450.621866  449.850006  446.799988\n",
              "2023-08-07  446.640015  449.390926  451.109985  454.170013"
            ],
            "text/html": [
              "\n",
              "  <div id=\"df-bbdd4b72-91ce-4d44-abd8-7729ecef6167\" class=\"colab-df-container\">\n",
              "    <div>\n",
              "<style scoped>\n",
              "    .dataframe tbody tr th:only-of-type {\n",
              "        vertical-align: middle;\n",
              "    }\n",
              "\n",
              "    .dataframe tbody tr th {\n",
              "        vertical-align: top;\n",
              "    }\n",
              "\n",
              "    .dataframe thead th {\n",
              "        text-align: right;\n",
              "    }\n",
              "</style>\n",
              "<table border=\"1\" class=\"dataframe\">\n",
              "  <thead>\n",
              "    <tr style=\"text-align: right;\">\n",
              "      <th></th>\n",
              "      <th>Actual</th>\n",
              "      <th>Predicted</th>\n",
              "      <th>Open</th>\n",
              "      <th>Close</th>\n",
              "    </tr>\n",
              "    <tr>\n",
              "      <th>Date</th>\n",
              "      <th></th>\n",
              "      <th></th>\n",
              "      <th></th>\n",
              "      <th></th>\n",
              "    </tr>\n",
              "  </thead>\n",
              "  <tbody>\n",
              "    <tr>\n",
              "      <th>2023-08-01</th>\n",
              "      <td>442.690002</td>\n",
              "      <td>451.335864</td>\n",
              "      <td>464.600006</td>\n",
              "      <td>465.070007</td>\n",
              "    </tr>\n",
              "    <tr>\n",
              "      <th>2023-08-02</th>\n",
              "      <td>445.149994</td>\n",
              "      <td>446.812188</td>\n",
              "      <td>458.309998</td>\n",
              "      <td>442.690002</td>\n",
              "    </tr>\n",
              "    <tr>\n",
              "      <th>2023-08-03</th>\n",
              "      <td>446.799988</td>\n",
              "      <td>446.188620</td>\n",
              "      <td>438.000000</td>\n",
              "      <td>445.149994</td>\n",
              "    </tr>\n",
              "    <tr>\n",
              "      <th>2023-08-04</th>\n",
              "      <td>454.170013</td>\n",
              "      <td>450.621866</td>\n",
              "      <td>449.850006</td>\n",
              "      <td>446.799988</td>\n",
              "    </tr>\n",
              "    <tr>\n",
              "      <th>2023-08-07</th>\n",
              "      <td>446.640015</td>\n",
              "      <td>449.390926</td>\n",
              "      <td>451.109985</td>\n",
              "      <td>454.170013</td>\n",
              "    </tr>\n",
              "  </tbody>\n",
              "</table>\n",
              "</div>\n",
              "    <div class=\"colab-df-buttons\">\n",
              "\n",
              "  <div class=\"colab-df-container\">\n",
              "    <button class=\"colab-df-convert\" onclick=\"convertToInteractive('df-bbdd4b72-91ce-4d44-abd8-7729ecef6167')\"\n",
              "            title=\"Convert this dataframe to an interactive table.\"\n",
              "            style=\"display:none;\">\n",
              "\n",
              "  <svg xmlns=\"http://www.w3.org/2000/svg\" height=\"24px\" viewBox=\"0 -960 960 960\">\n",
              "    <path d=\"M120-120v-720h720v720H120Zm60-500h600v-160H180v160Zm220 220h160v-160H400v160Zm0 220h160v-160H400v160ZM180-400h160v-160H180v160Zm440 0h160v-160H620v160ZM180-180h160v-160H180v160Zm440 0h160v-160H620v160Z\"/>\n",
              "  </svg>\n",
              "    </button>\n",
              "\n",
              "  <style>\n",
              "    .colab-df-container {\n",
              "      display:flex;\n",
              "      gap: 12px;\n",
              "    }\n",
              "\n",
              "    .colab-df-convert {\n",
              "      background-color: #E8F0FE;\n",
              "      border: none;\n",
              "      border-radius: 50%;\n",
              "      cursor: pointer;\n",
              "      display: none;\n",
              "      fill: #1967D2;\n",
              "      height: 32px;\n",
              "      padding: 0 0 0 0;\n",
              "      width: 32px;\n",
              "    }\n",
              "\n",
              "    .colab-df-convert:hover {\n",
              "      background-color: #E2EBFA;\n",
              "      box-shadow: 0px 1px 2px rgba(60, 64, 67, 0.3), 0px 1px 3px 1px rgba(60, 64, 67, 0.15);\n",
              "      fill: #174EA6;\n",
              "    }\n",
              "\n",
              "    .colab-df-buttons div {\n",
              "      margin-bottom: 4px;\n",
              "    }\n",
              "\n",
              "    [theme=dark] .colab-df-convert {\n",
              "      background-color: #3B4455;\n",
              "      fill: #D2E3FC;\n",
              "    }\n",
              "\n",
              "    [theme=dark] .colab-df-convert:hover {\n",
              "      background-color: #434B5C;\n",
              "      box-shadow: 0px 1px 3px 1px rgba(0, 0, 0, 0.15);\n",
              "      filter: drop-shadow(0px 1px 2px rgba(0, 0, 0, 0.3));\n",
              "      fill: #FFFFFF;\n",
              "    }\n",
              "  </style>\n",
              "\n",
              "    <script>\n",
              "      const buttonEl =\n",
              "        document.querySelector('#df-bbdd4b72-91ce-4d44-abd8-7729ecef6167 button.colab-df-convert');\n",
              "      buttonEl.style.display =\n",
              "        google.colab.kernel.accessAllowed ? 'block' : 'none';\n",
              "\n",
              "      async function convertToInteractive(key) {\n",
              "        const element = document.querySelector('#df-bbdd4b72-91ce-4d44-abd8-7729ecef6167');\n",
              "        const dataTable =\n",
              "          await google.colab.kernel.invokeFunction('convertToInteractive',\n",
              "                                                    [key], {});\n",
              "        if (!dataTable) return;\n",
              "\n",
              "        const docLinkHtml = 'Like what you see? Visit the ' +\n",
              "          '<a target=\"_blank\" href=https://colab.research.google.com/notebooks/data_table.ipynb>data table notebook</a>'\n",
              "          + ' to learn more about interactive tables.';\n",
              "        element.innerHTML = '';\n",
              "        dataTable['output_type'] = 'display_data';\n",
              "        await google.colab.output.renderOutput(dataTable, element);\n",
              "        const docLink = document.createElement('div');\n",
              "        docLink.innerHTML = docLinkHtml;\n",
              "        element.appendChild(docLink);\n",
              "      }\n",
              "    </script>\n",
              "  </div>\n",
              "\n",
              "\n",
              "<div id=\"df-759597ce-0f47-4c6a-9361-87584644fc91\">\n",
              "  <button class=\"colab-df-quickchart\" onclick=\"quickchart('df-759597ce-0f47-4c6a-9361-87584644fc91')\"\n",
              "            title=\"Suggest charts\"\n",
              "            style=\"display:none;\">\n",
              "\n",
              "<svg xmlns=\"http://www.w3.org/2000/svg\" height=\"24px\"viewBox=\"0 0 24 24\"\n",
              "     width=\"24px\">\n",
              "    <g>\n",
              "        <path d=\"M19 3H5c-1.1 0-2 .9-2 2v14c0 1.1.9 2 2 2h14c1.1 0 2-.9 2-2V5c0-1.1-.9-2-2-2zM9 17H7v-7h2v7zm4 0h-2V7h2v10zm4 0h-2v-4h2v4z\"/>\n",
              "    </g>\n",
              "</svg>\n",
              "  </button>\n",
              "\n",
              "<style>\n",
              "  .colab-df-quickchart {\n",
              "      --bg-color: #E8F0FE;\n",
              "      --fill-color: #1967D2;\n",
              "      --hover-bg-color: #E2EBFA;\n",
              "      --hover-fill-color: #174EA6;\n",
              "      --disabled-fill-color: #AAA;\n",
              "      --disabled-bg-color: #DDD;\n",
              "  }\n",
              "\n",
              "  [theme=dark] .colab-df-quickchart {\n",
              "      --bg-color: #3B4455;\n",
              "      --fill-color: #D2E3FC;\n",
              "      --hover-bg-color: #434B5C;\n",
              "      --hover-fill-color: #FFFFFF;\n",
              "      --disabled-bg-color: #3B4455;\n",
              "      --disabled-fill-color: #666;\n",
              "  }\n",
              "\n",
              "  .colab-df-quickchart {\n",
              "    background-color: var(--bg-color);\n",
              "    border: none;\n",
              "    border-radius: 50%;\n",
              "    cursor: pointer;\n",
              "    display: none;\n",
              "    fill: var(--fill-color);\n",
              "    height: 32px;\n",
              "    padding: 0;\n",
              "    width: 32px;\n",
              "  }\n",
              "\n",
              "  .colab-df-quickchart:hover {\n",
              "    background-color: var(--hover-bg-color);\n",
              "    box-shadow: 0 1px 2px rgba(60, 64, 67, 0.3), 0 1px 3px 1px rgba(60, 64, 67, 0.15);\n",
              "    fill: var(--button-hover-fill-color);\n",
              "  }\n",
              "\n",
              "  .colab-df-quickchart-complete:disabled,\n",
              "  .colab-df-quickchart-complete:disabled:hover {\n",
              "    background-color: var(--disabled-bg-color);\n",
              "    fill: var(--disabled-fill-color);\n",
              "    box-shadow: none;\n",
              "  }\n",
              "\n",
              "  .colab-df-spinner {\n",
              "    border: 2px solid var(--fill-color);\n",
              "    border-color: transparent;\n",
              "    border-bottom-color: var(--fill-color);\n",
              "    animation:\n",
              "      spin 1s steps(1) infinite;\n",
              "  }\n",
              "\n",
              "  @keyframes spin {\n",
              "    0% {\n",
              "      border-color: transparent;\n",
              "      border-bottom-color: var(--fill-color);\n",
              "      border-left-color: var(--fill-color);\n",
              "    }\n",
              "    20% {\n",
              "      border-color: transparent;\n",
              "      border-left-color: var(--fill-color);\n",
              "      border-top-color: var(--fill-color);\n",
              "    }\n",
              "    30% {\n",
              "      border-color: transparent;\n",
              "      border-left-color: var(--fill-color);\n",
              "      border-top-color: var(--fill-color);\n",
              "      border-right-color: var(--fill-color);\n",
              "    }\n",
              "    40% {\n",
              "      border-color: transparent;\n",
              "      border-right-color: var(--fill-color);\n",
              "      border-top-color: var(--fill-color);\n",
              "    }\n",
              "    60% {\n",
              "      border-color: transparent;\n",
              "      border-right-color: var(--fill-color);\n",
              "    }\n",
              "    80% {\n",
              "      border-color: transparent;\n",
              "      border-right-color: var(--fill-color);\n",
              "      border-bottom-color: var(--fill-color);\n",
              "    }\n",
              "    90% {\n",
              "      border-color: transparent;\n",
              "      border-bottom-color: var(--fill-color);\n",
              "    }\n",
              "  }\n",
              "</style>\n",
              "\n",
              "  <script>\n",
              "    async function quickchart(key) {\n",
              "      const quickchartButtonEl =\n",
              "        document.querySelector('#' + key + ' button');\n",
              "      quickchartButtonEl.disabled = true;  // To prevent multiple clicks.\n",
              "      quickchartButtonEl.classList.add('colab-df-spinner');\n",
              "      try {\n",
              "        const charts = await google.colab.kernel.invokeFunction(\n",
              "            'suggestCharts', [key], {});\n",
              "      } catch (error) {\n",
              "        console.error('Error during call to suggestCharts:', error);\n",
              "      }\n",
              "      quickchartButtonEl.classList.remove('colab-df-spinner');\n",
              "      quickchartButtonEl.classList.add('colab-df-quickchart-complete');\n",
              "    }\n",
              "    (() => {\n",
              "      let quickchartButtonEl =\n",
              "        document.querySelector('#df-759597ce-0f47-4c6a-9361-87584644fc91 button');\n",
              "      quickchartButtonEl.style.display =\n",
              "        google.colab.kernel.accessAllowed ? 'block' : 'none';\n",
              "    })();\n",
              "  </script>\n",
              "</div>\n",
              "\n",
              "    </div>\n",
              "  </div>\n"
            ]
          },
          "metadata": {},
          "execution_count": 94
        }
      ]
    },
    {
      "cell_type": "markdown",
      "source": [
        "## Ridge Regression"
      ],
      "metadata": {
        "id": "r-0LTKwIw3X6"
      },
      "id": "r-0LTKwIw3X6"
    },
    {
      "cell_type": "code",
      "source": [
        "from sklearn.linear_model import Ridge\n",
        "from sklearn.preprocessing import StandardScaler\n",
        "\n",
        "scaler = StandardScaler()\n",
        "X_train_scaled = scaler.fit_transform(X_train)\n",
        "X_test_scaled = scaler.transform(X_test)\n",
        "\n",
        "alphas = [0.1, 0.5, 1.0, 5.0, 10.0]\n",
        "\n",
        "for alpha in alphas:\n",
        "    with mlflow.start_run():\n",
        "        ridge = Ridge(alpha=alpha)\n",
        "        ridge.fit(X_train_scaled, y_train)\n",
        "\n",
        "        y_pred = ridge.predict(X_test_scaled)\n",
        "        MSE = mean_squared_error(y_test, y_pred, squared=False)\n",
        "        RMSE = math.sqrt(MSE)\n",
        "\n",
        "        mlflow.set_tag(\"model\", \"Ridge\")\n",
        "        mlflow.log_metric(\"RMSE\", RMSE)\n",
        "\n",
        "        print(f\"Ridge - RMSE: {RMSE:.2f}\")"
      ],
      "metadata": {
        "colab": {
          "base_uri": "https://localhost:8080/"
        },
        "id": "-9eIg_I8Nimu",
        "outputId": "7d282a7f-fb2a-4eba-8e25-b1b2b354972a"
      },
      "id": "-9eIg_I8Nimu",
      "execution_count": 8,
      "outputs": [
        {
          "output_type": "stream",
          "name": "stdout",
          "text": [
            "Ridge - RMSE: 3.42\n",
            "Ridge - RMSE: 3.49\n",
            "Ridge - RMSE: 3.54\n",
            "Ridge - RMSE: 3.72\n",
            "Ridge - RMSE: 3.96\n"
          ]
        }
      ]
    },
    {
      "cell_type": "markdown",
      "source": [
        "### Retrive the best model"
      ],
      "metadata": {
        "id": "aZ2VZhlb5Wic"
      },
      "id": "aZ2VZhlb5Wic"
    },
    {
      "cell_type": "code",
      "source": [
        "best_run_id = runs = client.search_runs(\n",
        "        experiment_ids=EXPERIMENT_ID,\n",
        "        run_view_type=ViewType.ACTIVE_ONLY,\n",
        "        max_results=1,\n",
        "        order_by=[\"metrics.RMSE ASC\"],\n",
        "        filter_string=\"tags.model = 'Ridge'\"\n",
        "    )[0].info.run_id\n",
        "print(f\"Best Run ID: {best_run_id}\")\n",
        "\n",
        "loaded_model = mlflow.pyfunc.load_model(f\"runs:/{best_run_id}/model\")\n",
        "y_pred = loaded_model.predict(X_test_scaled)\n",
        "\n",
        "MSE = mean_squared_error(y_test, y_pred, squared=False)\n",
        "RMSE = math.sqrt(MSE)\n",
        "\n",
        "print(f\"Ridge - RMSE: {RMSE}\")"
      ],
      "metadata": {
        "colab": {
          "base_uri": "https://localhost:8080/",
          "height": 66,
          "referenced_widgets": [
            "7093159a119b473ab7183f0024567d31",
            "efb6158bacd04944a2134ff09a5fda63",
            "8cfab5a1de734e889dbc599c0b82a18d",
            "0d7db912e128452ba6c5607978b8cd8f",
            "a801103d35d041cba394ecb75013bd4e",
            "6c20245a301f41b4b393dcee86c0dc1e",
            "22cfbf2b9bd845219e5aa6badef5c0b3",
            "0d7b7af4b144456a8f5743d672e263ed",
            "006371977ae74e6b8aa7d5549cf6311b",
            "e592315c20254523ad57449a8c79febc",
            "140ccfab0f894348b2ee7ea60685a0ca"
          ]
        },
        "id": "RShiQDnPpwcm",
        "outputId": "74ae3355-5fe3-4830-f6e2-65b781d8c8de"
      },
      "id": "RShiQDnPpwcm",
      "execution_count": 32,
      "outputs": [
        {
          "output_type": "display_data",
          "data": {
            "text/plain": [
              "Downloading artifacts:   0%|          | 0/5 [00:00<?, ?it/s]"
            ],
            "application/vnd.jupyter.widget-view+json": {
              "version_major": 2,
              "version_minor": 0,
              "model_id": "7093159a119b473ab7183f0024567d31"
            }
          },
          "metadata": {}
        },
        {
          "output_type": "stream",
          "name": "stdout",
          "text": [
            "Ridge - RMSE: 3.419473795239898\n"
          ]
        }
      ]
    },
    {
      "cell_type": "markdown",
      "source": [
        "### Plot Actual and Predicted"
      ],
      "metadata": {
        "id": "T8nCZDIo5YHV"
      },
      "id": "T8nCZDIo5YHV"
    },
    {
      "cell_type": "code",
      "source": [
        "plt.figure(figsize=(15, 4))\n",
        "plt.plot(y_test, label='Actual_Close_Price', linestyle='solid')\n",
        "plt.plot(pd.Series(y_pred, index=y_test.index), label='Predicted_Close_Price', linestyle='dashed')\n",
        "plt.title('Ridge - Close Price - Actual vs Predicted')\n",
        "plt.xlabel('Date')\n",
        "plt.ylabel('Close Price')\n",
        "plt.legend()\n",
        "plt.figtext(0.20, .85, f\"RSME = {RMSE:.2f}\", ha='right', va='top', color='red', weight='bold', bbox=dict(facecolor='yellow', edgecolor='black', boxstyle='round,pad=0.5'))\n",
        "plt.show()"
      ],
      "metadata": {
        "colab": {
          "base_uri": "https://localhost:8080/",
          "height": 410
        },
        "id": "sxTDLVbhpwZN",
        "outputId": "392436bf-7c13-4d1b-a25d-c517e906855e"
      },
      "id": "sxTDLVbhpwZN",
      "execution_count": 33,
      "outputs": [
        {
          "output_type": "display_data",
          "data": {
            "text/plain": [
              "<Figure size 1500x400 with 1 Axes>"
            ],
            "image/png": "[encoded data removed]"
          },
          "metadata": {}
        }
      ]
    },
    {
      "cell_type": "markdown",
      "source": [
        "## LASSO"
      ],
      "metadata": {
        "id": "zIjewXojw3Nr"
      },
      "id": "zIjewXojw3Nr"
    },
    {
      "cell_type": "code",
      "source": [
        "scaler = StandardScaler()\n",
        "X_train_scaled = scaler.fit_transform(X_train)\n",
        "X_test_scaled = scaler.transform(X_test)\n",
        "\n",
        "# Set up a range of alpha values to test\n",
        "alphas = [5, 0.5, 0.05, 0.005, 0.0005, 1, 0.1, 0.01, 0.001, 0.0001, 0]\n",
        "\n",
        "for alpha in alphas:\n",
        "  with mlflow.start_run():\n",
        "      lr = Lasso(alpha=alpha, max_iter=10000)\n",
        "      lr.fit(X_train_scaled, y_train)\n",
        "\n",
        "      y_pred = lr.predict(X_test_scaled)\n",
        "      MSE = mean_squared_error(y_test, y_pred, squared=False)\n",
        "\n",
        "      RMSE = math.sqrt(MSE)\n",
        "      mlflow.set_tag(\"model\", \"Lasso\")\n",
        "      mlflow.log_metric(\"RMSE\", RMSE)\n",
        "\n",
        "      print(f\"Lasso - RMSE: {RMSE:.2f}\")"
      ],
      "metadata": {
        "colab": {
          "base_uri": "https://localhost:8080/"
        },
        "id": "cqtCzAWpDsc-",
        "outputId": "5990416f-c49e-471a-8fe4-6427cf9efeb5"
      },
      "id": "cqtCzAWpDsc-",
      "execution_count": 16,
      "outputs": [
        {
          "output_type": "stream",
          "name": "stdout",
          "text": [
            "Lasso - RMSE: 3.92\n",
            "Lasso - RMSE: 3.40\n",
            "Lasso - RMSE: 3.44\n",
            "Lasso - RMSE: 3.40\n"
          ]
        },
        {
          "output_type": "stream",
          "name": "stderr",
          "text": [
            "/usr/local/lib/python3.10/dist-packages/sklearn/linear_model/_coordinate_descent.py:631: ConvergenceWarning: Objective did not converge. You might want to increase the number of iterations, check the scale of the features or consider increasing regularisation. Duality gap: 6.548e+03, tolerance: 2.941e+02\n",
            "  model = cd_fast.enet_coordinate_descent(\n"
          ]
        },
        {
          "output_type": "stream",
          "name": "stdout",
          "text": [
            "Lasso - RMSE: 3.41\n",
            "Lasso - RMSE: 3.44\n",
            "Lasso - RMSE: 3.41\n",
            "Lasso - RMSE: 3.40\n"
          ]
        },
        {
          "output_type": "stream",
          "name": "stderr",
          "text": [
            "/usr/local/lib/python3.10/dist-packages/sklearn/linear_model/_coordinate_descent.py:631: ConvergenceWarning: Objective did not converge. You might want to increase the number of iterations, check the scale of the features or consider increasing regularisation. Duality gap: 3.320e+03, tolerance: 2.941e+02\n",
            "  model = cd_fast.enet_coordinate_descent(\n"
          ]
        },
        {
          "output_type": "stream",
          "name": "stdout",
          "text": [
            "Lasso - RMSE: 3.41\n"
          ]
        },
        {
          "output_type": "stream",
          "name": "stderr",
          "text": [
            "/usr/local/lib/python3.10/dist-packages/sklearn/linear_model/_coordinate_descent.py:631: ConvergenceWarning: Objective did not converge. You might want to increase the number of iterations, check the scale of the features or consider increasing regularisation. Duality gap: 1.100e+04, tolerance: 2.941e+02\n",
            "  model = cd_fast.enet_coordinate_descent(\n"
          ]
        },
        {
          "output_type": "stream",
          "name": "stdout",
          "text": [
            "Lasso - RMSE: 3.41\n"
          ]
        },
        {
          "output_type": "stream",
          "name": "stderr",
          "text": [
            "/usr/local/lib/python3.10/dist-packages/sklearn/linear_model/_coordinate_descent.py:631: UserWarning: Coordinate descent with no regularization may lead to unexpected results and is discouraged.\n",
            "  model = cd_fast.enet_coordinate_descent(\n",
            "/usr/local/lib/python3.10/dist-packages/sklearn/linear_model/_coordinate_descent.py:631: ConvergenceWarning: Objective did not converge. You might want to increase the number of iterations, check the scale of the features or consider increasing regularisation. Duality gap: 1.252e+04, tolerance: 2.941e+02 Linear regression models with null weight for the l1 regularization term are more efficiently fitted using one of the solvers implemented in sklearn.linear_model.Ridge/RidgeCV instead.\n",
            "  model = cd_fast.enet_coordinate_descent(\n"
          ]
        },
        {
          "output_type": "stream",
          "name": "stdout",
          "text": [
            "Lasso - RMSE: 3.41\n"
          ]
        }
      ]
    },
    {
      "cell_type": "markdown",
      "source": [
        "### Retrive the best model\n"
      ],
      "metadata": {
        "id": "Ygi0ZoKz5arm"
      },
      "id": "Ygi0ZoKz5arm"
    },
    {
      "cell_type": "code",
      "source": [
        "best_run_id = runs = client.search_runs(\n",
        "        experiment_ids=EXPERIMENT_ID,\n",
        "        run_view_type=ViewType.ACTIVE_ONLY,\n",
        "        max_results=1,\n",
        "        order_by=[\"metrics.RMSE ASC\"],\n",
        "        filter_string=\"tags.model = 'Lasso'\"\n",
        "    )[0].info.run_id\n",
        "print(f\"Best Run ID: {best_run_id}\")\n",
        "\n",
        "loaded_model = mlflow.pyfunc.load_model(f\"runs:/{best_run_id}/model\")\n",
        "y_pred = loaded_model.predict(X_test_scaled)\n",
        "\n",
        "MSE = mean_squared_error(y_test, y_pred, squared=False)\n",
        "RMSE = math.sqrt(MSE)\n",
        "\n",
        "print(f\"Lasso - RMSE: {RMSE}\")"
      ],
      "metadata": {
        "colab": {
          "base_uri": "https://localhost:8080/",
          "height": 66,
          "referenced_widgets": [
            "a061157e5d1145e8a9bd2bd67104fee2",
            "bf0f5d23b5774708a8f07a7f0e5cdfd8",
            "78d41127be7846da85a13f503f899d41",
            "22f837b1fc5647719ae22b3bf1a1ca02",
            "566c0a9ed6d04671a52135ffb5ce7adf",
            "1480c4abec8e4a9c9aa9ed7bdbba322e",
            "4d9d8490c72741e4a3cfb8c7ab8b972b",
            "0dce73668a6545d3bcacd6ea9e033788",
            "957cbd51be924d81909102ed3cf17e35",
            "4f09801fef204ec6941238c48369ee75",
            "bde97e5cc7024f0c88b19ee0a4ebdc08"
          ]
        },
        "id": "_5N-EtrkDsa7",
        "outputId": "16064e71-3af0-432a-93b6-ac0011129785"
      },
      "id": "_5N-EtrkDsa7",
      "execution_count": 17,
      "outputs": [
        {
          "output_type": "display_data",
          "data": {
            "text/plain": [
              "Downloading artifacts:   0%|          | 0/5 [00:00<?, ?it/s]"
            ],
            "application/vnd.jupyter.widget-view+json": {
              "version_major": 2,
              "version_minor": 0,
              "model_id": "a061157e5d1145e8a9bd2bd67104fee2"
            }
          },
          "metadata": {}
        },
        {
          "output_type": "stream",
          "name": "stdout",
          "text": [
            "Lasso - RMSE: 3.398502355502673\n"
          ]
        }
      ]
    },
    {
      "cell_type": "markdown",
      "source": [
        "### Plot Actual and Predicted"
      ],
      "metadata": {
        "id": "EzDcw6gr5cW7"
      },
      "id": "EzDcw6gr5cW7"
    },
    {
      "cell_type": "code",
      "source": [
        "plt.figure(figsize=(15, 4))\n",
        "plt.plot(y_test, label='Actual_Close_Price', linestyle='solid')\n",
        "plt.plot(pd.Series(y_pred, index=y_test.index), label='Predicted_Close_Price', linestyle='dashed')\n",
        "plt.title('Lasso - Close Price - Actual vs Predicted')\n",
        "plt.xlabel('Date')\n",
        "plt.ylabel('Close Price')\n",
        "plt.legend()\n",
        "plt.figtext(0.20, .85, f\"RSME = {RMSE:.2f}\", ha='right', va='top', color='red', weight='bold', bbox=dict(facecolor='yellow', edgecolor='black', boxstyle='round,pad=0.5'))\n",
        "plt.show()"
      ],
      "metadata": {
        "colab": {
          "base_uri": "https://localhost:8080/",
          "height": 564
        },
        "id": "sCyweC25DsWp",
        "outputId": "e6dbd495-5061-4a15-99c3-2e2fdcc5f695"
      },
      "id": "sCyweC25DsWp",
      "execution_count": 19,
      "outputs": [
        {
          "output_type": "display_data",
          "data": {
            "text/plain": [
              "<Figure size 800x600 with 1 Axes>"
            ],
            "image/png": "[encoded data removed]"
          },
          "metadata": {}
        }
      ]
    },
    {
      "cell_type": "markdown",
      "source": [
        "## Extreme Gradient Boosting (XGBoost) Regressors\n"
      ],
      "metadata": {
        "id": "5v5waIrZwtuJ"
      },
      "id": "5v5waIrZwtuJ"
    },
    {
      "cell_type": "code",
      "source": [
        "import xgboost as xgb\n",
        "\n",
        "from hyperopt import fmin, tpe, hp, STATUS_OK, Trials\n",
        "from hyperopt.pyll import scope"
      ],
      "metadata": {
        "id": "UsucMIKS_ZVc"
      },
      "id": "UsucMIKS_ZVc",
      "execution_count": 20,
      "outputs": []
    },
    {
      "cell_type": "code",
      "source": [
        "train = xgb.DMatrix(X_train, label=y_train)\n",
        "valid = xgb.DMatrix(X_test, label=y_test)"
      ],
      "metadata": {
        "id": "bgyv79MK_ZTw"
      },
      "id": "bgyv79MK_ZTw",
      "execution_count": 21,
      "outputs": []
    },
    {
      "cell_type": "code",
      "source": [
        "def objective(params):\n",
        "    with mlflow.start_run():\n",
        "        # mlflow.log_params(params) # Check here Anku\n",
        "        booster = xgb.train(\n",
        "            params=params,\n",
        "            dtrain=train,\n",
        "            num_boost_round=1000,\n",
        "            evals=[(valid, 'validation')],\n",
        "            early_stopping_rounds=50\n",
        "        )\n",
        "        y_pred = booster.predict(valid)\n",
        "        MSE = mean_squared_error(y_test, y_pred, squared=False)\n",
        "        RMSE = math.sqrt(MSE)\n",
        "        mlflow.set_tag(\"model\", \"XGBoost\")\n",
        "        mlflow.log_metric(\"RMSE\", RMSE)\n",
        "\n",
        "    return {'loss': RMSE, 'status': STATUS_OK}"
      ],
      "metadata": {
        "id": "YM2m5rZZ_ZP1"
      },
      "id": "YM2m5rZZ_ZP1",
      "execution_count": 22,
      "outputs": []
    },
    {
      "cell_type": "code",
      "source": [
        "search_space = {\n",
        "    'max_depth': scope.int(hp.quniform('max_depth', 4, 100, 1)),\n",
        "    'learning_rate': hp.loguniform('learning_rate', -3, 0),\n",
        "    'reg_alpha': hp.loguniform('reg_alpha', -5, -1),\n",
        "    'reg_lambda': hp.loguniform('reg_lambda', -6, -1),\n",
        "    'min_child_weight': hp.loguniform('min_child_weight', -1, 3),\n",
        "    'objective': 'reg:linear',\n",
        "    'seed': 42\n",
        "}\n",
        "\n",
        "best_result = fmin(\n",
        "    fn=objective,\n",
        "    space=search_space,\n",
        "    algo=tpe.suggest,\n",
        "    max_evals=50,\n",
        "    trials=Trials()\n",
        ")"
      ],
      "metadata": {
        "id": "F8X-7odI_ZNG"
      },
      "id": "F8X-7odI_ZNG",
      "execution_count": null,
      "outputs": []
    },
    {
      "cell_type": "markdown",
      "source": [
        "### Retrive the best model\n"
      ],
      "metadata": {
        "id": "lVDjTL-l5eNb"
      },
      "id": "lVDjTL-l5eNb"
    },
    {
      "cell_type": "code",
      "source": [
        "best_run_id = runs = client.search_runs(\n",
        "        experiment_ids=EXPERIMENT_ID,\n",
        "        run_view_type=ViewType.ACTIVE_ONLY,\n",
        "        max_results=1,\n",
        "        order_by=[\"metrics.RMSE ASC\"],\n",
        "        filter_string=\"tags.model = 'XGBoost'\"\n",
        "    )[0].info.run_id\n",
        "\n",
        "print(f\"Best Run ID: {best_run_id}\")\n",
        "loaded_model = mlflow.pyfunc.load_model(f\"runs:/{best_run_id}/model\")\n",
        "y_pred = loaded_model.predict(X_test)\n",
        "\n",
        "MSE = mean_squared_error(y_test, y_pred, squared=False)\n",
        "RMSE = math.sqrt(MSE)\n",
        "\n",
        "print(f\"XGBoost - RMSE: {RMSE}\")"
      ],
      "metadata": {
        "colab": {
          "base_uri": "https://localhost:8080/",
          "height": 138,
          "referenced_widgets": [
            "652d0eebf3bf41b28ac7b368fc3ee44f",
            "b0a3e6bd80144286b7a53e247b77f3b9",
            "31954cf263ed460daf1d3971d75f9649",
            "aa45652725a74d30b589ca60cbb8322f",
            "b46129afb9e946cd8d5adc37c29a9bd8",
            "186161ce13fc4c788c24bbaecfa8a47b",
            "e54d010464c1436ca8aabfcf1d4cf682",
            "e205a33bcc1e4674944325c796103a23",
            "5db552496d7f4dcfbb4e01ec967bd3db",
            "30190c76c891463499b8ce82b93c54e9",
            "55f30b8e6ae54868889edc3f5b6fee98"
          ]
        },
        "id": "WiJrKPv2_ZEo",
        "outputId": "c7524825-6e34-49b9-8eea-4973c57beb9c"
      },
      "id": "WiJrKPv2_ZEo",
      "execution_count": 27,
      "outputs": [
        {
          "output_type": "stream",
          "name": "stdout",
          "text": [
            "Best Run ID: 937796f04f3d4af890e0f97fe06dbdfc\n"
          ]
        },
        {
          "output_type": "display_data",
          "data": {
            "text/plain": [
              "Downloading artifacts:   0%|          | 0/5 [00:00<?, ?it/s]"
            ],
            "application/vnd.jupyter.widget-view+json": {
              "version_major": 2,
              "version_minor": 0,
              "model_id": "652d0eebf3bf41b28ac7b368fc3ee44f"
            }
          },
          "metadata": {}
        },
        {
          "output_type": "stream",
          "name": "stderr",
          "text": [
            "/usr/local/lib/python3.10/dist-packages/xgboost/core.py:160: UserWarning: [00:41:29] WARNING: /workspace/src/objective/regression_obj.cu:209: reg:linear is now deprecated in favor of reg:squarederror.\n",
            "  warnings.warn(smsg, UserWarning)\n"
          ]
        },
        {
          "output_type": "stream",
          "name": "stdout",
          "text": [
            "XGBoost - RMSE: 4.035197491066294\n"
          ]
        }
      ]
    },
    {
      "cell_type": "markdown",
      "source": [
        "### Plot Actual and Predicted"
      ],
      "metadata": {
        "id": "1h555sU-5f1h"
      },
      "id": "1h555sU-5f1h"
    },
    {
      "cell_type": "code",
      "source": [
        "plt.figure(figsize=(15, 4))\n",
        "plt.plot(y_test, label='Actual_Close_Price', linestyle='solid')\n",
        "plt.plot(pd.Series(y_pred, index=y_test.index), label='Predicted_Close_Price', linestyle='dashed')\n",
        "plt.title('XGBoost - Close Price - Actual vs Predicted')\n",
        "plt.xlabel('Date')\n",
        "plt.ylabel('Close Price')\n",
        "plt.legend()\n",
        "plt.figtext(0.20, .85, f\"RSME = {RMSE:.2f}\", ha='right', va='top', color='red', weight='bold', bbox=dict(facecolor='yellow', edgecolor='black', boxstyle='round,pad=0.5'))\n",
        "plt.show()"
      ],
      "metadata": {
        "colab": {
          "base_uri": "https://localhost:8080/",
          "height": 564
        },
        "id": "nbkqF22BwGzS",
        "outputId": "359ddaa7-6541-49cf-a0f8-56c4915ddcc8"
      },
      "id": "nbkqF22BwGzS",
      "execution_count": 26,
      "outputs": [
        {
          "output_type": "display_data",
          "data": {
            "text/plain": [
              "<Figure size 800x600 with 1 Axes>"
            ],
            "image/png": "[encoded data removed]"
          },
          "metadata": {}
        }
      ]
    },
    {
      "cell_type": "markdown",
      "source": [
        "## Ordinary Least Squares (OLS) Regression"
      ],
      "metadata": {
        "id": "pOgYVlrenk4l"
      },
      "id": "pOgYVlrenk4l"
    },
    {
      "cell_type": "code",
      "source": [
        "import statsmodels.api as sm\n",
        "import matplotlib.pyplot as plt\n",
        "mlflow.statsmodels.autolog()\n",
        "\n",
        "\n",
        "X_train_const = sm.add_constant(X_train)\n",
        "X_test_const = sm.add_constant(X_test)\n",
        "\n",
        "with mlflow.start_run():\n",
        "  OLS_Model = sm.OLS(y_train, X_train_const).fit()\n",
        "  print(OLS_Model.summary())\n",
        "  y_pred = OLS_Model.predict(X_test_const)\n",
        "\n",
        "  MSE = mean_squared_error(y_test, y_pred, squared=False)\n",
        "  RMSE = math.sqrt(MSE)\n",
        "\n",
        "  mlflow.set_tag(\"model\", \"OLS\")\n",
        "  mlflow.log_metric(\"RMSE\", RMSE)\n"
      ],
      "metadata": {
        "id": "DKTsdGlloGLb",
        "outputId": "eadda85f-cd50-47cc-e13b-1dcd46414fd7",
        "colab": {
          "base_uri": "https://localhost:8080/"
        }
      },
      "id": "DKTsdGlloGLb",
      "execution_count": 16,
      "outputs": [
        {
          "output_type": "stream",
          "name": "stdout",
          "text": [
            "                            OLS Regression Results                            \n",
            "==============================================================================\n",
            "Dep. Variable:                  Close   R-squared:                       0.991\n",
            "Model:                            OLS   Adj. R-squared:                  0.990\n",
            "Method:                 Least Squares   F-statistic:                     896.0\n",
            "Date:                Thu, 14 Dec 2023   Prob (F-statistic):               0.00\n",
            "Time:                        05:24:40   Log-Likelihood:                -1370.9\n",
            "No. Observations:                 392   AIC:                             2834.\n",
            "Df Residuals:                     346   BIC:                             3016.\n",
            "Df Model:                          45                                         \n",
            "Covariance Type:            nonrobust                                         \n",
            "=========================================================================================================\n",
            "                                            coef    std err          t      P>|t|      [0.025      0.975]\n",
            "---------------------------------------------------------------------------------------------------------\n",
            "const                                  -180.4593    247.651     -0.729      0.467    -667.551     306.632\n",
            "Adj Close                                 0.6056      0.252      2.405      0.017       0.110       1.101\n",
            "Volume                                 1.388e-07   3.07e-07      0.452      0.652   -4.66e-07    7.43e-07\n",
            "Returns                                   0.2456      0.238      1.032      0.303      -0.223       0.714\n",
            "Daily_Return                            -48.7023     75.066     -0.649      0.517    -196.345      98.940\n",
            "Typical_Price_Return                      0.0564      0.552      0.102      0.919      -1.029       1.142\n",
            "Volume_Log                                3.4032      8.992      0.378      0.705     -14.282      21.089\n",
            "Volume_Differencing                   -2.283e-07   9.44e-08     -2.419      0.016   -4.14e-07   -4.27e-08\n",
            "Volume_Differencing_10                 4.645e-09   3.73e-08      0.125      0.901   -6.86e-08    7.79e-08\n",
            "Volumne_Percent_Change                   11.6842      4.998      2.338      0.020       1.855      21.514\n",
            "MA_5                                      8.1597      9.082      0.898      0.370      -9.704      26.023\n",
            "Volumne_MA_200                           -6.3822     13.297     -0.480      0.632     -32.536      19.772\n",
            "Close_EMA_50                            -49.5961     45.824     -1.082      0.280    -139.724      40.532\n",
            "Momentum_AwesomeOscillatorIndicator       0.0021      0.178      0.012      0.991      -0.348       0.352\n",
            "Momentum_KAMA                            -0.2055      0.150     -1.371      0.171      -0.500       0.089\n",
            "Momentum_PercentagePVolumneOscillator    -0.5496      0.406     -1.353      0.177      -1.349       0.249\n",
            "Momentum_ROC                              0.2325      0.125      1.860      0.064      -0.013       0.478\n",
            "Momentum_RSI                              0.3446      0.471      0.731      0.465      -0.583       1.272\n",
            "Momentum_StochRSIIndicator                0.7416      4.251      0.174      0.862      -7.619       9.102\n",
            "Momentum_TSIIndicator                    -0.0946      0.238     -0.398      0.691      -0.562       0.373\n",
            "Trend_ADX                                 0.3832      0.207      1.848      0.065      -0.025       0.791\n",
            "Trend_AroonIndicator                      0.0202      0.022      0.900      0.369      -0.024       0.064\n",
            "Trend_CCI                                 0.0064      0.019      0.330      0.742      -0.032       0.045\n",
            "Trend_DPO                                -0.0002      0.059     -0.004      0.997      -0.115       0.115\n",
            "Trend_EMA                                 0.8120      0.493      1.647      0.100      -0.158       1.782\n",
            "Trend_MACD                                0.0168      0.627      0.027      0.979      -1.215       1.249\n",
            "Trend_MI                                  2.1872      1.151      1.901      0.058      -0.076       4.450\n",
            "Volumne_CMF                              12.0858      7.779      1.554      0.121      -3.215      27.387\n",
            "Volumne_EOM                              -0.0045      0.007     -0.660      0.510      -0.018       0.009\n",
            "Volumne_FI                               2.1e-08   1.68e-08      1.252      0.211    -1.2e-08     5.4e-08\n",
            "Volumne_MFI                              -0.1852      0.113     -1.644      0.101      -0.407       0.036\n",
            "Volumne_VWAP                              0.2721      0.413      0.660      0.510      -0.539       1.083\n",
            "Volatility_ATR                           -0.5378      0.931     -0.578      0.564      -2.368       1.293\n",
            "Volatility_BB                             0.1633      0.153      1.064      0.288      -0.139       0.465\n",
            "Volatility_DonchainChannel               -0.0929      0.204     -0.455      0.649      -0.494       0.308\n",
            "Volatility_UlcerIndex                    -0.2997      0.249     -1.205      0.229      -0.789       0.190\n",
            "Volatility_KeltnerChannel                -0.4180      0.420     -0.995      0.320      -1.244       0.408\n",
            "Mkt-RF                                    0.5416      0.625      0.866      0.387      -0.688       1.771\n",
            "SMB                                      -0.1989      0.762     -0.261      0.794      -1.698       1.300\n",
            "HML                                      -0.3269      0.531     -0.616      0.538      -1.371       0.717\n",
            "RF                                        7.9919    375.024      0.021      0.983    -729.621     745.605\n",
            "SP500                                    -0.0103      0.008     -1.323      0.187      -0.026       0.005\n",
            "DEXJPUS                                  -0.3932      0.275     -1.432      0.153      -0.933       0.147\n",
            "DEXUSEU                                  -8.4465     46.557     -0.181      0.856    -100.016      83.123\n",
            "CBBTCUSD                                 -0.0001      0.000     -0.693      0.489      -0.000       0.000\n",
            "ADS_Index                                 3.5045      2.870      1.221      0.223      -2.141       9.150\n",
            "==============================================================================\n",
            "Omnibus:                      148.637   Durbin-Watson:                   1.985\n",
            "Prob(Omnibus):                  0.000   Jarque-Bera (JB):             1285.484\n",
            "Skew:                           1.357   Prob(JB):                    7.26e-280\n",
            "Kurtosis:                      11.446   Cond. No.                     1.66e+11\n",
            "==============================================================================\n",
            "\n",
            "Notes:\n",
            "[1] Standard Errors assume that the covariance matrix of the errors is correctly specified.\n",
            "[2] The condition number is large, 1.66e+11. This might indicate that there are\n",
            "strong multicollinearity or other numerical problems.\n"
          ]
        }
      ]
    },
    {
      "cell_type": "markdown",
      "source": [
        "## Elastic Net"
      ],
      "metadata": {
        "id": "63RfcEQnynVf"
      },
      "id": "63RfcEQnynVf"
    },
    {
      "cell_type": "code",
      "source": [
        "from sklearn.linear_model import ElasticNet\n",
        "\n",
        "a = [1.0]\n",
        "\n",
        "for a in a:\n",
        "  with mlflow.start_run():\n",
        "    model = ElasticNet(alpha=a, fit_intercept=False).fit(X_train, y_train)\n",
        "    selected_columns = X_train.columns[np.abs(model.coef_) >= 0.001]\n",
        "    X_train_selected = X_train[selected_columns]\n",
        "    X_test_selected = X_test[selected_columns]\n",
        "\n",
        "    # Fit an OLS model on the selected features\n",
        "    OLS_Model = sm.OLS(y_train, sm.add_constant(X_train_selected)).fit()\n",
        "    print(OLS_Model.summary())\n",
        "    # Make predictions on the test set\n",
        "    y_pred = OLS_Model.predict(sm.add_constant(X_test_selected))\n",
        "\n",
        "    # Calculate RMSE\n",
        "    MSE = mean_squared_error(y_test, y_pred)\n",
        "    RMSE = math.sqrt(MSE)\n",
        "\n",
        "    # Log metrics and tag the model\n",
        "    mlflow.set_tag(\"model\", \"ElasticNet\")\n",
        "    mlflow.log_metric(\"RMSE\", RMSE)"
      ],
      "metadata": {
        "id": "3AzAkQqM0A4F",
        "outputId": "e5bb1e61-5904-4e88-a26f-42f204ff96d2",
        "colab": {
          "base_uri": "https://localhost:8080/"
        }
      },
      "id": "3AzAkQqM0A4F",
      "execution_count": 17,
      "outputs": [
        {
          "output_type": "stream",
          "name": "stderr",
          "text": [
            "/usr/local/lib/python3.10/dist-packages/sklearn/linear_model/_coordinate_descent.py:631: ConvergenceWarning: Objective did not converge. You might want to increase the number of iterations, check the scale of the features or consider increasing regularisation. Duality gap: 1.423e+04, tolerance: 2.314e+03\n",
            "  model = cd_fast.enet_coordinate_descent(\n"
          ]
        },
        {
          "output_type": "stream",
          "name": "stdout",
          "text": [
            "                            OLS Regression Results                            \n",
            "==============================================================================\n",
            "Dep. Variable:                  Close   R-squared:                       0.991\n",
            "Model:                            OLS   Adj. R-squared:                  0.990\n",
            "Method:                 Least Squares   F-statistic:                     2128.\n",
            "Date:                Thu, 14 Dec 2023   Prob (F-statistic):               0.00\n",
            "Time:                        05:35:17   Log-Likelihood:                -1384.4\n",
            "No. Observations:                 392   AIC:                             2809.\n",
            "Df Residuals:                     372   BIC:                             2888.\n",
            "Df Model:                          19                                         \n",
            "Covariance Type:            nonrobust                                         \n",
            "=======================================================================================================\n",
            "                                          coef    std err          t      P>|t|      [0.025      0.975]\n",
            "-------------------------------------------------------------------------------------------------------\n",
            "const                                  54.5712     30.455      1.792      0.074      -5.315     114.457\n",
            "Adj Close                               0.9620      0.111      8.682      0.000       0.744       1.180\n",
            "Returns                                 0.1231      0.085      1.450      0.148      -0.044       0.290\n",
            "Momentum_AwesomeOscillatorIndicator    -0.0572      0.121     -0.474      0.636      -0.295       0.180\n",
            "Momentum_ROC                            0.1374      0.108      1.275      0.203      -0.074       0.349\n",
            "Momentum_RSI                           -0.1646      0.221     -0.745      0.457      -0.599       0.270\n",
            "Trend_ADX                              -0.0080      0.125     -0.064      0.949      -0.254       0.238\n",
            "Trend_AroonIndicator                    0.0187      0.019      0.998      0.319      -0.018       0.056\n",
            "Trend_CCI                               0.0083      0.016      0.523      0.601      -0.023       0.039\n",
            "Trend_DPO                              -0.0131      0.054     -0.241      0.810      -0.120       0.094\n",
            "Trend_EMA                               0.1022      0.223      0.458      0.647      -0.337       0.541\n",
            "Trend_MACD                             -0.1399      0.338     -0.414      0.679      -0.804       0.524\n",
            "Trend_MI                                1.1868      0.780      1.522      0.129      -0.347       2.720\n",
            "Volumne_EOM                            -0.0060      0.004     -1.344      0.180      -0.015       0.003\n",
            "Volumne_MFI                            -0.0146      0.081     -0.180      0.858      -0.174       0.145\n",
            "Volumne_VWAP                           -0.0069      0.188     -0.036      0.971      -0.376       0.363\n",
            "Volatility_BB                           0.0490      0.059      0.834      0.405      -0.066       0.164\n",
            "Volatility_UlcerIndex                  -0.2608      0.187     -1.395      0.164      -0.629       0.107\n",
            "SP500                                  -0.0178      0.005     -3.724      0.000      -0.027      -0.008\n",
            "DEXJPUS                                -0.0905      0.095     -0.957      0.339      -0.276       0.095\n",
            "==============================================================================\n",
            "Omnibus:                      188.892   Durbin-Watson:                   2.008\n",
            "Prob(Omnibus):                  0.000   Jarque-Bera (JB):             2622.405\n",
            "Skew:                           1.669   Prob(JB):                         0.00\n",
            "Kurtosis:                      15.224   Cond. No.                     2.95e+05\n",
            "==============================================================================\n",
            "\n",
            "Notes:\n",
            "[1] Standard Errors assume that the covariance matrix of the errors is correctly specified.\n",
            "[2] The condition number is large, 2.95e+05. This might indicate that there are\n",
            "strong multicollinearity or other numerical problems.\n"
          ]
        }
      ]
    },
    {
      "cell_type": "markdown",
      "source": [
        "## Least Angle Regression (LARS)"
      ],
      "metadata": {
        "id": "iYwzHzEN042-"
      },
      "id": "iYwzHzEN042-"
    },
    {
      "cell_type": "code",
      "source": [],
      "metadata": {
        "id": "Nrfn_gmFoGHl"
      },
      "id": "Nrfn_gmFoGHl",
      "execution_count": null,
      "outputs": []
    },
    {
      "cell_type": "code",
      "source": [
        "a = [0.5]\n",
        "\n",
        "for alpha_val in a:\n",
        "  with mlflow.start_run():\n",
        "    model = Lasso(alpha=alpha_val, fit_intercept=False).fit(X_train, y_train)\n",
        "    selected_columns = X_train.columns[np.abs(model.coef_) >= 0.001]\n",
        "    X_train_selected = X_train[selected_columns]\n",
        "    X_test_selected = X_test[selected_columns]\n",
        "\n",
        "    OLS_Model = sm.OLS(y_train, sm.add_constant(X_train_selected)).fit()\n",
        "    y_pred = OLS_Model.predict(sm.add_constant(X_test_selected))\n",
        "    corr_model = np.corrcoef(y_pred, y_test, rowvar=False)[0, 1]\n",
        "\n",
        "    MSE = mean_squared_error(y_test, y_pred)\n",
        "    RMSE = math.sqrt(MSE)\n",
        "\n",
        "    print(OLS_Model.summary())\n",
        "\n",
        "    mlflow.set_tag(\"model\", \"LARS\")\n",
        "    mlflow.log_metric(\"RMSE\", RMSE)\n"
      ],
      "metadata": {
        "id": "_dBI2gSqoGAK",
        "outputId": "d46fe0a3-497a-43a9-8c39-4e7a58a78c5b",
        "colab": {
          "base_uri": "https://localhost:8080/"
        }
      },
      "id": "_dBI2gSqoGAK",
      "execution_count": 22,
      "outputs": [
        {
          "output_type": "stream",
          "name": "stderr",
          "text": [
            "/usr/local/lib/python3.10/dist-packages/sklearn/linear_model/_coordinate_descent.py:631: ConvergenceWarning: Objective did not converge. You might want to increase the number of iterations, check the scale of the features or consider increasing regularisation. Duality gap: 1.412e+04, tolerance: 2.314e+03\n",
            "  model = cd_fast.enet_coordinate_descent(\n"
          ]
        },
        {
          "output_type": "stream",
          "name": "stdout",
          "text": [
            "                            OLS Regression Results                            \n",
            "==============================================================================\n",
            "Dep. Variable:                  Close   R-squared:                       0.991\n",
            "Model:                            OLS   Adj. R-squared:                  0.990\n",
            "Method:                 Least Squares   F-statistic:                     2251.\n",
            "Date:                Thu, 14 Dec 2023   Prob (F-statistic):               0.00\n",
            "Time:                        05:45:41   Log-Likelihood:                -1384.5\n",
            "No. Observations:                 392   AIC:                             2807.\n",
            "Df Residuals:                     373   BIC:                             2882.\n",
            "Df Model:                          18                                         \n",
            "Covariance Type:            nonrobust                                         \n",
            "=========================================================================================\n",
            "                            coef    std err          t      P>|t|      [0.025      0.975]\n",
            "-----------------------------------------------------------------------------------------\n",
            "const                    51.8302     29.869      1.735      0.084      -6.903     110.564\n",
            "Adj Close                 0.9432      0.103      9.127      0.000       0.740       1.146\n",
            "Returns                   0.1245      0.085      1.468      0.143      -0.042       0.291\n",
            "Momentum_ROC              0.1277      0.106      1.208      0.228      -0.080       0.335\n",
            "Momentum_RSI             -0.1190      0.199     -0.599      0.550      -0.510       0.272\n",
            "Trend_ADX                -0.0075      0.125     -0.060      0.952      -0.254       0.239\n",
            "Trend_AroonIndicator      0.0182      0.019      0.971      0.332      -0.019       0.055\n",
            "Trend_CCI                 0.0079      0.016      0.500      0.617      -0.023       0.039\n",
            "Trend_DPO                -0.0114      0.054     -0.210      0.834      -0.118       0.095\n",
            "Trend_EMA                 0.1125      0.222      0.507      0.613      -0.324       0.549\n",
            "Trend_MACD               -0.2637      0.214     -1.234      0.218      -0.684       0.157\n",
            "Trend_MI                  1.1272      0.769      1.466      0.144      -0.385       2.639\n",
            "Volumne_EOM              -0.0055      0.004     -1.270      0.205      -0.014       0.003\n",
            "Volumne_MFI              -0.0278      0.076     -0.365      0.715      -0.178       0.122\n",
            "Volumne_VWAP              0.0024      0.187      0.013      0.990      -0.365       0.370\n",
            "Volatility_BB             0.0423      0.057      0.743      0.458      -0.070       0.154\n",
            "Volatility_UlcerIndex    -0.2408      0.182     -1.324      0.186      -0.599       0.117\n",
            "SP500                    -0.0176      0.005     -3.701      0.000      -0.027      -0.008\n",
            "DEXJPUS                  -0.0788      0.091     -0.864      0.388      -0.258       0.100\n",
            "==============================================================================\n",
            "Omnibus:                      185.460   Durbin-Watson:                   2.006\n",
            "Prob(Omnibus):                  0.000   Jarque-Bera (JB):             2494.803\n",
            "Skew:                           1.638   Prob(JB):                         0.00\n",
            "Kurtosis:                      14.917   Cond. No.                     2.90e+05\n",
            "==============================================================================\n",
            "\n",
            "Notes:\n",
            "[1] Standard Errors assume that the covariance matrix of the errors is correctly specified.\n",
            "[2] The condition number is large, 2.9e+05. This might indicate that there are\n",
            "strong multicollinearity or other numerical problems.\n"
          ]
        }
      ]
    },
    {
      "cell_type": "markdown",
      "id": "96031b53",
      "metadata": {
        "id": "96031b53"
      },
      "source": [
        "# ---------XX---------------"
      ]
    }
  ],
  "metadata": {
    "interpreter": {
      "hash": "aee8b7b246df8f9039afb4144a1f6fd8d2ca17a180786b69acc140d282b71a49"
    },
    "kernelspec": {
      "display_name": "Python 3 (ipykernel)",
      "language": "python",
      "name": "python3"
    },
    "language_info": {
      "codemirror_mode": {
        "name": "ipython",
        "version": 3
      },
      "file_extension": ".py",
      "mimetype": "text/x-python",
      "name": "python",
      "nbconvert_exporter": "python",
      "pygments_lexer": "ipython3",
      "version": "3.10.12"
    },
    "colab": {
      "provenance": [],
      "toc_visible": true,
      "include_colab_link": true
    },
    "widgets": {
      "application/vnd.jupyter.widget-state+json": {
        "60831dd7bef44e7aa3c0a7533b20e8ad": {
          "model_module": "@jupyter-widgets/controls",
          "model_name": "HBoxModel",
          "model_module_version": "1.5.0",
          "state": {
            "_dom_classes": [],
            "_model_module": "@jupyter-widgets/controls",
            "_model_module_version": "1.5.0",
            "_model_name": "HBoxModel",
            "_view_count": null,
            "_view_module": "@jupyter-widgets/controls",
            "_view_module_version": "1.5.0",
            "_view_name": "HBoxView",
            "box_style": "",
            "children": [
              "IPY_MODEL_eed92208ab854a18975977f8dee01e54",
              "IPY_MODEL_df05ef9842bd4be2b6d40e1c4706ad2b",
              "IPY_MODEL_e206b7b843f24a1caa61674d0452c409"
            ],
            "layout": "IPY_MODEL_78596a5268824101b0b40dee04e46fb8"
          }
        },
        "eed92208ab854a18975977f8dee01e54": {
          "model_module": "@jupyter-widgets/controls",
          "model_name": "HTMLModel",
          "model_module_version": "1.5.0",
          "state": {
            "_dom_classes": [],
            "_model_module": "@jupyter-widgets/controls",
            "_model_module_version": "1.5.0",
            "_model_name": "HTMLModel",
            "_view_count": null,
            "_view_module": "@jupyter-widgets/controls",
            "_view_module_version": "1.5.0",
            "_view_name": "HTMLView",
            "description": "",
            "description_tooltip": null,
            "layout": "IPY_MODEL_111f6b34b1db472a9a540920df6c4752",
            "placeholder": "​",
            "style": "IPY_MODEL_85cbdef3b1084078b1229f617265d34c",
            "value": "Downloading artifacts: 100%"
          }
        },
        "df05ef9842bd4be2b6d40e1c4706ad2b": {
          "model_module": "@jupyter-widgets/controls",
          "model_name": "FloatProgressModel",
          "model_module_version": "1.5.0",
          "state": {
            "_dom_classes": [],
            "_model_module": "@jupyter-widgets/controls",
            "_model_module_version": "1.5.0",
            "_model_name": "FloatProgressModel",
            "_view_count": null,
            "_view_module": "@jupyter-widgets/controls",
            "_view_module_version": "1.5.0",
            "_view_name": "ProgressView",
            "bar_style": "success",
            "description": "",
            "description_tooltip": null,
            "layout": "IPY_MODEL_b66cba4d6eea4266bd2dc6a53df07787",
            "max": 5,
            "min": 0,
            "orientation": "horizontal",
            "style": "IPY_MODEL_5413334bebaf4da4bae378e995a25088",
            "value": 5
          }
        },
        "e206b7b843f24a1caa61674d0452c409": {
          "model_module": "@jupyter-widgets/controls",
          "model_name": "HTMLModel",
          "model_module_version": "1.5.0",
          "state": {
            "_dom_classes": [],
            "_model_module": "@jupyter-widgets/controls",
            "_model_module_version": "1.5.0",
            "_model_name": "HTMLModel",
            "_view_count": null,
            "_view_module": "@jupyter-widgets/controls",
            "_view_module_version": "1.5.0",
            "_view_name": "HTMLView",
            "description": "",
            "description_tooltip": null,
            "layout": "IPY_MODEL_1d2d046837ab44c5bc19a1b0e133b3a5",
            "placeholder": "​",
            "style": "IPY_MODEL_e347f171fe384837a87f55c965098c61",
            "value": " 5/5 [00:00&lt;00:00, 14.21it/s]"
          }
        },
        "78596a5268824101b0b40dee04e46fb8": {
          "model_module": "@jupyter-widgets/base",
          "model_name": "LayoutModel",
          "model_module_version": "1.2.0",
          "state": {
            "_model_module": "@jupyter-widgets/base",
            "_model_module_version": "1.2.0",
            "_model_name": "LayoutModel",
            "_view_count": null,
            "_view_module": "@jupyter-widgets/base",
            "_view_module_version": "1.2.0",
            "_view_name": "LayoutView",
            "align_content": null,
            "align_items": null,
            "align_self": null,
            "border": null,
            "bottom": null,
            "display": null,
            "flex": null,
            "flex_flow": null,
            "grid_area": null,
            "grid_auto_columns": null,
            "grid_auto_flow": null,
            "grid_auto_rows": null,
            "grid_column": null,
            "grid_gap": null,
            "grid_row": null,
            "grid_template_areas": null,
            "grid_template_columns": null,
            "grid_template_rows": null,
            "height": null,
            "justify_content": null,
            "justify_items": null,
            "left": null,
            "margin": null,
            "max_height": null,
            "max_width": null,
            "min_height": null,
            "min_width": null,
            "object_fit": null,
            "object_position": null,
            "order": null,
            "overflow": null,
            "overflow_x": null,
            "overflow_y": null,
            "padding": null,
            "right": null,
            "top": null,
            "visibility": null,
            "width": null
          }
        },
        "111f6b34b1db472a9a540920df6c4752": {
          "model_module": "@jupyter-widgets/base",
          "model_name": "LayoutModel",
          "model_module_version": "1.2.0",
          "state": {
            "_model_module": "@jupyter-widgets/base",
            "_model_module_version": "1.2.0",
            "_model_name": "LayoutModel",
            "_view_count": null,
            "_view_module": "@jupyter-widgets/base",
            "_view_module_version": "1.2.0",
            "_view_name": "LayoutView",
            "align_content": null,
            "align_items": null,
            "align_self": null,
            "border": null,
            "bottom": null,
            "display": null,
            "flex": null,
            "flex_flow": null,
            "grid_area": null,
            "grid_auto_columns": null,
            "grid_auto_flow": null,
            "grid_auto_rows": null,
            "grid_column": null,
            "grid_gap": null,
            "grid_row": null,
            "grid_template_areas": null,
            "grid_template_columns": null,
            "grid_template_rows": null,
            "height": null,
            "justify_content": null,
            "justify_items": null,
            "left": null,
            "margin": null,
            "max_height": null,
            "max_width": null,
            "min_height": null,
            "min_width": null,
            "object_fit": null,
            "object_position": null,
            "order": null,
            "overflow": null,
            "overflow_x": null,
            "overflow_y": null,
            "padding": null,
            "right": null,
            "top": null,
            "visibility": null,
            "width": null
          }
        },
        "85cbdef3b1084078b1229f617265d34c": {
          "model_module": "@jupyter-widgets/controls",
          "model_name": "DescriptionStyleModel",
          "model_module_version": "1.5.0",
          "state": {
            "_model_module": "@jupyter-widgets/controls",
            "_model_module_version": "1.5.0",
            "_model_name": "DescriptionStyleModel",
            "_view_count": null,
            "_view_module": "@jupyter-widgets/base",
            "_view_module_version": "1.2.0",
            "_view_name": "StyleView",
            "description_width": ""
          }
        },
        "b66cba4d6eea4266bd2dc6a53df07787": {
          "model_module": "@jupyter-widgets/base",
          "model_name": "LayoutModel",
          "model_module_version": "1.2.0",
          "state": {
            "_model_module": "@jupyter-widgets/base",
            "_model_module_version": "1.2.0",
            "_model_name": "LayoutModel",
            "_view_count": null,
            "_view_module": "@jupyter-widgets/base",
            "_view_module_version": "1.2.0",
            "_view_name": "LayoutView",
            "align_content": null,
            "align_items": null,
            "align_self": null,
            "border": null,
            "bottom": null,
            "display": null,
            "flex": null,
            "flex_flow": null,
            "grid_area": null,
            "grid_auto_columns": null,
            "grid_auto_flow": null,
            "grid_auto_rows": null,
            "grid_column": null,
            "grid_gap": null,
            "grid_row": null,
            "grid_template_areas": null,
            "grid_template_columns": null,
            "grid_template_rows": null,
            "height": null,
            "justify_content": null,
            "justify_items": null,
            "left": null,
            "margin": null,
            "max_height": null,
            "max_width": null,
            "min_height": null,
            "min_width": null,
            "object_fit": null,
            "object_position": null,
            "order": null,
            "overflow": null,
            "overflow_x": null,
            "overflow_y": null,
            "padding": null,
            "right": null,
            "top": null,
            "visibility": null,
            "width": null
          }
        },
        "5413334bebaf4da4bae378e995a25088": {
          "model_module": "@jupyter-widgets/controls",
          "model_name": "ProgressStyleModel",
          "model_module_version": "1.5.0",
          "state": {
            "_model_module": "@jupyter-widgets/controls",
            "_model_module_version": "1.5.0",
            "_model_name": "ProgressStyleModel",
            "_view_count": null,
            "_view_module": "@jupyter-widgets/base",
            "_view_module_version": "1.2.0",
            "_view_name": "StyleView",
            "bar_color": null,
            "description_width": ""
          }
        },
        "1d2d046837ab44c5bc19a1b0e133b3a5": {
          "model_module": "@jupyter-widgets/base",
          "model_name": "LayoutModel",
          "model_module_version": "1.2.0",
          "state": {
            "_model_module": "@jupyter-widgets/base",
            "_model_module_version": "1.2.0",
            "_model_name": "LayoutModel",
            "_view_count": null,
            "_view_module": "@jupyter-widgets/base",
            "_view_module_version": "1.2.0",
            "_view_name": "LayoutView",
            "align_content": null,
            "align_items": null,
            "align_self": null,
            "border": null,
            "bottom": null,
            "display": null,
            "flex": null,
            "flex_flow": null,
            "grid_area": null,
            "grid_auto_columns": null,
            "grid_auto_flow": null,
            "grid_auto_rows": null,
            "grid_column": null,
            "grid_gap": null,
            "grid_row": null,
            "grid_template_areas": null,
            "grid_template_columns": null,
            "grid_template_rows": null,
            "height": null,
            "justify_content": null,
            "justify_items": null,
            "left": null,
            "margin": null,
            "max_height": null,
            "max_width": null,
            "min_height": null,
            "min_width": null,
            "object_fit": null,
            "object_position": null,
            "order": null,
            "overflow": null,
            "overflow_x": null,
            "overflow_y": null,
            "padding": null,
            "right": null,
            "top": null,
            "visibility": null,
            "width": null
          }
        },
        "e347f171fe384837a87f55c965098c61": {
          "model_module": "@jupyter-widgets/controls",
          "model_name": "DescriptionStyleModel",
          "model_module_version": "1.5.0",
          "state": {
            "_model_module": "@jupyter-widgets/controls",
            "_model_module_version": "1.5.0",
            "_model_name": "DescriptionStyleModel",
            "_view_count": null,
            "_view_module": "@jupyter-widgets/base",
            "_view_module_version": "1.2.0",
            "_view_name": "StyleView",
            "description_width": ""
          }
        },
        "7093159a119b473ab7183f0024567d31": {
          "model_module": "@jupyter-widgets/controls",
          "model_name": "HBoxModel",
          "model_module_version": "1.5.0",
          "state": {
            "_dom_classes": [],
            "_model_module": "@jupyter-widgets/controls",
            "_model_module_version": "1.5.0",
            "_model_name": "HBoxModel",
            "_view_count": null,
            "_view_module": "@jupyter-widgets/controls",
            "_view_module_version": "1.5.0",
            "_view_name": "HBoxView",
            "box_style": "",
            "children": [
              "IPY_MODEL_efb6158bacd04944a2134ff09a5fda63",
              "IPY_MODEL_8cfab5a1de734e889dbc599c0b82a18d",
              "IPY_MODEL_0d7db912e128452ba6c5607978b8cd8f"
            ],
            "layout": "IPY_MODEL_a801103d35d041cba394ecb75013bd4e"
          }
        },
        "efb6158bacd04944a2134ff09a5fda63": {
          "model_module": "@jupyter-widgets/controls",
          "model_name": "HTMLModel",
          "model_module_version": "1.5.0",
          "state": {
            "_dom_classes": [],
            "_model_module": "@jupyter-widgets/controls",
            "_model_module_version": "1.5.0",
            "_model_name": "HTMLModel",
            "_view_count": null,
            "_view_module": "@jupyter-widgets/controls",
            "_view_module_version": "1.5.0",
            "_view_name": "HTMLView",
            "description": "",
            "description_tooltip": null,
            "layout": "IPY_MODEL_6c20245a301f41b4b393dcee86c0dc1e",
            "placeholder": "​",
            "style": "IPY_MODEL_22cfbf2b9bd845219e5aa6badef5c0b3",
            "value": "Downloading artifacts: 100%"
          }
        },
        "8cfab5a1de734e889dbc599c0b82a18d": {
          "model_module": "@jupyter-widgets/controls",
          "model_name": "FloatProgressModel",
          "model_module_version": "1.5.0",
          "state": {
            "_dom_classes": [],
            "_model_module": "@jupyter-widgets/controls",
            "_model_module_version": "1.5.0",
            "_model_name": "FloatProgressModel",
            "_view_count": null,
            "_view_module": "@jupyter-widgets/controls",
            "_view_module_version": "1.5.0",
            "_view_name": "ProgressView",
            "bar_style": "success",
            "description": "",
            "description_tooltip": null,
            "layout": "IPY_MODEL_0d7b7af4b144456a8f5743d672e263ed",
            "max": 5,
            "min": 0,
            "orientation": "horizontal",
            "style": "IPY_MODEL_006371977ae74e6b8aa7d5549cf6311b",
            "value": 5
          }
        },
        "0d7db912e128452ba6c5607978b8cd8f": {
          "model_module": "@jupyter-widgets/controls",
          "model_name": "HTMLModel",
          "model_module_version": "1.5.0",
          "state": {
            "_dom_classes": [],
            "_model_module": "@jupyter-widgets/controls",
            "_model_module_version": "1.5.0",
            "_model_name": "HTMLModel",
            "_view_count": null,
            "_view_module": "@jupyter-widgets/controls",
            "_view_module_version": "1.5.0",
            "_view_name": "HTMLView",
            "description": "",
            "description_tooltip": null,
            "layout": "IPY_MODEL_e592315c20254523ad57449a8c79febc",
            "placeholder": "​",
            "style": "IPY_MODEL_140ccfab0f894348b2ee7ea60685a0ca",
            "value": " 5/5 [00:00&lt;00:00,  8.98it/s]"
          }
        },
        "a801103d35d041cba394ecb75013bd4e": {
          "model_module": "@jupyter-widgets/base",
          "model_name": "LayoutModel",
          "model_module_version": "1.2.0",
          "state": {
            "_model_module": "@jupyter-widgets/base",
            "_model_module_version": "1.2.0",
            "_model_name": "LayoutModel",
            "_view_count": null,
            "_view_module": "@jupyter-widgets/base",
            "_view_module_version": "1.2.0",
            "_view_name": "LayoutView",
            "align_content": null,
            "align_items": null,
            "align_self": null,
            "border": null,
            "bottom": null,
            "display": null,
            "flex": null,
            "flex_flow": null,
            "grid_area": null,
            "grid_auto_columns": null,
            "grid_auto_flow": null,
            "grid_auto_rows": null,
            "grid_column": null,
            "grid_gap": null,
            "grid_row": null,
            "grid_template_areas": null,
            "grid_template_columns": null,
            "grid_template_rows": null,
            "height": null,
            "justify_content": null,
            "justify_items": null,
            "left": null,
            "margin": null,
            "max_height": null,
            "max_width": null,
            "min_height": null,
            "min_width": null,
            "object_fit": null,
            "object_position": null,
            "order": null,
            "overflow": null,
            "overflow_x": null,
            "overflow_y": null,
            "padding": null,
            "right": null,
            "top": null,
            "visibility": null,
            "width": null
          }
        },
        "6c20245a301f41b4b393dcee86c0dc1e": {
          "model_module": "@jupyter-widgets/base",
          "model_name": "LayoutModel",
          "model_module_version": "1.2.0",
          "state": {
            "_model_module": "@jupyter-widgets/base",
            "_model_module_version": "1.2.0",
            "_model_name": "LayoutModel",
            "_view_count": null,
            "_view_module": "@jupyter-widgets/base",
            "_view_module_version": "1.2.0",
            "_view_name": "LayoutView",
            "align_content": null,
            "align_items": null,
            "align_self": null,
            "border": null,
            "bottom": null,
            "display": null,
            "flex": null,
            "flex_flow": null,
            "grid_area": null,
            "grid_auto_columns": null,
            "grid_auto_flow": null,
            "grid_auto_rows": null,
            "grid_column": null,
            "grid_gap": null,
            "grid_row": null,
            "grid_template_areas": null,
            "grid_template_columns": null,
            "grid_template_rows": null,
            "height": null,
            "justify_content": null,
            "justify_items": null,
            "left": null,
            "margin": null,
            "max_height": null,
            "max_width": null,
            "min_height": null,
            "min_width": null,
            "object_fit": null,
            "object_position": null,
            "order": null,
            "overflow": null,
            "overflow_x": null,
            "overflow_y": null,
            "padding": null,
            "right": null,
            "top": null,
            "visibility": null,
            "width": null
          }
        },
        "22cfbf2b9bd845219e5aa6badef5c0b3": {
          "model_module": "@jupyter-widgets/controls",
          "model_name": "DescriptionStyleModel",
          "model_module_version": "1.5.0",
          "state": {
            "_model_module": "@jupyter-widgets/controls",
            "_model_module_version": "1.5.0",
            "_model_name": "DescriptionStyleModel",
            "_view_count": null,
            "_view_module": "@jupyter-widgets/base",
            "_view_module_version": "1.2.0",
            "_view_name": "StyleView",
            "description_width": ""
          }
        },
        "0d7b7af4b144456a8f5743d672e263ed": {
          "model_module": "@jupyter-widgets/base",
          "model_name": "LayoutModel",
          "model_module_version": "1.2.0",
          "state": {
            "_model_module": "@jupyter-widgets/base",
            "_model_module_version": "1.2.0",
            "_model_name": "LayoutModel",
            "_view_count": null,
            "_view_module": "@jupyter-widgets/base",
            "_view_module_version": "1.2.0",
            "_view_name": "LayoutView",
            "align_content": null,
            "align_items": null,
            "align_self": null,
            "border": null,
            "bottom": null,
            "display": null,
            "flex": null,
            "flex_flow": null,
            "grid_area": null,
            "grid_auto_columns": null,
            "grid_auto_flow": null,
            "grid_auto_rows": null,
            "grid_column": null,
            "grid_gap": null,
            "grid_row": null,
            "grid_template_areas": null,
            "grid_template_columns": null,
            "grid_template_rows": null,
            "height": null,
            "justify_content": null,
            "justify_items": null,
            "left": null,
            "margin": null,
            "max_height": null,
            "max_width": null,
            "min_height": null,
            "min_width": null,
            "object_fit": null,
            "object_position": null,
            "order": null,
            "overflow": null,
            "overflow_x": null,
            "overflow_y": null,
            "padding": null,
            "right": null,
            "top": null,
            "visibility": null,
            "width": null
          }
        },
        "006371977ae74e6b8aa7d5549cf6311b": {
          "model_module": "@jupyter-widgets/controls",
          "model_name": "ProgressStyleModel",
          "model_module_version": "1.5.0",
          "state": {
            "_model_module": "@jupyter-widgets/controls",
            "_model_module_version": "1.5.0",
            "_model_name": "ProgressStyleModel",
            "_view_count": null,
            "_view_module": "@jupyter-widgets/base",
            "_view_module_version": "1.2.0",
            "_view_name": "StyleView",
            "bar_color": null,
            "description_width": ""
          }
        },
        "e592315c20254523ad57449a8c79febc": {
          "model_module": "@jupyter-widgets/base",
          "model_name": "LayoutModel",
          "model_module_version": "1.2.0",
          "state": {
            "_model_module": "@jupyter-widgets/base",
            "_model_module_version": "1.2.0",
            "_model_name": "LayoutModel",
            "_view_count": null,
            "_view_module": "@jupyter-widgets/base",
            "_view_module_version": "1.2.0",
            "_view_name": "LayoutView",
            "align_content": null,
            "align_items": null,
            "align_self": null,
            "border": null,
            "bottom": null,
            "display": null,
            "flex": null,
            "flex_flow": null,
            "grid_area": null,
            "grid_auto_columns": null,
            "grid_auto_flow": null,
            "grid_auto_rows": null,
            "grid_column": null,
            "grid_gap": null,
            "grid_row": null,
            "grid_template_areas": null,
            "grid_template_columns": null,
            "grid_template_rows": null,
            "height": null,
            "justify_content": null,
            "justify_items": null,
            "left": null,
            "margin": null,
            "max_height": null,
            "max_width": null,
            "min_height": null,
            "min_width": null,
            "object_fit": null,
            "object_position": null,
            "order": null,
            "overflow": null,
            "overflow_x": null,
            "overflow_y": null,
            "padding": null,
            "right": null,
            "top": null,
            "visibility": null,
            "width": null
          }
        },
        "140ccfab0f894348b2ee7ea60685a0ca": {
          "model_module": "@jupyter-widgets/controls",
          "model_name": "DescriptionStyleModel",
          "model_module_version": "1.5.0",
          "state": {
            "_model_module": "@jupyter-widgets/controls",
            "_model_module_version": "1.5.0",
            "_model_name": "DescriptionStyleModel",
            "_view_count": null,
            "_view_module": "@jupyter-widgets/base",
            "_view_module_version": "1.2.0",
            "_view_name": "StyleView",
            "description_width": ""
          }
        },
        "a061157e5d1145e8a9bd2bd67104fee2": {
          "model_module": "@jupyter-widgets/controls",
          "model_name": "HBoxModel",
          "model_module_version": "1.5.0",
          "state": {
            "_dom_classes": [],
            "_model_module": "@jupyter-widgets/controls",
            "_model_module_version": "1.5.0",
            "_model_name": "HBoxModel",
            "_view_count": null,
            "_view_module": "@jupyter-widgets/controls",
            "_view_module_version": "1.5.0",
            "_view_name": "HBoxView",
            "box_style": "",
            "children": [
              "IPY_MODEL_bf0f5d23b5774708a8f07a7f0e5cdfd8",
              "IPY_MODEL_78d41127be7846da85a13f503f899d41",
              "IPY_MODEL_22f837b1fc5647719ae22b3bf1a1ca02"
            ],
            "layout": "IPY_MODEL_566c0a9ed6d04671a52135ffb5ce7adf"
          }
        },
        "bf0f5d23b5774708a8f07a7f0e5cdfd8": {
          "model_module": "@jupyter-widgets/controls",
          "model_name": "HTMLModel",
          "model_module_version": "1.5.0",
          "state": {
            "_dom_classes": [],
            "_model_module": "@jupyter-widgets/controls",
            "_model_module_version": "1.5.0",
            "_model_name": "HTMLModel",
            "_view_count": null,
            "_view_module": "@jupyter-widgets/controls",
            "_view_module_version": "1.5.0",
            "_view_name": "HTMLView",
            "description": "",
            "description_tooltip": null,
            "layout": "IPY_MODEL_1480c4abec8e4a9c9aa9ed7bdbba322e",
            "placeholder": "​",
            "style": "IPY_MODEL_4d9d8490c72741e4a3cfb8c7ab8b972b",
            "value": "Downloading artifacts: 100%"
          }
        },
        "78d41127be7846da85a13f503f899d41": {
          "model_module": "@jupyter-widgets/controls",
          "model_name": "FloatProgressModel",
          "model_module_version": "1.5.0",
          "state": {
            "_dom_classes": [],
            "_model_module": "@jupyter-widgets/controls",
            "_model_module_version": "1.5.0",
            "_model_name": "FloatProgressModel",
            "_view_count": null,
            "_view_module": "@jupyter-widgets/controls",
            "_view_module_version": "1.5.0",
            "_view_name": "ProgressView",
            "bar_style": "success",
            "description": "",
            "description_tooltip": null,
            "layout": "IPY_MODEL_0dce73668a6545d3bcacd6ea9e033788",
            "max": 5,
            "min": 0,
            "orientation": "horizontal",
            "style": "IPY_MODEL_957cbd51be924d81909102ed3cf17e35",
            "value": 5
          }
        },
        "22f837b1fc5647719ae22b3bf1a1ca02": {
          "model_module": "@jupyter-widgets/controls",
          "model_name": "HTMLModel",
          "model_module_version": "1.5.0",
          "state": {
            "_dom_classes": [],
            "_model_module": "@jupyter-widgets/controls",
            "_model_module_version": "1.5.0",
            "_model_name": "HTMLModel",
            "_view_count": null,
            "_view_module": "@jupyter-widgets/controls",
            "_view_module_version": "1.5.0",
            "_view_name": "HTMLView",
            "description": "",
            "description_tooltip": null,
            "layout": "IPY_MODEL_4f09801fef204ec6941238c48369ee75",
            "placeholder": "​",
            "style": "IPY_MODEL_bde97e5cc7024f0c88b19ee0a4ebdc08",
            "value": " 5/5 [00:00&lt;00:00,  7.36it/s]"
          }
        },
        "566c0a9ed6d04671a52135ffb5ce7adf": {
          "model_module": "@jupyter-widgets/base",
          "model_name": "LayoutModel",
          "model_module_version": "1.2.0",
          "state": {
            "_model_module": "@jupyter-widgets/base",
            "_model_module_version": "1.2.0",
            "_model_name": "LayoutModel",
            "_view_count": null,
            "_view_module": "@jupyter-widgets/base",
            "_view_module_version": "1.2.0",
            "_view_name": "LayoutView",
            "align_content": null,
            "align_items": null,
            "align_self": null,
            "border": null,
            "bottom": null,
            "display": null,
            "flex": null,
            "flex_flow": null,
            "grid_area": null,
            "grid_auto_columns": null,
            "grid_auto_flow": null,
            "grid_auto_rows": null,
            "grid_column": null,
            "grid_gap": null,
            "grid_row": null,
            "grid_template_areas": null,
            "grid_template_columns": null,
            "grid_template_rows": null,
            "height": null,
            "justify_content": null,
            "justify_items": null,
            "left": null,
            "margin": null,
            "max_height": null,
            "max_width": null,
            "min_height": null,
            "min_width": null,
            "object_fit": null,
            "object_position": null,
            "order": null,
            "overflow": null,
            "overflow_x": null,
            "overflow_y": null,
            "padding": null,
            "right": null,
            "top": null,
            "visibility": null,
            "width": null
          }
        },
        "1480c4abec8e4a9c9aa9ed7bdbba322e": {
          "model_module": "@jupyter-widgets/base",
          "model_name": "LayoutModel",
          "model_module_version": "1.2.0",
          "state": {
            "_model_module": "@jupyter-widgets/base",
            "_model_module_version": "1.2.0",
            "_model_name": "LayoutModel",
            "_view_count": null,
            "_view_module": "@jupyter-widgets/base",
            "_view_module_version": "1.2.0",
            "_view_name": "LayoutView",
            "align_content": null,
            "align_items": null,
            "align_self": null,
            "border": null,
            "bottom": null,
            "display": null,
            "flex": null,
            "flex_flow": null,
            "grid_area": null,
            "grid_auto_columns": null,
            "grid_auto_flow": null,
            "grid_auto_rows": null,
            "grid_column": null,
            "grid_gap": null,
            "grid_row": null,
            "grid_template_areas": null,
            "grid_template_columns": null,
            "grid_template_rows": null,
            "height": null,
            "justify_content": null,
            "justify_items": null,
            "left": null,
            "margin": null,
            "max_height": null,
            "max_width": null,
            "min_height": null,
            "min_width": null,
            "object_fit": null,
            "object_position": null,
            "order": null,
            "overflow": null,
            "overflow_x": null,
            "overflow_y": null,
            "padding": null,
            "right": null,
            "top": null,
            "visibility": null,
            "width": null
          }
        },
        "4d9d8490c72741e4a3cfb8c7ab8b972b": {
          "model_module": "@jupyter-widgets/controls",
          "model_name": "DescriptionStyleModel",
          "model_module_version": "1.5.0",
          "state": {
            "_model_module": "@jupyter-widgets/controls",
            "_model_module_version": "1.5.0",
            "_model_name": "DescriptionStyleModel",
            "_view_count": null,
            "_view_module": "@jupyter-widgets/base",
            "_view_module_version": "1.2.0",
            "_view_name": "StyleView",
            "description_width": ""
          }
        },
        "0dce73668a6545d3bcacd6ea9e033788": {
          "model_module": "@jupyter-widgets/base",
          "model_name": "LayoutModel",
          "model_module_version": "1.2.0",
          "state": {
            "_model_module": "@jupyter-widgets/base",
            "_model_module_version": "1.2.0",
            "_model_name": "LayoutModel",
            "_view_count": null,
            "_view_module": "@jupyter-widgets/base",
            "_view_module_version": "1.2.0",
            "_view_name": "LayoutView",
            "align_content": null,
            "align_items": null,
            "align_self": null,
            "border": null,
            "bottom": null,
            "display": null,
            "flex": null,
            "flex_flow": null,
            "grid_area": null,
            "grid_auto_columns": null,
            "grid_auto_flow": null,
            "grid_auto_rows": null,
            "grid_column": null,
            "grid_gap": null,
            "grid_row": null,
            "grid_template_areas": null,
            "grid_template_columns": null,
            "grid_template_rows": null,
            "height": null,
            "justify_content": null,
            "justify_items": null,
            "left": null,
            "margin": null,
            "max_height": null,
            "max_width": null,
            "min_height": null,
            "min_width": null,
            "object_fit": null,
            "object_position": null,
            "order": null,
            "overflow": null,
            "overflow_x": null,
            "overflow_y": null,
            "padding": null,
            "right": null,
            "top": null,
            "visibility": null,
            "width": null
          }
        },
        "957cbd51be924d81909102ed3cf17e35": {
          "model_module": "@jupyter-widgets/controls",
          "model_name": "ProgressStyleModel",
          "model_module_version": "1.5.0",
          "state": {
            "_model_module": "@jupyter-widgets/controls",
            "_model_module_version": "1.5.0",
            "_model_name": "ProgressStyleModel",
            "_view_count": null,
            "_view_module": "@jupyter-widgets/base",
            "_view_module_version": "1.2.0",
            "_view_name": "StyleView",
            "bar_color": null,
            "description_width": ""
          }
        },
        "4f09801fef204ec6941238c48369ee75": {
          "model_module": "@jupyter-widgets/base",
          "model_name": "LayoutModel",
          "model_module_version": "1.2.0",
          "state": {
            "_model_module": "@jupyter-widgets/base",
            "_model_module_version": "1.2.0",
            "_model_name": "LayoutModel",
            "_view_count": null,
            "_view_module": "@jupyter-widgets/base",
            "_view_module_version": "1.2.0",
            "_view_name": "LayoutView",
            "align_content": null,
            "align_items": null,
            "align_self": null,
            "border": null,
            "bottom": null,
            "display": null,
            "flex": null,
            "flex_flow": null,
            "grid_area": null,
            "grid_auto_columns": null,
            "grid_auto_flow": null,
            "grid_auto_rows": null,
            "grid_column": null,
            "grid_gap": null,
            "grid_row": null,
            "grid_template_areas": null,
            "grid_template_columns": null,
            "grid_template_rows": null,
            "height": null,
            "justify_content": null,
            "justify_items": null,
            "left": null,
            "margin": null,
            "max_height": null,
            "max_width": null,
            "min_height": null,
            "min_width": null,
            "object_fit": null,
            "object_position": null,
            "order": null,
            "overflow": null,
            "overflow_x": null,
            "overflow_y": null,
            "padding": null,
            "right": null,
            "top": null,
            "visibility": null,
            "width": null
          }
        },
        "bde97e5cc7024f0c88b19ee0a4ebdc08": {
          "model_module": "@jupyter-widgets/controls",
          "model_name": "DescriptionStyleModel",
          "model_module_version": "1.5.0",
          "state": {
            "_model_module": "@jupyter-widgets/controls",
            "_model_module_version": "1.5.0",
            "_model_name": "DescriptionStyleModel",
            "_view_count": null,
            "_view_module": "@jupyter-widgets/base",
            "_view_module_version": "1.2.0",
            "_view_name": "StyleView",
            "description_width": ""
          }
        },
        "652d0eebf3bf41b28ac7b368fc3ee44f": {
          "model_module": "@jupyter-widgets/controls",
          "model_name": "HBoxModel",
          "model_module_version": "1.5.0",
          "state": {
            "_dom_classes": [],
            "_model_module": "@jupyter-widgets/controls",
            "_model_module_version": "1.5.0",
            "_model_name": "HBoxModel",
            "_view_count": null,
            "_view_module": "@jupyter-widgets/controls",
            "_view_module_version": "1.5.0",
            "_view_name": "HBoxView",
            "box_style": "",
            "children": [
              "IPY_MODEL_b0a3e6bd80144286b7a53e247b77f3b9",
              "IPY_MODEL_31954cf263ed460daf1d3971d75f9649",
              "IPY_MODEL_aa45652725a74d30b589ca60cbb8322f"
            ],
            "layout": "IPY_MODEL_b46129afb9e946cd8d5adc37c29a9bd8"
          }
        },
        "b0a3e6bd80144286b7a53e247b77f3b9": {
          "model_module": "@jupyter-widgets/controls",
          "model_name": "HTMLModel",
          "model_module_version": "1.5.0",
          "state": {
            "_dom_classes": [],
            "_model_module": "@jupyter-widgets/controls",
            "_model_module_version": "1.5.0",
            "_model_name": "HTMLModel",
            "_view_count": null,
            "_view_module": "@jupyter-widgets/controls",
            "_view_module_version": "1.5.0",
            "_view_name": "HTMLView",
            "description": "",
            "description_tooltip": null,
            "layout": "IPY_MODEL_186161ce13fc4c788c24bbaecfa8a47b",
            "placeholder": "​",
            "style": "IPY_MODEL_e54d010464c1436ca8aabfcf1d4cf682",
            "value": "Downloading artifacts: 100%"
          }
        },
        "31954cf263ed460daf1d3971d75f9649": {
          "model_module": "@jupyter-widgets/controls",
          "model_name": "FloatProgressModel",
          "model_module_version": "1.5.0",
          "state": {
            "_dom_classes": [],
            "_model_module": "@jupyter-widgets/controls",
            "_model_module_version": "1.5.0",
            "_model_name": "FloatProgressModel",
            "_view_count": null,
            "_view_module": "@jupyter-widgets/controls",
            "_view_module_version": "1.5.0",
            "_view_name": "ProgressView",
            "bar_style": "success",
            "description": "",
            "description_tooltip": null,
            "layout": "IPY_MODEL_e205a33bcc1e4674944325c796103a23",
            "max": 5,
            "min": 0,
            "orientation": "horizontal",
            "style": "IPY_MODEL_5db552496d7f4dcfbb4e01ec967bd3db",
            "value": 5
          }
        },
        "aa45652725a74d30b589ca60cbb8322f": {
          "model_module": "@jupyter-widgets/controls",
          "model_name": "HTMLModel",
          "model_module_version": "1.5.0",
          "state": {
            "_dom_classes": [],
            "_model_module": "@jupyter-widgets/controls",
            "_model_module_version": "1.5.0",
            "_model_name": "HTMLModel",
            "_view_count": null,
            "_view_module": "@jupyter-widgets/controls",
            "_view_module_version": "1.5.0",
            "_view_name": "HTMLView",
            "description": "",
            "description_tooltip": null,
            "layout": "IPY_MODEL_30190c76c891463499b8ce82b93c54e9",
            "placeholder": "​",
            "style": "IPY_MODEL_55f30b8e6ae54868889edc3f5b6fee98",
            "value": " 5/5 [00:00&lt;00:00, 17.05it/s]"
          }
        },
        "b46129afb9e946cd8d5adc37c29a9bd8": {
          "model_module": "@jupyter-widgets/base",
          "model_name": "LayoutModel",
          "model_module_version": "1.2.0",
          "state": {
            "_model_module": "@jupyter-widgets/base",
            "_model_module_version": "1.2.0",
            "_model_name": "LayoutModel",
            "_view_count": null,
            "_view_module": "@jupyter-widgets/base",
            "_view_module_version": "1.2.0",
            "_view_name": "LayoutView",
            "align_content": null,
            "align_items": null,
            "align_self": null,
            "border": null,
            "bottom": null,
            "display": null,
            "flex": null,
            "flex_flow": null,
            "grid_area": null,
            "grid_auto_columns": null,
            "grid_auto_flow": null,
            "grid_auto_rows": null,
            "grid_column": null,
            "grid_gap": null,
            "grid_row": null,
            "grid_template_areas": null,
            "grid_template_columns": null,
            "grid_template_rows": null,
            "height": null,
            "justify_content": null,
            "justify_items": null,
            "left": null,
            "margin": null,
            "max_height": null,
            "max_width": null,
            "min_height": null,
            "min_width": null,
            "object_fit": null,
            "object_position": null,
            "order": null,
            "overflow": null,
            "overflow_x": null,
            "overflow_y": null,
            "padding": null,
            "right": null,
            "top": null,
            "visibility": null,
            "width": null
          }
        },
        "186161ce13fc4c788c24bbaecfa8a47b": {
          "model_module": "@jupyter-widgets/base",
          "model_name": "LayoutModel",
          "model_module_version": "1.2.0",
          "state": {
            "_model_module": "@jupyter-widgets/base",
            "_model_module_version": "1.2.0",
            "_model_name": "LayoutModel",
            "_view_count": null,
            "_view_module": "@jupyter-widgets/base",
            "_view_module_version": "1.2.0",
            "_view_name": "LayoutView",
            "align_content": null,
            "align_items": null,
            "align_self": null,
            "border": null,
            "bottom": null,
            "display": null,
            "flex": null,
            "flex_flow": null,
            "grid_area": null,
            "grid_auto_columns": null,
            "grid_auto_flow": null,
            "grid_auto_rows": null,
            "grid_column": null,
            "grid_gap": null,
            "grid_row": null,
            "grid_template_areas": null,
            "grid_template_columns": null,
            "grid_template_rows": null,
            "height": null,
            "justify_content": null,
            "justify_items": null,
            "left": null,
            "margin": null,
            "max_height": null,
            "max_width": null,
            "min_height": null,
            "min_width": null,
            "object_fit": null,
            "object_position": null,
            "order": null,
            "overflow": null,
            "overflow_x": null,
            "overflow_y": null,
            "padding": null,
            "right": null,
            "top": null,
            "visibility": null,
            "width": null
          }
        },
        "e54d010464c1436ca8aabfcf1d4cf682": {
          "model_module": "@jupyter-widgets/controls",
          "model_name": "DescriptionStyleModel",
          "model_module_version": "1.5.0",
          "state": {
            "_model_module": "@jupyter-widgets/controls",
            "_model_module_version": "1.5.0",
            "_model_name": "DescriptionStyleModel",
            "_view_count": null,
            "_view_module": "@jupyter-widgets/base",
            "_view_module_version": "1.2.0",
            "_view_name": "StyleView",
            "description_width": ""
          }
        },
        "e205a33bcc1e4674944325c796103a23": {
          "model_module": "@jupyter-widgets/base",
          "model_name": "LayoutModel",
          "model_module_version": "1.2.0",
          "state": {
            "_model_module": "@jupyter-widgets/base",
            "_model_module_version": "1.2.0",
            "_model_name": "LayoutModel",
            "_view_count": null,
            "_view_module": "@jupyter-widgets/base",
            "_view_module_version": "1.2.0",
            "_view_name": "LayoutView",
            "align_content": null,
            "align_items": null,
            "align_self": null,
            "border": null,
            "bottom": null,
            "display": null,
            "flex": null,
            "flex_flow": null,
            "grid_area": null,
            "grid_auto_columns": null,
            "grid_auto_flow": null,
            "grid_auto_rows": null,
            "grid_column": null,
            "grid_gap": null,
            "grid_row": null,
            "grid_template_areas": null,
            "grid_template_columns": null,
            "grid_template_rows": null,
            "height": null,
            "justify_content": null,
            "justify_items": null,
            "left": null,
            "margin": null,
            "max_height": null,
            "max_width": null,
            "min_height": null,
            "min_width": null,
            "object_fit": null,
            "object_position": null,
            "order": null,
            "overflow": null,
            "overflow_x": null,
            "overflow_y": null,
            "padding": null,
            "right": null,
            "top": null,
            "visibility": null,
            "width": null
          }
        },
        "5db552496d7f4dcfbb4e01ec967bd3db": {
          "model_module": "@jupyter-widgets/controls",
          "model_name": "ProgressStyleModel",
          "model_module_version": "1.5.0",
          "state": {
            "_model_module": "@jupyter-widgets/controls",
            "_model_module_version": "1.5.0",
            "_model_name": "ProgressStyleModel",
            "_view_count": null,
            "_view_module": "@jupyter-widgets/base",
            "_view_module_version": "1.2.0",
            "_view_name": "StyleView",
            "bar_color": null,
            "description_width": ""
          }
        },
        "30190c76c891463499b8ce82b93c54e9": {
          "model_module": "@jupyter-widgets/base",
          "model_name": "LayoutModel",
          "model_module_version": "1.2.0",
          "state": {
            "_model_module": "@jupyter-widgets/base",
            "_model_module_version": "1.2.0",
            "_model_name": "LayoutModel",
            "_view_count": null,
            "_view_module": "@jupyter-widgets/base",
            "_view_module_version": "1.2.0",
            "_view_name": "LayoutView",
            "align_content": null,
            "align_items": null,
            "align_self": null,
            "border": null,
            "bottom": null,
            "display": null,
            "flex": null,
            "flex_flow": null,
            "grid_area": null,
            "grid_auto_columns": null,
            "grid_auto_flow": null,
            "grid_auto_rows": null,
            "grid_column": null,
            "grid_gap": null,
            "grid_row": null,
            "grid_template_areas": null,
            "grid_template_columns": null,
            "grid_template_rows": null,
            "height": null,
            "justify_content": null,
            "justify_items": null,
            "left": null,
            "margin": null,
            "max_height": null,
            "max_width": null,
            "min_height": null,
            "min_width": null,
            "object_fit": null,
            "object_position": null,
            "order": null,
            "overflow": null,
            "overflow_x": null,
            "overflow_y": null,
            "padding": null,
            "right": null,
            "top": null,
            "visibility": null,
            "width": null
          }
        },
        "55f30b8e6ae54868889edc3f5b6fee98": {
          "model_module": "@jupyter-widgets/controls",
          "model_name": "DescriptionStyleModel",
          "model_module_version": "1.5.0",
          "state": {
            "_model_module": "@jupyter-widgets/controls",
            "_model_module_version": "1.5.0",
            "_model_name": "DescriptionStyleModel",
            "_view_count": null,
            "_view_module": "@jupyter-widgets/base",
            "_view_module_version": "1.2.0",
            "_view_name": "StyleView",
            "description_width": ""
          }
        }
      }
    }
  },
  "nbformat": 4,
  "nbformat_minor": 5
}