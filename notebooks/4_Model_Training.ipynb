{
  "cells": [
    {
      "cell_type": "markdown",
      "metadata": {
        "id": "view-in-github",
        "colab_type": "text"
      },
      "source": [
        "<a href=\"https://colab.research.google.com/github/piyush-an/INFO7374_Predict_StockPrice/blob/main/notebooks/4_Model_Training.ipynb\" target=\"_parent\"><img src=\"https://colab.research.google.com/assets/colab-badge.svg\" alt=\"Open In Colab\"/></a>"
      ]
    },
    {
      "cell_type": "markdown",
      "id": "48dfc132",
      "metadata": {
        "id": "48dfc132"
      },
      "source": [
        "# Part - 4: Proposed and train 3-6 models\n",
        " - Compare the model performance using RMSE between the fitted Y and actual Y in testing period"
      ]
    },
    {
      "cell_type": "markdown",
      "id": "16143eb6",
      "metadata": {
        "id": "16143eb6"
      },
      "source": [
        "## Importing libraries"
      ]
    },
    {
      "cell_type": "code",
      "execution_count": 111,
      "id": "vXEEiDhOGhNV",
      "metadata": {
        "id": "vXEEiDhOGhNV"
      },
      "outputs": [],
      "source": [
        "# %%bash\n",
        "\n",
        "# pip install pandas yfinance ta seaborn matplotlib pandas-datareader jinja2 fredapi openpyxl xgboost scikit-learn statsmodels mlflow\n"
      ]
    },
    {
      "cell_type": "code",
      "execution_count": 112,
      "id": "b78bb749",
      "metadata": {
        "id": "b78bb749"
      },
      "outputs": [],
      "source": [
        "import numpy as np\n",
        "import pandas as pd\n",
        "from datetime import datetime\n",
        "import yfinance as yf\n",
        "import matplotlib.pyplot as plt\n",
        "import seaborn as sns\n",
        "import scipy.stats as ss\n",
        "from sklearn import linear_model\n",
        "import statsmodels.api as sm\n",
        "from sklearn.model_selection import cross_val_score\n",
        "from sklearn.ensemble import RandomForestRegressor\n",
        "from sklearn.metrics import mean_squared_error\n",
        "import math\n",
        "import xgboost as xgb\n",
        "from xgboost import XGBRegressor\n",
        "from sklearn.linear_model import Lasso\n",
        "from sklearn.preprocessing import StandardScaler\n",
        "from hyperopt import fmin, tpe, hp, STATUS_OK, Trials\n",
        "from hyperopt.pyll import scope\n",
        "\n",
        "pd.set_option(\"display.max_columns\", None)\n",
        "plt.rcParams[\"figure.figsize\"] = (15, 20)"
      ]
    },
    {
      "cell_type": "markdown",
      "id": "Laae4IIL45eI",
      "metadata": {
        "id": "Laae4IIL45eI"
      },
      "source": [
        "## MLFlow Experiment Tracking"
      ]
    },
    {
      "cell_type": "code",
      "execution_count": 113,
      "id": "2f1011ed",
      "metadata": {
        "id": "2f1011ed"
      },
      "outputs": [],
      "source": [
        "import mlflow\n",
        "from mlflow.entities import ViewType\n",
        "from mlflow.tracking import MlflowClient\n",
        "\n",
        "MLFLOW_TRACKING_URI = \"http://mlflow.anandpiyush.com\"\n",
        "SET_EXPERIMENT = \"INFO7374_team_nvdia\"\n",
        "EXPERIMENT_ID = \"5\"\n",
        "\n",
        "mlflow.set_tracking_uri(MLFLOW_TRACKING_URI)\n",
        "mlflow.set_experiment(SET_EXPERIMENT)\n",
        "client = MlflowClient(tracking_uri=MLFLOW_TRACKING_URI)\n",
        "mlflow.sklearn.autolog(silent=True)\n",
        "mlflow.xgboost.autolog(silent=True)\n",
        "mlflow.statsmodels.autolog()"
      ]
    },
    {
      "cell_type": "markdown",
      "id": "KLuuWXZj7gFl",
      "metadata": {
        "id": "KLuuWXZj7gFl"
      },
      "source": [
        "## NVIDIA Latest Prices"
      ]
    },
    {
      "cell_type": "code",
      "execution_count": 114,
      "id": "Yj0sigRl7l-N",
      "metadata": {
        "colab": {
          "base_uri": "https://localhost:8080/",
          "height": 256
        },
        "id": "Yj0sigRl7l-N",
        "outputId": "91252cd2-136f-43db-9726-c09e627ea53c"
      },
      "outputs": [
        {
          "output_type": "stream",
          "name": "stdout",
          "text": [
            "\r[*********************100%%**********************]  1 of 1 completed\n"
          ]
        },
        {
          "output_type": "execute_result",
          "data": {
            "text/plain": [
              "                  Open        High         Low       Close   Adj Close  \\\n",
              "Date                                                                     \n",
              "2023-07-03  425.170013  428.980011  422.019989  424.130005  424.057770   \n",
              "2023-07-05  421.350006  431.769989  420.850006  423.170013  423.097961   \n",
              "2023-07-06  418.440002  421.790009  413.459991  421.029999  420.958313   \n",
              "2023-07-07  423.220001  432.140015  421.799988  425.029999  424.957642   \n",
              "2023-07-10  426.570007  428.109985  416.489990  421.799988  421.728149   \n",
              "\n",
              "              Volume  \n",
              "Date                  \n",
              "2023-07-03  19820900  \n",
              "2023-07-05  32361800  \n",
              "2023-07-06  30358200  \n",
              "2023-07-07  35525300  \n",
              "2023-07-10  35390800  "
            ],
            "text/html": [
              "\n",
              "  <div id=\"df-df3bef34-60f2-4c36-adeb-2866959aa007\" class=\"colab-df-container\">\n",
              "    <div>\n",
              "<style scoped>\n",
              "    .dataframe tbody tr th:only-of-type {\n",
              "        vertical-align: middle;\n",
              "    }\n",
              "\n",
              "    .dataframe tbody tr th {\n",
              "        vertical-align: top;\n",
              "    }\n",
              "\n",
              "    .dataframe thead th {\n",
              "        text-align: right;\n",
              "    }\n",
              "</style>\n",
              "<table border=\"1\" class=\"dataframe\">\n",
              "  <thead>\n",
              "    <tr style=\"text-align: right;\">\n",
              "      <th></th>\n",
              "      <th>Open</th>\n",
              "      <th>High</th>\n",
              "      <th>Low</th>\n",
              "      <th>Close</th>\n",
              "      <th>Adj Close</th>\n",
              "      <th>Volume</th>\n",
              "    </tr>\n",
              "    <tr>\n",
              "      <th>Date</th>\n",
              "      <th></th>\n",
              "      <th></th>\n",
              "      <th></th>\n",
              "      <th></th>\n",
              "      <th></th>\n",
              "      <th></th>\n",
              "    </tr>\n",
              "  </thead>\n",
              "  <tbody>\n",
              "    <tr>\n",
              "      <th>2023-07-03</th>\n",
              "      <td>425.170013</td>\n",
              "      <td>428.980011</td>\n",
              "      <td>422.019989</td>\n",
              "      <td>424.130005</td>\n",
              "      <td>424.057770</td>\n",
              "      <td>19820900</td>\n",
              "    </tr>\n",
              "    <tr>\n",
              "      <th>2023-07-05</th>\n",
              "      <td>421.350006</td>\n",
              "      <td>431.769989</td>\n",
              "      <td>420.850006</td>\n",
              "      <td>423.170013</td>\n",
              "      <td>423.097961</td>\n",
              "      <td>32361800</td>\n",
              "    </tr>\n",
              "    <tr>\n",
              "      <th>2023-07-06</th>\n",
              "      <td>418.440002</td>\n",
              "      <td>421.790009</td>\n",
              "      <td>413.459991</td>\n",
              "      <td>421.029999</td>\n",
              "      <td>420.958313</td>\n",
              "      <td>30358200</td>\n",
              "    </tr>\n",
              "    <tr>\n",
              "      <th>2023-07-07</th>\n",
              "      <td>423.220001</td>\n",
              "      <td>432.140015</td>\n",
              "      <td>421.799988</td>\n",
              "      <td>425.029999</td>\n",
              "      <td>424.957642</td>\n",
              "      <td>35525300</td>\n",
              "    </tr>\n",
              "    <tr>\n",
              "      <th>2023-07-10</th>\n",
              "      <td>426.570007</td>\n",
              "      <td>428.109985</td>\n",
              "      <td>416.489990</td>\n",
              "      <td>421.799988</td>\n",
              "      <td>421.728149</td>\n",
              "      <td>35390800</td>\n",
              "    </tr>\n",
              "  </tbody>\n",
              "</table>\n",
              "</div>\n",
              "    <div class=\"colab-df-buttons\">\n",
              "\n",
              "  <div class=\"colab-df-container\">\n",
              "    <button class=\"colab-df-convert\" onclick=\"convertToInteractive('df-df3bef34-60f2-4c36-adeb-2866959aa007')\"\n",
              "            title=\"Convert this dataframe to an interactive table.\"\n",
              "            style=\"display:none;\">\n",
              "\n",
              "  <svg xmlns=\"http://www.w3.org/2000/svg\" height=\"24px\" viewBox=\"0 -960 960 960\">\n",
              "    <path d=\"M120-120v-720h720v720H120Zm60-500h600v-160H180v160Zm220 220h160v-160H400v160Zm0 220h160v-160H400v160ZM180-400h160v-160H180v160Zm440 0h160v-160H620v160ZM180-180h160v-160H180v160Zm440 0h160v-160H620v160Z\"/>\n",
              "  </svg>\n",
              "    </button>\n",
              "\n",
              "  <style>\n",
              "    .colab-df-container {\n",
              "      display:flex;\n",
              "      gap: 12px;\n",
              "    }\n",
              "\n",
              "    .colab-df-convert {\n",
              "      background-color: #E8F0FE;\n",
              "      border: none;\n",
              "      border-radius: 50%;\n",
              "      cursor: pointer;\n",
              "      display: none;\n",
              "      fill: #1967D2;\n",
              "      height: 32px;\n",
              "      padding: 0 0 0 0;\n",
              "      width: 32px;\n",
              "    }\n",
              "\n",
              "    .colab-df-convert:hover {\n",
              "      background-color: #E2EBFA;\n",
              "      box-shadow: 0px 1px 2px rgba(60, 64, 67, 0.3), 0px 1px 3px 1px rgba(60, 64, 67, 0.15);\n",
              "      fill: #174EA6;\n",
              "    }\n",
              "\n",
              "    .colab-df-buttons div {\n",
              "      margin-bottom: 4px;\n",
              "    }\n",
              "\n",
              "    [theme=dark] .colab-df-convert {\n",
              "      background-color: #3B4455;\n",
              "      fill: #D2E3FC;\n",
              "    }\n",
              "\n",
              "    [theme=dark] .colab-df-convert:hover {\n",
              "      background-color: #434B5C;\n",
              "      box-shadow: 0px 1px 3px 1px rgba(0, 0, 0, 0.15);\n",
              "      filter: drop-shadow(0px 1px 2px rgba(0, 0, 0, 0.3));\n",
              "      fill: #FFFFFF;\n",
              "    }\n",
              "  </style>\n",
              "\n",
              "    <script>\n",
              "      const buttonEl =\n",
              "        document.querySelector('#df-df3bef34-60f2-4c36-adeb-2866959aa007 button.colab-df-convert');\n",
              "      buttonEl.style.display =\n",
              "        google.colab.kernel.accessAllowed ? 'block' : 'none';\n",
              "\n",
              "      async function convertToInteractive(key) {\n",
              "        const element = document.querySelector('#df-df3bef34-60f2-4c36-adeb-2866959aa007');\n",
              "        const dataTable =\n",
              "          await google.colab.kernel.invokeFunction('convertToInteractive',\n",
              "                                                    [key], {});\n",
              "        if (!dataTable) return;\n",
              "\n",
              "        const docLinkHtml = 'Like what you see? Visit the ' +\n",
              "          '<a target=\"_blank\" href=https://colab.research.google.com/notebooks/data_table.ipynb>data table notebook</a>'\n",
              "          + ' to learn more about interactive tables.';\n",
              "        element.innerHTML = '';\n",
              "        dataTable['output_type'] = 'display_data';\n",
              "        await google.colab.output.renderOutput(dataTable, element);\n",
              "        const docLink = document.createElement('div');\n",
              "        docLink.innerHTML = docLinkHtml;\n",
              "        element.appendChild(docLink);\n",
              "      }\n",
              "    </script>\n",
              "  </div>\n",
              "\n",
              "\n",
              "<div id=\"df-c5884544-994a-42ed-b41a-d3d704d01250\">\n",
              "  <button class=\"colab-df-quickchart\" onclick=\"quickchart('df-c5884544-994a-42ed-b41a-d3d704d01250')\"\n",
              "            title=\"Suggest charts\"\n",
              "            style=\"display:none;\">\n",
              "\n",
              "<svg xmlns=\"http://www.w3.org/2000/svg\" height=\"24px\"viewBox=\"0 0 24 24\"\n",
              "     width=\"24px\">\n",
              "    <g>\n",
              "        <path d=\"M19 3H5c-1.1 0-2 .9-2 2v14c0 1.1.9 2 2 2h14c1.1 0 2-.9 2-2V5c0-1.1-.9-2-2-2zM9 17H7v-7h2v7zm4 0h-2V7h2v10zm4 0h-2v-4h2v4z\"/>\n",
              "    </g>\n",
              "</svg>\n",
              "  </button>\n",
              "\n",
              "<style>\n",
              "  .colab-df-quickchart {\n",
              "      --bg-color: #E8F0FE;\n",
              "      --fill-color: #1967D2;\n",
              "      --hover-bg-color: #E2EBFA;\n",
              "      --hover-fill-color: #174EA6;\n",
              "      --disabled-fill-color: #AAA;\n",
              "      --disabled-bg-color: #DDD;\n",
              "  }\n",
              "\n",
              "  [theme=dark] .colab-df-quickchart {\n",
              "      --bg-color: #3B4455;\n",
              "      --fill-color: #D2E3FC;\n",
              "      --hover-bg-color: #434B5C;\n",
              "      --hover-fill-color: #FFFFFF;\n",
              "      --disabled-bg-color: #3B4455;\n",
              "      --disabled-fill-color: #666;\n",
              "  }\n",
              "\n",
              "  .colab-df-quickchart {\n",
              "    background-color: var(--bg-color);\n",
              "    border: none;\n",
              "    border-radius: 50%;\n",
              "    cursor: pointer;\n",
              "    display: none;\n",
              "    fill: var(--fill-color);\n",
              "    height: 32px;\n",
              "    padding: 0;\n",
              "    width: 32px;\n",
              "  }\n",
              "\n",
              "  .colab-df-quickchart:hover {\n",
              "    background-color: var(--hover-bg-color);\n",
              "    box-shadow: 0 1px 2px rgba(60, 64, 67, 0.3), 0 1px 3px 1px rgba(60, 64, 67, 0.15);\n",
              "    fill: var(--button-hover-fill-color);\n",
              "  }\n",
              "\n",
              "  .colab-df-quickchart-complete:disabled,\n",
              "  .colab-df-quickchart-complete:disabled:hover {\n",
              "    background-color: var(--disabled-bg-color);\n",
              "    fill: var(--disabled-fill-color);\n",
              "    box-shadow: none;\n",
              "  }\n",
              "\n",
              "  .colab-df-spinner {\n",
              "    border: 2px solid var(--fill-color);\n",
              "    border-color: transparent;\n",
              "    border-bottom-color: var(--fill-color);\n",
              "    animation:\n",
              "      spin 1s steps(1) infinite;\n",
              "  }\n",
              "\n",
              "  @keyframes spin {\n",
              "    0% {\n",
              "      border-color: transparent;\n",
              "      border-bottom-color: var(--fill-color);\n",
              "      border-left-color: var(--fill-color);\n",
              "    }\n",
              "    20% {\n",
              "      border-color: transparent;\n",
              "      border-left-color: var(--fill-color);\n",
              "      border-top-color: var(--fill-color);\n",
              "    }\n",
              "    30% {\n",
              "      border-color: transparent;\n",
              "      border-left-color: var(--fill-color);\n",
              "      border-top-color: var(--fill-color);\n",
              "      border-right-color: var(--fill-color);\n",
              "    }\n",
              "    40% {\n",
              "      border-color: transparent;\n",
              "      border-right-color: var(--fill-color);\n",
              "      border-top-color: var(--fill-color);\n",
              "    }\n",
              "    60% {\n",
              "      border-color: transparent;\n",
              "      border-right-color: var(--fill-color);\n",
              "    }\n",
              "    80% {\n",
              "      border-color: transparent;\n",
              "      border-right-color: var(--fill-color);\n",
              "      border-bottom-color: var(--fill-color);\n",
              "    }\n",
              "    90% {\n",
              "      border-color: transparent;\n",
              "      border-bottom-color: var(--fill-color);\n",
              "    }\n",
              "  }\n",
              "</style>\n",
              "\n",
              "  <script>\n",
              "    async function quickchart(key) {\n",
              "      const quickchartButtonEl =\n",
              "        document.querySelector('#' + key + ' button');\n",
              "      quickchartButtonEl.disabled = true;  // To prevent multiple clicks.\n",
              "      quickchartButtonEl.classList.add('colab-df-spinner');\n",
              "      try {\n",
              "        const charts = await google.colab.kernel.invokeFunction(\n",
              "            'suggestCharts', [key], {});\n",
              "      } catch (error) {\n",
              "        console.error('Error during call to suggestCharts:', error);\n",
              "      }\n",
              "      quickchartButtonEl.classList.remove('colab-df-spinner');\n",
              "      quickchartButtonEl.classList.add('colab-df-quickchart-complete');\n",
              "    }\n",
              "    (() => {\n",
              "      let quickchartButtonEl =\n",
              "        document.querySelector('#df-c5884544-994a-42ed-b41a-d3d704d01250 button');\n",
              "      quickchartButtonEl.style.display =\n",
              "        google.colab.kernel.accessAllowed ? 'block' : 'none';\n",
              "    })();\n",
              "  </script>\n",
              "</div>\n",
              "\n",
              "    </div>\n",
              "  </div>\n"
            ]
          },
          "metadata": {},
          "execution_count": 114
        }
      ],
      "source": [
        "start_date = datetime(2023, 7, 1)\n",
        "end_date = datetime(2023, 12, 31)\n",
        "\n",
        "NVDA_STOCK = yf.download(\"NVDA\", start_date, end_date)\n",
        "NVDA_STOCK.head()"
      ]
    },
    {
      "cell_type": "markdown",
      "id": "5vWB_9s5xRrV",
      "metadata": {
        "id": "5vWB_9s5xRrV"
      },
      "source": [
        "## Train & Test Data Split"
      ]
    },
    {
      "cell_type": "code",
      "execution_count": 115,
      "id": "778b846e",
      "metadata": {
        "colab": {
          "base_uri": "https://localhost:8080/"
        },
        "id": "778b846e",
        "outputId": "031dfbd6-286e-4ca3-87a2-477a2459df76"
      },
      "outputs": [
        {
          "output_type": "stream",
          "name": "stdout",
          "text": [
            "Number of rows in df_train: 393\n",
            "Number of rows in df_test: 64\n"
          ]
        }
      ],
      "source": [
        "nvda = pd.read_csv(\"https://raw.githubusercontent.com/piyush-an/INFO7374_Predict_StockPrice/main/notebooks/NVDA_feature_mart.csv\")\n",
        "nvda.set_index(\"Unnamed: 0\", inplace=True)\n",
        "\n",
        "nvda.index = pd.to_datetime(nvda.index)\n",
        "nvda = nvda[nvda.index >= pd.to_datetime(\"2022-01-01\")]\n",
        "split_date = pd.to_datetime(\"2023-07-31\")\n",
        "\n",
        "df_train = nvda[nvda.index <= split_date]\n",
        "df_test = nvda[nvda.index > split_date]\n",
        "\n",
        "print(f\"Number of rows in df_train: {len(df_train)}\")\n",
        "print(f\"Number of rows in df_test: {len(df_test)}\")\n",
        "\n",
        "columns_to_keep = []\n",
        "columns_to_drop = [\"Open\", \"High\", \"Low\", \"Typical_Price\"]\n",
        "\n",
        "X_train = df_train.loc[:, df_train.columns != \"Close\"][:-1]\n",
        "X_train = X_train.drop(columns_to_drop, axis=1)\n",
        "y_train = df_train[\"Close\"].shift(-1)[:-1]\n",
        "\n",
        "X_test = df_test.loc[:, df_test.columns != \"Close\"][:-1]\n",
        "X_test = X_test.drop(columns_to_drop, axis=1)\n",
        "y_test = df_test[\"Close\"].shift(-1)[:-1]"
      ]
    },
    {
      "cell_type": "markdown",
      "id": "b6be12cb",
      "metadata": {
        "id": "b6be12cb"
      },
      "source": [
        "## Random Forest Regressors"
      ]
    },
    {
      "cell_type": "code",
      "execution_count": 116,
      "id": "GLskDhG9zUdD",
      "metadata": {
        "id": "GLskDhG9zUdD",
        "colab": {
          "base_uri": "https://localhost:8080/"
        },
        "outputId": "5ea20145-a2ba-4f18-b0a9-2e6fcbef7b03"
      },
      "outputs": [
        {
          "output_type": "stream",
          "name": "stdout",
          "text": [
            "RandomForestRegressor - RMSE: 4.50\n",
            "RandomForestRegressor - RMSE: 4.60\n",
            "RandomForestRegressor - RMSE: 4.47\n",
            "RandomForestRegressor - RMSE: 5.54\n",
            "RandomForestRegressor - RMSE: 5.18\n",
            "RandomForestRegressor - RMSE: 5.03\n",
            "RandomForestRegressor - RMSE: 4.98\n",
            "RandomForestRegressor - RMSE: 5.06\n",
            "RandomForestRegressor - RMSE: 4.88\n",
            "RandomForestRegressor - RMSE: 4.92\n",
            "RandomForestRegressor - RMSE: 4.66\n",
            "RandomForestRegressor - RMSE: 4.96\n",
            "RandomForestRegressor - RMSE: 5.06\n",
            "RandomForestRegressor - RMSE: 4.92\n",
            "RandomForestRegressor - RMSE: 4.69\n",
            "RandomForestRegressor - RMSE: 4.80\n",
            "RandomForestRegressor - RMSE: 4.85\n",
            "RandomForestRegressor - RMSE: 4.60\n",
            "RandomForestRegressor - RMSE: 4.68\n",
            "RandomForestRegressor - RMSE: 4.80\n",
            "RandomForestRegressor - RMSE: 5.06\n",
            "RandomForestRegressor - RMSE: 4.66\n",
            "RandomForestRegressor - RMSE: 5.27\n",
            "RandomForestRegressor - RMSE: 5.08\n",
            "RandomForestRegressor - RMSE: 4.70\n",
            "RandomForestRegressor - RMSE: 4.93\n",
            "RandomForestRegressor - RMSE: 4.97\n"
          ]
        }
      ],
      "source": [
        "from itertools import product\n",
        "\n",
        "# Define the hyperparameters to tune\n",
        "param_grid = {\n",
        "    \"n_estimators\": [100, 200, 300],\n",
        "    \"max_depth\": [5, 10, 15],\n",
        "    \"min_samples_leaf\": [1, 2, 4],\n",
        "}\n",
        "\n",
        "# Loop through all combinations of hyperparameters\n",
        "for n_estimators in param_grid[\"n_estimators\"]:\n",
        "    for max_depth in param_grid[\"max_depth\"]:\n",
        "        for min_samples_leaf in param_grid[\"min_samples_leaf\"]:\n",
        "            with mlflow.start_run():\n",
        "                # Create the model with specific parameters\n",
        "                model = RandomForestRegressor(\n",
        "                    n_estimators=n_estimators,\n",
        "                    max_depth=max_depth,\n",
        "                    min_samples_leaf=min_samples_leaf,\n",
        "                )\n",
        "\n",
        "                # Fit the model and make predictions\n",
        "                model.fit(X_train, y_train)\n",
        "                y_pred = model.predict(X_test)\n",
        "\n",
        "                # Calculate RMSE\n",
        "                MSE = mean_squared_error(y_test, y_pred, squared=False)\n",
        "                RMSE = math.sqrt(MSE)\n",
        "\n",
        "                # Log metrics and parameters to MLflow\n",
        "                mlflow.set_tag(\"model\", \"RandomForestRegressor\")\n",
        "                mlflow.log_metric(\"RMSE\", RMSE)\n",
        "\n",
        "                print(f\"RandomForestRegressor - RMSE: {RMSE:.2f}\")"
      ]
    },
    {
      "cell_type": "markdown",
      "id": "OddN8PjHThR1",
      "metadata": {
        "id": "OddN8PjHThR1"
      },
      "source": [
        "### Retrive the best model\n"
      ]
    },
    {
      "cell_type": "code",
      "execution_count": 117,
      "id": "-OxTmDizW6GR",
      "metadata": {
        "colab": {
          "base_uri": "https://localhost:8080/",
          "height": 86,
          "referenced_widgets": [
            "1b8013b557eb47b5ab764b55bb6a200e",
            "ab033e3a3a1e450caccddaf0dc65a999",
            "06d92b15671548009f74722889c4d076",
            "2bb4e8a3d5f94501880a1c6f5c7134df",
            "050bace58842403cb18fdb5665c15481",
            "fe48bfb266214429859b98bb7130cdac",
            "91f9c01b60d744339c7b86397e585760",
            "8601eb8cb35441b681b5b39c594d4784",
            "cd7d7abf30694231b5300b11f67497f4",
            "ef845fe4e82e43838f6f784d99a673ef",
            "6bea1057792e4e629f972ae32fee850d"
          ]
        },
        "id": "-OxTmDizW6GR",
        "outputId": "ac255836-08c4-464f-bfbd-49d4900ddf17"
      },
      "outputs": [
        {
          "output_type": "stream",
          "name": "stdout",
          "text": [
            "Best Run ID: ce28b8f946aa46f783158b71339b5f52\n"
          ]
        },
        {
          "output_type": "display_data",
          "data": {
            "text/plain": [
              "Downloading artifacts:   0%|          | 0/5 [00:00<?, ?it/s]"
            ],
            "application/vnd.jupyter.widget-view+json": {
              "version_major": 2,
              "version_minor": 0,
              "model_id": "1b8013b557eb47b5ab764b55bb6a200e"
            }
          },
          "metadata": {}
        },
        {
          "output_type": "stream",
          "name": "stdout",
          "text": [
            "RandomForestRegressor - RMSE: 4.46946778260713\n"
          ]
        }
      ],
      "source": [
        "best_run_id = runs = client.search_runs(\n",
        "    experiment_ids=EXPERIMENT_ID,\n",
        "    run_view_type=ViewType.ACTIVE_ONLY,\n",
        "    max_results=1,\n",
        "    order_by=[\"metrics.RMSE ASC\"],\n",
        "    filter_string=\"tags.model = 'RandomForestRegressor'\",\n",
        ")[0].info.run_id\n",
        "print(f\"Best Run ID: {best_run_id}\")\n",
        "\n",
        "loaded_model = mlflow.pyfunc.load_model(f\"runs:/{best_run_id}/model\")\n",
        "y_pred = loaded_model.predict(X_test)\n",
        "\n",
        "MSE = mean_squared_error(y_test, y_pred, squared=False)\n",
        "RMSE = math.sqrt(MSE)\n",
        "\n",
        "print(f\"RandomForestRegressor - RMSE: {RMSE}\")"
      ]
    },
    {
      "cell_type": "markdown",
      "id": "hd-Kfz3G5EWb",
      "metadata": {
        "id": "hd-Kfz3G5EWb"
      },
      "source": [
        "### Plot Actual and Predicted"
      ]
    },
    {
      "cell_type": "code",
      "execution_count": 118,
      "id": "G9GfS_M9RXJn",
      "metadata": {
        "colab": {
          "base_uri": "https://localhost:8080/",
          "height": 410
        },
        "id": "G9GfS_M9RXJn",
        "outputId": "d344145c-410f-4112-d102-63b69cad72b9"
      },
      "outputs": [
        {
          "output_type": "display_data",
          "data": {
            "text/plain": [
              "<Figure size 1500x400 with 1 Axes>"
            ],
            "image/png": "[encoded data removed]"
          },
          "metadata": {}
        }
      ],
      "source": [
        "plt.figure(figsize=(15, 4))\n",
        "plt.plot(y_test, label=\"Actual_Close_Price\", linestyle=\"solid\")\n",
        "plt.plot(\n",
        "    pd.Series(y_pred, index=y_test.index),\n",
        "    label=\"Predicted_Close_Price\",\n",
        "    linestyle=\"dashed\",\n",
        ")\n",
        "plt.title(\"Random Forest Regressor - Close Price - Actual vs Predicted\")\n",
        "plt.xlabel(\"Date\")\n",
        "plt.ylabel(\"Close Price\")\n",
        "plt.legend()\n",
        "plt.figtext(\n",
        "    0.20,\n",
        "    0.85,\n",
        "    f\"RSME = {RMSE:.2f}\",\n",
        "    ha=\"right\",\n",
        "    va=\"top\",\n",
        "    color=\"red\",\n",
        "    weight=\"bold\",\n",
        "    bbox=dict(facecolor=\"yellow\", edgecolor=\"black\", boxstyle=\"round,pad=0.5\"),\n",
        ")\n",
        "plt.show()"
      ]
    },
    {
      "cell_type": "markdown",
      "id": "9sn9re7JKfFg",
      "metadata": {
        "id": "9sn9re7JKfFg"
      },
      "source": [
        "### Trading Signals"
      ]
    },
    {
      "cell_type": "code",
      "execution_count": 119,
      "id": "MK7ovUXREBwb",
      "metadata": {
        "colab": {
          "base_uri": "https://localhost:8080/",
          "height": 237
        },
        "id": "MK7ovUXREBwb",
        "outputId": "8545b37d-b0cd-490d-a7dc-755a7d757715"
      },
      "outputs": [
        {
          "output_type": "execute_result",
          "data": {
            "text/plain": [
              "                Actual   Predicted        Open       Close\n",
              "Date                                                      \n",
              "2023-08-01  442.690002  450.169095  464.600006  465.070007\n",
              "2023-08-02  445.149994  447.670069  458.309998  442.690002\n",
              "2023-08-03  446.799988  446.893504  438.000000  445.149994\n",
              "2023-08-04  454.170013  451.504308  449.850006  446.799988\n",
              "2023-08-07  446.640015  452.470684  451.109985  454.170013"
            ],
            "text/html": [
              "\n",
              "  <div id=\"df-65bd55b1-ec81-4af4-ab41-61c334220558\" class=\"colab-df-container\">\n",
              "    <div>\n",
              "<style scoped>\n",
              "    .dataframe tbody tr th:only-of-type {\n",
              "        vertical-align: middle;\n",
              "    }\n",
              "\n",
              "    .dataframe tbody tr th {\n",
              "        vertical-align: top;\n",
              "    }\n",
              "\n",
              "    .dataframe thead th {\n",
              "        text-align: right;\n",
              "    }\n",
              "</style>\n",
              "<table border=\"1\" class=\"dataframe\">\n",
              "  <thead>\n",
              "    <tr style=\"text-align: right;\">\n",
              "      <th></th>\n",
              "      <th>Actual</th>\n",
              "      <th>Predicted</th>\n",
              "      <th>Open</th>\n",
              "      <th>Close</th>\n",
              "    </tr>\n",
              "    <tr>\n",
              "      <th>Date</th>\n",
              "      <th></th>\n",
              "      <th></th>\n",
              "      <th></th>\n",
              "      <th></th>\n",
              "    </tr>\n",
              "  </thead>\n",
              "  <tbody>\n",
              "    <tr>\n",
              "      <th>2023-08-01</th>\n",
              "      <td>442.690002</td>\n",
              "      <td>450.169095</td>\n",
              "      <td>464.600006</td>\n",
              "      <td>465.070007</td>\n",
              "    </tr>\n",
              "    <tr>\n",
              "      <th>2023-08-02</th>\n",
              "      <td>445.149994</td>\n",
              "      <td>447.670069</td>\n",
              "      <td>458.309998</td>\n",
              "      <td>442.690002</td>\n",
              "    </tr>\n",
              "    <tr>\n",
              "      <th>2023-08-03</th>\n",
              "      <td>446.799988</td>\n",
              "      <td>446.893504</td>\n",
              "      <td>438.000000</td>\n",
              "      <td>445.149994</td>\n",
              "    </tr>\n",
              "    <tr>\n",
              "      <th>2023-08-04</th>\n",
              "      <td>454.170013</td>\n",
              "      <td>451.504308</td>\n",
              "      <td>449.850006</td>\n",
              "      <td>446.799988</td>\n",
              "    </tr>\n",
              "    <tr>\n",
              "      <th>2023-08-07</th>\n",
              "      <td>446.640015</td>\n",
              "      <td>452.470684</td>\n",
              "      <td>451.109985</td>\n",
              "      <td>454.170013</td>\n",
              "    </tr>\n",
              "  </tbody>\n",
              "</table>\n",
              "</div>\n",
              "    <div class=\"colab-df-buttons\">\n",
              "\n",
              "  <div class=\"colab-df-container\">\n",
              "    <button class=\"colab-df-convert\" onclick=\"convertToInteractive('df-65bd55b1-ec81-4af4-ab41-61c334220558')\"\n",
              "            title=\"Convert this dataframe to an interactive table.\"\n",
              "            style=\"display:none;\">\n",
              "\n",
              "  <svg xmlns=\"http://www.w3.org/2000/svg\" height=\"24px\" viewBox=\"0 -960 960 960\">\n",
              "    <path d=\"M120-120v-720h720v720H120Zm60-500h600v-160H180v160Zm220 220h160v-160H400v160Zm0 220h160v-160H400v160ZM180-400h160v-160H180v160Zm440 0h160v-160H620v160ZM180-180h160v-160H180v160Zm440 0h160v-160H620v160Z\"/>\n",
              "  </svg>\n",
              "    </button>\n",
              "\n",
              "  <style>\n",
              "    .colab-df-container {\n",
              "      display:flex;\n",
              "      gap: 12px;\n",
              "    }\n",
              "\n",
              "    .colab-df-convert {\n",
              "      background-color: #E8F0FE;\n",
              "      border: none;\n",
              "      border-radius: 50%;\n",
              "      cursor: pointer;\n",
              "      display: none;\n",
              "      fill: #1967D2;\n",
              "      height: 32px;\n",
              "      padding: 0 0 0 0;\n",
              "      width: 32px;\n",
              "    }\n",
              "\n",
              "    .colab-df-convert:hover {\n",
              "      background-color: #E2EBFA;\n",
              "      box-shadow: 0px 1px 2px rgba(60, 64, 67, 0.3), 0px 1px 3px 1px rgba(60, 64, 67, 0.15);\n",
              "      fill: #174EA6;\n",
              "    }\n",
              "\n",
              "    .colab-df-buttons div {\n",
              "      margin-bottom: 4px;\n",
              "    }\n",
              "\n",
              "    [theme=dark] .colab-df-convert {\n",
              "      background-color: #3B4455;\n",
              "      fill: #D2E3FC;\n",
              "    }\n",
              "\n",
              "    [theme=dark] .colab-df-convert:hover {\n",
              "      background-color: #434B5C;\n",
              "      box-shadow: 0px 1px 3px 1px rgba(0, 0, 0, 0.15);\n",
              "      filter: drop-shadow(0px 1px 2px rgba(0, 0, 0, 0.3));\n",
              "      fill: #FFFFFF;\n",
              "    }\n",
              "  </style>\n",
              "\n",
              "    <script>\n",
              "      const buttonEl =\n",
              "        document.querySelector('#df-65bd55b1-ec81-4af4-ab41-61c334220558 button.colab-df-convert');\n",
              "      buttonEl.style.display =\n",
              "        google.colab.kernel.accessAllowed ? 'block' : 'none';\n",
              "\n",
              "      async function convertToInteractive(key) {\n",
              "        const element = document.querySelector('#df-65bd55b1-ec81-4af4-ab41-61c334220558');\n",
              "        const dataTable =\n",
              "          await google.colab.kernel.invokeFunction('convertToInteractive',\n",
              "                                                    [key], {});\n",
              "        if (!dataTable) return;\n",
              "\n",
              "        const docLinkHtml = 'Like what you see? Visit the ' +\n",
              "          '<a target=\"_blank\" href=https://colab.research.google.com/notebooks/data_table.ipynb>data table notebook</a>'\n",
              "          + ' to learn more about interactive tables.';\n",
              "        element.innerHTML = '';\n",
              "        dataTable['output_type'] = 'display_data';\n",
              "        await google.colab.output.renderOutput(dataTable, element);\n",
              "        const docLink = document.createElement('div');\n",
              "        docLink.innerHTML = docLinkHtml;\n",
              "        element.appendChild(docLink);\n",
              "      }\n",
              "    </script>\n",
              "  </div>\n",
              "\n",
              "\n",
              "<div id=\"df-8a25a39a-5640-496a-ae44-07865d744c18\">\n",
              "  <button class=\"colab-df-quickchart\" onclick=\"quickchart('df-8a25a39a-5640-496a-ae44-07865d744c18')\"\n",
              "            title=\"Suggest charts\"\n",
              "            style=\"display:none;\">\n",
              "\n",
              "<svg xmlns=\"http://www.w3.org/2000/svg\" height=\"24px\"viewBox=\"0 0 24 24\"\n",
              "     width=\"24px\">\n",
              "    <g>\n",
              "        <path d=\"M19 3H5c-1.1 0-2 .9-2 2v14c0 1.1.9 2 2 2h14c1.1 0 2-.9 2-2V5c0-1.1-.9-2-2-2zM9 17H7v-7h2v7zm4 0h-2V7h2v10zm4 0h-2v-4h2v4z\"/>\n",
              "    </g>\n",
              "</svg>\n",
              "  </button>\n",
              "\n",
              "<style>\n",
              "  .colab-df-quickchart {\n",
              "      --bg-color: #E8F0FE;\n",
              "      --fill-color: #1967D2;\n",
              "      --hover-bg-color: #E2EBFA;\n",
              "      --hover-fill-color: #174EA6;\n",
              "      --disabled-fill-color: #AAA;\n",
              "      --disabled-bg-color: #DDD;\n",
              "  }\n",
              "\n",
              "  [theme=dark] .colab-df-quickchart {\n",
              "      --bg-color: #3B4455;\n",
              "      --fill-color: #D2E3FC;\n",
              "      --hover-bg-color: #434B5C;\n",
              "      --hover-fill-color: #FFFFFF;\n",
              "      --disabled-bg-color: #3B4455;\n",
              "      --disabled-fill-color: #666;\n",
              "  }\n",
              "\n",
              "  .colab-df-quickchart {\n",
              "    background-color: var(--bg-color);\n",
              "    border: none;\n",
              "    border-radius: 50%;\n",
              "    cursor: pointer;\n",
              "    display: none;\n",
              "    fill: var(--fill-color);\n",
              "    height: 32px;\n",
              "    padding: 0;\n",
              "    width: 32px;\n",
              "  }\n",
              "\n",
              "  .colab-df-quickchart:hover {\n",
              "    background-color: var(--hover-bg-color);\n",
              "    box-shadow: 0 1px 2px rgba(60, 64, 67, 0.3), 0 1px 3px 1px rgba(60, 64, 67, 0.15);\n",
              "    fill: var(--button-hover-fill-color);\n",
              "  }\n",
              "\n",
              "  .colab-df-quickchart-complete:disabled,\n",
              "  .colab-df-quickchart-complete:disabled:hover {\n",
              "    background-color: var(--disabled-bg-color);\n",
              "    fill: var(--disabled-fill-color);\n",
              "    box-shadow: none;\n",
              "  }\n",
              "\n",
              "  .colab-df-spinner {\n",
              "    border: 2px solid var(--fill-color);\n",
              "    border-color: transparent;\n",
              "    border-bottom-color: var(--fill-color);\n",
              "    animation:\n",
              "      spin 1s steps(1) infinite;\n",
              "  }\n",
              "\n",
              "  @keyframes spin {\n",
              "    0% {\n",
              "      border-color: transparent;\n",
              "      border-bottom-color: var(--fill-color);\n",
              "      border-left-color: var(--fill-color);\n",
              "    }\n",
              "    20% {\n",
              "      border-color: transparent;\n",
              "      border-left-color: var(--fill-color);\n",
              "      border-top-color: var(--fill-color);\n",
              "    }\n",
              "    30% {\n",
              "      border-color: transparent;\n",
              "      border-left-color: var(--fill-color);\n",
              "      border-top-color: var(--fill-color);\n",
              "      border-right-color: var(--fill-color);\n",
              "    }\n",
              "    40% {\n",
              "      border-color: transparent;\n",
              "      border-right-color: var(--fill-color);\n",
              "      border-top-color: var(--fill-color);\n",
              "    }\n",
              "    60% {\n",
              "      border-color: transparent;\n",
              "      border-right-color: var(--fill-color);\n",
              "    }\n",
              "    80% {\n",
              "      border-color: transparent;\n",
              "      border-right-color: var(--fill-color);\n",
              "      border-bottom-color: var(--fill-color);\n",
              "    }\n",
              "    90% {\n",
              "      border-color: transparent;\n",
              "      border-bottom-color: var(--fill-color);\n",
              "    }\n",
              "  }\n",
              "</style>\n",
              "\n",
              "  <script>\n",
              "    async function quickchart(key) {\n",
              "      const quickchartButtonEl =\n",
              "        document.querySelector('#' + key + ' button');\n",
              "      quickchartButtonEl.disabled = true;  // To prevent multiple clicks.\n",
              "      quickchartButtonEl.classList.add('colab-df-spinner');\n",
              "      try {\n",
              "        const charts = await google.colab.kernel.invokeFunction(\n",
              "            'suggestCharts', [key], {});\n",
              "      } catch (error) {\n",
              "        console.error('Error during call to suggestCharts:', error);\n",
              "      }\n",
              "      quickchartButtonEl.classList.remove('colab-df-spinner');\n",
              "      quickchartButtonEl.classList.add('colab-df-quickchart-complete');\n",
              "    }\n",
              "    (() => {\n",
              "      let quickchartButtonEl =\n",
              "        document.querySelector('#df-8a25a39a-5640-496a-ae44-07865d744c18 button');\n",
              "      quickchartButtonEl.style.display =\n",
              "        google.colab.kernel.accessAllowed ? 'block' : 'none';\n",
              "    })();\n",
              "  </script>\n",
              "</div>\n",
              "\n",
              "    </div>\n",
              "  </div>\n"
            ]
          },
          "metadata": {},
          "execution_count": 119
        }
      ],
      "source": [
        "y_test = y_test.to_frame(name=\"Actual\")\n",
        "y_test = y_test.rename_axis(\"Date\")\n",
        "y_pred = pd.Series(y_pred, index=y_test.index)\n",
        "y_pred = y_pred.to_frame(name=\"Predicted\")\n",
        "y_pred = y_pred.rename_axis(\"Date\")\n",
        "results = NVDA_STOCK.merge(y_test, left_index=True, right_index=True, how=\"inner\")\n",
        "results = results.merge(y_pred, left_index=True, right_index=True, how=\"inner\")\n",
        "results = results[[\"Actual\", \"Predicted\", \"Open\", \"Close\"]]\n",
        "results.head()"
      ]
    },
    {
      "cell_type": "markdown",
      "id": "r-0LTKwIw3X6",
      "metadata": {
        "id": "r-0LTKwIw3X6"
      },
      "source": [
        "## Ridge Regression"
      ]
    },
    {
      "cell_type": "code",
      "execution_count": 120,
      "id": "-9eIg_I8Nimu",
      "metadata": {
        "colab": {
          "base_uri": "https://localhost:8080/"
        },
        "id": "-9eIg_I8Nimu",
        "outputId": "b8a1cc0b-baf3-47f2-c505-f6d8833e4c9f"
      },
      "outputs": [
        {
          "output_type": "stream",
          "name": "stdout",
          "text": [
            "Ridge - RMSE: 3.42\n",
            "Ridge - RMSE: 3.49\n",
            "Ridge - RMSE: 3.54\n",
            "Ridge - RMSE: 3.72\n",
            "Ridge - RMSE: 3.96\n"
          ]
        }
      ],
      "source": [
        "from sklearn.linear_model import Ridge\n",
        "from sklearn.preprocessing import StandardScaler\n",
        "\n",
        "scaler = StandardScaler()\n",
        "X_train_scaled = scaler.fit_transform(X_train)\n",
        "X_test_scaled = scaler.transform(X_test)\n",
        "\n",
        "alphas = [0.1, 0.5, 1.0, 5.0, 10.0]\n",
        "\n",
        "for alpha in alphas:\n",
        "    with mlflow.start_run():\n",
        "        ridge = Ridge(alpha=alpha)\n",
        "        ridge.fit(X_train_scaled, y_train)\n",
        "\n",
        "        y_pred = ridge.predict(X_test_scaled)\n",
        "        MSE = mean_squared_error(y_test, y_pred, squared=False)\n",
        "        RMSE = math.sqrt(MSE)\n",
        "\n",
        "        mlflow.set_tag(\"model\", \"Ridge\")\n",
        "        mlflow.log_metric(\"RMSE\", RMSE)\n",
        "\n",
        "        print(f\"Ridge - RMSE: {RMSE:.2f}\")"
      ]
    },
    {
      "cell_type": "markdown",
      "id": "aZ2VZhlb5Wic",
      "metadata": {
        "id": "aZ2VZhlb5Wic"
      },
      "source": [
        "### Retrive the best model"
      ]
    },
    {
      "cell_type": "code",
      "execution_count": 121,
      "id": "RShiQDnPpwcm",
      "metadata": {
        "colab": {
          "base_uri": "https://localhost:8080/",
          "height": 86,
          "referenced_widgets": [
            "74bef642cbb94b219a1e1b7b6390bbdc",
            "d159f91db81f4bc7a280e11c2f22c243",
            "0bed79bc6a0148fabe5af8bb9bd41ef8",
            "79a3961547bd4b15ba6e72ad3275abf4",
            "1366c7df08f444d5bd02c00e35bf2fab",
            "7f2a605a9c88402ab3ff0b489e1cdd89",
            "137f899f42ea470ebc4757810df172a9",
            "a6b39460fcb14592aadc8ac2823c0136",
            "e6d10456cd3e4001bb19d1a199547731",
            "e6324b113e18436392182b44cd1f5df8",
            "d44111f03c264344972dd137cf13be03"
          ]
        },
        "id": "RShiQDnPpwcm",
        "outputId": "c92aaed7-345a-4dee-b98d-2226fd9b83b9"
      },
      "outputs": [
        {
          "output_type": "stream",
          "name": "stdout",
          "text": [
            "Best Run ID: 6845949acf7f44c9b2d05c7cbf7ad797\n"
          ]
        },
        {
          "output_type": "display_data",
          "data": {
            "text/plain": [
              "Downloading artifacts:   0%|          | 0/5 [00:00<?, ?it/s]"
            ],
            "application/vnd.jupyter.widget-view+json": {
              "version_major": 2,
              "version_minor": 0,
              "model_id": "74bef642cbb94b219a1e1b7b6390bbdc"
            }
          },
          "metadata": {}
        },
        {
          "output_type": "stream",
          "name": "stdout",
          "text": [
            "Ridge - RMSE: 3.419473795239898\n"
          ]
        }
      ],
      "source": [
        "best_run_id = runs = client.search_runs(\n",
        "    experiment_ids=EXPERIMENT_ID,\n",
        "    run_view_type=ViewType.ACTIVE_ONLY,\n",
        "    max_results=1,\n",
        "    order_by=[\"metrics.RMSE ASC\"],\n",
        "    filter_string=\"tags.model = 'Ridge'\",\n",
        ")[0].info.run_id\n",
        "print(f\"Best Run ID: {best_run_id}\")\n",
        "\n",
        "loaded_model = mlflow.pyfunc.load_model(f\"runs:/{best_run_id}/model\")\n",
        "y_pred = loaded_model.predict(X_test_scaled)\n",
        "\n",
        "MSE = mean_squared_error(y_test, y_pred, squared=False)\n",
        "RMSE = math.sqrt(MSE)\n",
        "\n",
        "print(f\"Ridge - RMSE: {RMSE}\")"
      ]
    },
    {
      "cell_type": "markdown",
      "id": "T8nCZDIo5YHV",
      "metadata": {
        "id": "T8nCZDIo5YHV"
      },
      "source": [
        "### Plot Actual and Predicted"
      ]
    },
    {
      "cell_type": "code",
      "execution_count": 122,
      "id": "sxTDLVbhpwZN",
      "metadata": {
        "colab": {
          "base_uri": "https://localhost:8080/",
          "height": 410
        },
        "id": "sxTDLVbhpwZN",
        "outputId": "19aa82b1-49a2-486a-e6f0-9048dd719a6c"
      },
      "outputs": [
        {
          "output_type": "display_data",
          "data": {
            "text/plain": [
              "<Figure size 1500x400 with 1 Axes>"
            ],
            "image/png": "[encoded data removed]"
          },
          "metadata": {}
        }
      ],
      "source": [
        "plt.figure(figsize=(15, 4))\n",
        "plt.plot(y_test, label=\"Actual_Close_Price\", linestyle=\"solid\")\n",
        "plt.plot(\n",
        "    pd.Series(y_pred, index=y_test.index),\n",
        "    label=\"Predicted_Close_Price\",\n",
        "    linestyle=\"dashed\",\n",
        ")\n",
        "plt.title(\"Ridge - Close Price - Actual vs Predicted\")\n",
        "plt.xlabel(\"Date\")\n",
        "plt.ylabel(\"Close Price\")\n",
        "plt.legend()\n",
        "plt.figtext(\n",
        "    0.20,\n",
        "    0.85,\n",
        "    f\"RSME = {RMSE:.2f}\",\n",
        "    ha=\"right\",\n",
        "    va=\"top\",\n",
        "    color=\"red\",\n",
        "    weight=\"bold\",\n",
        "    bbox=dict(facecolor=\"yellow\", edgecolor=\"black\", boxstyle=\"round,pad=0.5\"),\n",
        ")\n",
        "plt.show()"
      ]
    },
    {
      "cell_type": "markdown",
      "id": "zIjewXojw3Nr",
      "metadata": {
        "id": "zIjewXojw3Nr"
      },
      "source": [
        "## LASSO"
      ]
    },
    {
      "cell_type": "code",
      "execution_count": 123,
      "id": "cqtCzAWpDsc-",
      "metadata": {
        "colab": {
          "base_uri": "https://localhost:8080/"
        },
        "id": "cqtCzAWpDsc-",
        "outputId": "075c4c1f-ea56-4abd-f8ea-87de755abf8e"
      },
      "outputs": [
        {
          "output_type": "stream",
          "name": "stdout",
          "text": [
            "Lasso - RMSE: 3.92\n",
            "Lasso - RMSE: 3.40\n",
            "Lasso - RMSE: 3.44\n",
            "Lasso - RMSE: 3.40\n"
          ]
        },
        {
          "output_type": "stream",
          "name": "stderr",
          "text": [
            "/usr/local/lib/python3.10/dist-packages/sklearn/linear_model/_coordinate_descent.py:631: ConvergenceWarning: Objective did not converge. You might want to increase the number of iterations, check the scale of the features or consider increasing regularisation. Duality gap: 6.548e+03, tolerance: 2.941e+02\n",
            "  model = cd_fast.enet_coordinate_descent(\n"
          ]
        },
        {
          "output_type": "stream",
          "name": "stdout",
          "text": [
            "Lasso - RMSE: 3.41\n",
            "Lasso - RMSE: 3.44\n",
            "Lasso - RMSE: 3.41\n",
            "Lasso - RMSE: 3.40\n"
          ]
        },
        {
          "output_type": "stream",
          "name": "stderr",
          "text": [
            "/usr/local/lib/python3.10/dist-packages/sklearn/linear_model/_coordinate_descent.py:631: ConvergenceWarning: Objective did not converge. You might want to increase the number of iterations, check the scale of the features or consider increasing regularisation. Duality gap: 3.320e+03, tolerance: 2.941e+02\n",
            "  model = cd_fast.enet_coordinate_descent(\n"
          ]
        },
        {
          "output_type": "stream",
          "name": "stdout",
          "text": [
            "Lasso - RMSE: 3.41\n"
          ]
        },
        {
          "output_type": "stream",
          "name": "stderr",
          "text": [
            "/usr/local/lib/python3.10/dist-packages/sklearn/linear_model/_coordinate_descent.py:631: ConvergenceWarning: Objective did not converge. You might want to increase the number of iterations, check the scale of the features or consider increasing regularisation. Duality gap: 1.100e+04, tolerance: 2.941e+02\n",
            "  model = cd_fast.enet_coordinate_descent(\n"
          ]
        },
        {
          "output_type": "stream",
          "name": "stdout",
          "text": [
            "Lasso - RMSE: 3.41\n"
          ]
        },
        {
          "output_type": "stream",
          "name": "stderr",
          "text": [
            "/usr/local/lib/python3.10/dist-packages/sklearn/linear_model/_coordinate_descent.py:631: UserWarning: Coordinate descent with no regularization may lead to unexpected results and is discouraged.\n",
            "  model = cd_fast.enet_coordinate_descent(\n",
            "/usr/local/lib/python3.10/dist-packages/sklearn/linear_model/_coordinate_descent.py:631: ConvergenceWarning: Objective did not converge. You might want to increase the number of iterations, check the scale of the features or consider increasing regularisation. Duality gap: 1.252e+04, tolerance: 2.941e+02 Linear regression models with null weight for the l1 regularization term are more efficiently fitted using one of the solvers implemented in sklearn.linear_model.Ridge/RidgeCV instead.\n",
            "  model = cd_fast.enet_coordinate_descent(\n"
          ]
        },
        {
          "output_type": "stream",
          "name": "stdout",
          "text": [
            "Lasso - RMSE: 3.41\n"
          ]
        }
      ],
      "source": [
        "scaler = StandardScaler()\n",
        "X_train_scaled = scaler.fit_transform(X_train)\n",
        "X_test_scaled = scaler.transform(X_test)\n",
        "\n",
        "# Set up a range of alpha values to test\n",
        "alphas = [5, 0.5, 0.05, 0.005, 0.0005, 1, 0.1, 0.01, 0.001, 0.0001, 0]\n",
        "\n",
        "for alpha in alphas:\n",
        "    with mlflow.start_run():\n",
        "        lr = Lasso(alpha=alpha, max_iter=10000)\n",
        "        lr.fit(X_train_scaled, y_train)\n",
        "\n",
        "        y_pred = lr.predict(X_test_scaled)\n",
        "        MSE = mean_squared_error(y_test, y_pred, squared=False)\n",
        "\n",
        "        RMSE = math.sqrt(MSE)\n",
        "        mlflow.set_tag(\"model\", \"Lasso\")\n",
        "        mlflow.log_metric(\"RMSE\", RMSE)\n",
        "\n",
        "        print(f\"Lasso - RMSE: {RMSE:.2f}\")"
      ]
    },
    {
      "cell_type": "markdown",
      "id": "Ygi0ZoKz5arm",
      "metadata": {
        "id": "Ygi0ZoKz5arm"
      },
      "source": [
        "### Retrive the best model\n"
      ]
    },
    {
      "cell_type": "code",
      "execution_count": 124,
      "id": "_5N-EtrkDsa7",
      "metadata": {
        "colab": {
          "base_uri": "https://localhost:8080/",
          "height": 86,
          "referenced_widgets": [
            "fface95b7d974ceaa0588bf26b86d7db",
            "a72cbc308e8c4763bd689aaed69cdba2",
            "8a1ba8fc191a4808ae3b2d8ead1f549c",
            "71e9959abd144854a92e2731643f33b5",
            "599a638faeb44d7380abe1bc90dab7aa",
            "9f20b024fe04432cbbeae4724309861e",
            "5c7fffcf7db04edeb3b68c4eef788636",
            "a69f0d84756d4d808419ca9ec5b29c85",
            "bcf86fbb70cc48d3afb88a34263d9099",
            "f481a60e52544b9991846af15524fd82",
            "0e0dc02953194469b8cbbf2da30f5e33"
          ]
        },
        "id": "_5N-EtrkDsa7",
        "outputId": "bac0abf9-69ce-4dc5-c828-b8b14ad39a1d"
      },
      "outputs": [
        {
          "output_type": "stream",
          "name": "stdout",
          "text": [
            "Best Run ID: c5ece576af564e63a39b8fed6150583a\n"
          ]
        },
        {
          "output_type": "display_data",
          "data": {
            "text/plain": [
              "Downloading artifacts:   0%|          | 0/5 [00:00<?, ?it/s]"
            ],
            "application/vnd.jupyter.widget-view+json": {
              "version_major": 2,
              "version_minor": 0,
              "model_id": "fface95b7d974ceaa0588bf26b86d7db"
            }
          },
          "metadata": {}
        },
        {
          "output_type": "stream",
          "name": "stdout",
          "text": [
            "Lasso - RMSE: 3.398502355502673\n"
          ]
        }
      ],
      "source": [
        "best_run_id = runs = client.search_runs(\n",
        "    experiment_ids=EXPERIMENT_ID,\n",
        "    run_view_type=ViewType.ACTIVE_ONLY,\n",
        "    max_results=1,\n",
        "    order_by=[\"metrics.RMSE ASC\"],\n",
        "    filter_string=\"tags.model = 'Lasso'\",\n",
        ")[0].info.run_id\n",
        "print(f\"Best Run ID: {best_run_id}\")\n",
        "\n",
        "loaded_model = mlflow.pyfunc.load_model(f\"runs:/{best_run_id}/model\")\n",
        "y_pred = loaded_model.predict(X_test_scaled)\n",
        "\n",
        "MSE = mean_squared_error(y_test, y_pred, squared=False)\n",
        "RMSE = math.sqrt(MSE)\n",
        "\n",
        "print(f\"Lasso - RMSE: {RMSE}\")"
      ]
    },
    {
      "cell_type": "markdown",
      "id": "EzDcw6gr5cW7",
      "metadata": {
        "id": "EzDcw6gr5cW7"
      },
      "source": [
        "### Plot Actual and Predicted"
      ]
    },
    {
      "cell_type": "code",
      "execution_count": 125,
      "id": "sCyweC25DsWp",
      "metadata": {
        "colab": {
          "base_uri": "https://localhost:8080/",
          "height": 410
        },
        "id": "sCyweC25DsWp",
        "outputId": "ab85f319-80a0-4c4b-dc30-6e455bf09737"
      },
      "outputs": [
        {
          "output_type": "display_data",
          "data": {
            "text/plain": [
              "<Figure size 1500x400 with 1 Axes>"
            ],
            "image/png": "[encoded data removed]"
          },
          "metadata": {}
        }
      ],
      "source": [
        "plt.figure(figsize=(15, 4))\n",
        "plt.plot(y_test, label=\"Actual_Close_Price\", linestyle=\"solid\")\n",
        "plt.plot(\n",
        "    pd.Series(y_pred, index=y_test.index),\n",
        "    label=\"Predicted_Close_Price\",\n",
        "    linestyle=\"dashed\",\n",
        ")\n",
        "plt.title(\"Lasso - Close Price - Actual vs Predicted\")\n",
        "plt.xlabel(\"Date\")\n",
        "plt.ylabel(\"Close Price\")\n",
        "plt.legend()\n",
        "plt.figtext(\n",
        "    0.20,\n",
        "    0.85,\n",
        "    f\"RSME = {RMSE:.2f}\",\n",
        "    ha=\"right\",\n",
        "    va=\"top\",\n",
        "    color=\"red\",\n",
        "    weight=\"bold\",\n",
        "    bbox=dict(facecolor=\"yellow\", edgecolor=\"black\", boxstyle=\"round,pad=0.5\"),\n",
        ")\n",
        "plt.show()"
      ]
    },
    {
      "cell_type": "markdown",
      "id": "5v5waIrZwtuJ",
      "metadata": {
        "id": "5v5waIrZwtuJ"
      },
      "source": [
        "## Extreme Gradient Boosting (XGBoost) Regressors\n"
      ]
    },
    {
      "cell_type": "code",
      "execution_count": 126,
      "id": "YM2m5rZZ_ZP1",
      "metadata": {
        "id": "YM2m5rZZ_ZP1"
      },
      "outputs": [],
      "source": [
        "train = xgb.DMatrix(X_train, label=y_train)\n",
        "valid = xgb.DMatrix(X_test, label=y_test)\n",
        "\n",
        "def objective(params):\n",
        "    with mlflow.start_run():\n",
        "        # mlflow.log_params(params) # Check here Anku\n",
        "        booster = xgb.train(\n",
        "            params=params,\n",
        "            dtrain=train,\n",
        "            num_boost_round=1000,\n",
        "            evals=[(valid, \"validation\")],\n",
        "            early_stopping_rounds=50,\n",
        "        )\n",
        "        y_pred = booster.predict(valid)\n",
        "        MSE = mean_squared_error(y_test, y_pred, squared=False)\n",
        "        RMSE = math.sqrt(MSE)\n",
        "        mlflow.set_tag(\"model\", \"XGBoost\")\n",
        "        mlflow.log_metric(\"RMSE\", RMSE)\n",
        "\n",
        "    return {\"loss\": RMSE, \"status\": STATUS_OK}"
      ]
    },
    {
      "cell_type": "code",
      "execution_count": null,
      "id": "F8X-7odI_ZNG",
      "metadata": {
        "id": "F8X-7odI_ZNG"
      },
      "outputs": [],
      "source": [
        "search_space = {\n",
        "    \"max_depth\": scope.int(hp.quniform(\"max_depth\", 4, 100, 1)),\n",
        "    \"learning_rate\": hp.loguniform(\"learning_rate\", -3, 0),\n",
        "    \"reg_alpha\": hp.loguniform(\"reg_alpha\", -5, -1),\n",
        "    \"reg_lambda\": hp.loguniform(\"reg_lambda\", -6, -1),\n",
        "    \"min_child_weight\": hp.loguniform(\"min_child_weight\", -1, 3),\n",
        "    \"objective\": \"reg:linear\",\n",
        "    \"seed\": 42,\n",
        "}\n",
        "\n",
        "best_result = fmin(\n",
        "    fn=objective, space=search_space, algo=tpe.suggest, max_evals=50, trials=Trials()\n",
        ")"
      ]
    },
    {
      "cell_type": "markdown",
      "id": "lVDjTL-l5eNb",
      "metadata": {
        "id": "lVDjTL-l5eNb"
      },
      "source": [
        "### Retrive the best model\n"
      ]
    },
    {
      "cell_type": "code",
      "execution_count": 128,
      "id": "WiJrKPv2_ZEo",
      "metadata": {
        "colab": {
          "base_uri": "https://localhost:8080/",
          "height": 123,
          "referenced_widgets": [
            "d7c161cb27b144a386c0d5ee91aae82d",
            "40306917f95241ef9ff7f169535b1651",
            "8699c928cede4869833aa627426608b7",
            "b00739118bbc4a42814369aeeb409f7e",
            "700296dcda1c4ae6b21eb45766cc0720",
            "3c296f9525ff462fab6269b678fb1898",
            "900589d34af240e39aa7b76a558c5f2f",
            "5393676792974b83b18339d8ae4228ab",
            "b44d3937ccda444a8da9af4475deffd6",
            "f4d08ead9a5f4f65b94080d5961fb226",
            "691db5c0654a4bdebd765999817bf525"
          ]
        },
        "id": "WiJrKPv2_ZEo",
        "outputId": "f6513c63-d518-4732-fbff-c154e987932a"
      },
      "outputs": [
        {
          "output_type": "stream",
          "name": "stdout",
          "text": [
            "Best Run ID: f916eb0497744517933193ea247cc6b1\n"
          ]
        },
        {
          "output_type": "display_data",
          "data": {
            "text/plain": [
              "Downloading artifacts:   0%|          | 0/5 [00:00<?, ?it/s]"
            ],
            "application/vnd.jupyter.widget-view+json": {
              "version_major": 2,
              "version_minor": 0,
              "model_id": "d7c161cb27b144a386c0d5ee91aae82d"
            }
          },
          "metadata": {}
        },
        {
          "output_type": "stream",
          "name": "stdout",
          "text": [
            "XGBoost - RMSE: 4.006368197847673\n"
          ]
        },
        {
          "output_type": "stream",
          "name": "stderr",
          "text": [
            "/usr/local/lib/python3.10/dist-packages/xgboost/core.py:160: UserWarning: [08:48:16] WARNING: /workspace/src/objective/regression_obj.cu:209: reg:linear is now deprecated in favor of reg:squarederror.\n",
            "  warnings.warn(smsg, UserWarning)\n"
          ]
        }
      ],
      "source": [
        "best_run_id = runs = client.search_runs(\n",
        "    experiment_ids=EXPERIMENT_ID,\n",
        "    run_view_type=ViewType.ACTIVE_ONLY,\n",
        "    max_results=1,\n",
        "    order_by=[\"metrics.RMSE ASC\"],\n",
        "    filter_string=\"tags.model = 'XGBoost'\",\n",
        ")[0].info.run_id\n",
        "\n",
        "print(f\"Best Run ID: {best_run_id}\")\n",
        "loaded_model = mlflow.pyfunc.load_model(f\"runs:/{best_run_id}/model\")\n",
        "y_pred = loaded_model.predict(X_test)\n",
        "\n",
        "MSE = mean_squared_error(y_test, y_pred, squared=False)\n",
        "RMSE = math.sqrt(MSE)\n",
        "\n",
        "print(f\"XGBoost - RMSE: {RMSE}\")"
      ]
    },
    {
      "cell_type": "markdown",
      "id": "1h555sU-5f1h",
      "metadata": {
        "id": "1h555sU-5f1h"
      },
      "source": [
        "### Plot Actual and Predicted"
      ]
    },
    {
      "cell_type": "code",
      "execution_count": 129,
      "id": "nbkqF22BwGzS",
      "metadata": {
        "colab": {
          "base_uri": "https://localhost:8080/",
          "height": 410
        },
        "id": "nbkqF22BwGzS",
        "outputId": "145f9ef4-1960-4c58-88b7-7528e6493384"
      },
      "outputs": [
        {
          "output_type": "display_data",
          "data": {
            "text/plain": [
              "<Figure size 1500x400 with 1 Axes>"
            ],
            "image/png": "[encoded data removed]"
          },
          "metadata": {}
        }
      ],
      "source": [
        "plt.figure(figsize=(15, 4))\n",
        "plt.plot(y_test, label=\"Actual_Close_Price\", linestyle=\"solid\")\n",
        "plt.plot(\n",
        "    pd.Series(y_pred, index=y_test.index),\n",
        "    label=\"Predicted_Close_Price\",\n",
        "    linestyle=\"dashed\",\n",
        ")\n",
        "plt.title(\"XGBoost - Close Price - Actual vs Predicted\")\n",
        "plt.xlabel(\"Date\")\n",
        "plt.ylabel(\"Close Price\")\n",
        "plt.legend()\n",
        "plt.figtext(\n",
        "    0.20,\n",
        "    0.85,\n",
        "    f\"RSME = {RMSE:.2f}\",\n",
        "    ha=\"right\",\n",
        "    va=\"top\",\n",
        "    color=\"red\",\n",
        "    weight=\"bold\",\n",
        "    bbox=dict(facecolor=\"yellow\", edgecolor=\"black\", boxstyle=\"round,pad=0.5\"),\n",
        ")\n",
        "plt.show()"
      ]
    }
  ],
  "metadata": {
    "colab": {
      "provenance": [],
      "toc_visible": true,
      "include_colab_link": true
    },
    "interpreter": {
      "hash": "aee8b7b246df8f9039afb4144a1f6fd8d2ca17a180786b69acc140d282b71a49"
    },
    "kernelspec": {
      "display_name": "Python 3 (ipykernel)",
      "language": "python",
      "name": "python3"
    },
    "language_info": {
      "codemirror_mode": {
        "name": "ipython",
        "version": 3
      },
      "file_extension": ".py",
      "mimetype": "text/x-python",
      "name": "python",
      "nbconvert_exporter": "python",
      "pygments_lexer": "ipython3",
      "version": "3.10.12"
    },
    "widgets": {
      "application/vnd.jupyter.widget-state+json": {
        "1b8013b557eb47b5ab764b55bb6a200e": {
          "model_module": "@jupyter-widgets/controls",
          "model_name": "HBoxModel",
          "model_module_version": "1.5.0",
          "state": {
            "_dom_classes": [],
            "_model_module": "@jupyter-widgets/controls",
            "_model_module_version": "1.5.0",
            "_model_name": "HBoxModel",
            "_view_count": null,
            "_view_module": "@jupyter-widgets/controls",
            "_view_module_version": "1.5.0",
            "_view_name": "HBoxView",
            "box_style": "",
            "children": [
              "IPY_MODEL_ab033e3a3a1e450caccddaf0dc65a999",
              "IPY_MODEL_06d92b15671548009f74722889c4d076",
              "IPY_MODEL_2bb4e8a3d5f94501880a1c6f5c7134df"
            ],
            "layout": "IPY_MODEL_050bace58842403cb18fdb5665c15481"
          }
        },
        "ab033e3a3a1e450caccddaf0dc65a999": {
          "model_module": "@jupyter-widgets/controls",
          "model_name": "HTMLModel",
          "model_module_version": "1.5.0",
          "state": {
            "_dom_classes": [],
            "_model_module": "@jupyter-widgets/controls",
            "_model_module_version": "1.5.0",
            "_model_name": "HTMLModel",
            "_view_count": null,
            "_view_module": "@jupyter-widgets/controls",
            "_view_module_version": "1.5.0",
            "_view_name": "HTMLView",
            "description": "",
            "description_tooltip": null,
            "layout": "IPY_MODEL_fe48bfb266214429859b98bb7130cdac",
            "placeholder": "​",
            "style": "IPY_MODEL_91f9c01b60d744339c7b86397e585760",
            "value": "Downloading artifacts: 100%"
          }
        },
        "06d92b15671548009f74722889c4d076": {
          "model_module": "@jupyter-widgets/controls",
          "model_name": "FloatProgressModel",
          "model_module_version": "1.5.0",
          "state": {
            "_dom_classes": [],
            "_model_module": "@jupyter-widgets/controls",
            "_model_module_version": "1.5.0",
            "_model_name": "FloatProgressModel",
            "_view_count": null,
            "_view_module": "@jupyter-widgets/controls",
            "_view_module_version": "1.5.0",
            "_view_name": "ProgressView",
            "bar_style": "success",
            "description": "",
            "description_tooltip": null,
            "layout": "IPY_MODEL_8601eb8cb35441b681b5b39c594d4784",
            "max": 5,
            "min": 0,
            "orientation": "horizontal",
            "style": "IPY_MODEL_cd7d7abf30694231b5300b11f67497f4",
            "value": 5
          }
        },
        "2bb4e8a3d5f94501880a1c6f5c7134df": {
          "model_module": "@jupyter-widgets/controls",
          "model_name": "HTMLModel",
          "model_module_version": "1.5.0",
          "state": {
            "_dom_classes": [],
            "_model_module": "@jupyter-widgets/controls",
            "_model_module_version": "1.5.0",
            "_model_name": "HTMLModel",
            "_view_count": null,
            "_view_module": "@jupyter-widgets/controls",
            "_view_module_version": "1.5.0",
            "_view_name": "HTMLView",
            "description": "",
            "description_tooltip": null,
            "layout": "IPY_MODEL_ef845fe4e82e43838f6f784d99a673ef",
            "placeholder": "​",
            "style": "IPY_MODEL_6bea1057792e4e629f972ae32fee850d",
            "value": " 5/5 [00:00&lt;00:00, 25.81it/s]"
          }
        },
        "050bace58842403cb18fdb5665c15481": {
          "model_module": "@jupyter-widgets/base",
          "model_name": "LayoutModel",
          "model_module_version": "1.2.0",
          "state": {
            "_model_module": "@jupyter-widgets/base",
            "_model_module_version": "1.2.0",
            "_model_name": "LayoutModel",
            "_view_count": null,
            "_view_module": "@jupyter-widgets/base",
            "_view_module_version": "1.2.0",
            "_view_name": "LayoutView",
            "align_content": null,
            "align_items": null,
            "align_self": null,
            "border": null,
            "bottom": null,
            "display": null,
            "flex": null,
            "flex_flow": null,
            "grid_area": null,
            "grid_auto_columns": null,
            "grid_auto_flow": null,
            "grid_auto_rows": null,
            "grid_column": null,
            "grid_gap": null,
            "grid_row": null,
            "grid_template_areas": null,
            "grid_template_columns": null,
            "grid_template_rows": null,
            "height": null,
            "justify_content": null,
            "justify_items": null,
            "left": null,
            "margin": null,
            "max_height": null,
            "max_width": null,
            "min_height": null,
            "min_width": null,
            "object_fit": null,
            "object_position": null,
            "order": null,
            "overflow": null,
            "overflow_x": null,
            "overflow_y": null,
            "padding": null,
            "right": null,
            "top": null,
            "visibility": null,
            "width": null
          }
        },
        "fe48bfb266214429859b98bb7130cdac": {
          "model_module": "@jupyter-widgets/base",
          "model_name": "LayoutModel",
          "model_module_version": "1.2.0",
          "state": {
            "_model_module": "@jupyter-widgets/base",
            "_model_module_version": "1.2.0",
            "_model_name": "LayoutModel",
            "_view_count": null,
            "_view_module": "@jupyter-widgets/base",
            "_view_module_version": "1.2.0",
            "_view_name": "LayoutView",
            "align_content": null,
            "align_items": null,
            "align_self": null,
            "border": null,
            "bottom": null,
            "display": null,
            "flex": null,
            "flex_flow": null,
            "grid_area": null,
            "grid_auto_columns": null,
            "grid_auto_flow": null,
            "grid_auto_rows": null,
            "grid_column": null,
            "grid_gap": null,
            "grid_row": null,
            "grid_template_areas": null,
            "grid_template_columns": null,
            "grid_template_rows": null,
            "height": null,
            "justify_content": null,
            "justify_items": null,
            "left": null,
            "margin": null,
            "max_height": null,
            "max_width": null,
            "min_height": null,
            "min_width": null,
            "object_fit": null,
            "object_position": null,
            "order": null,
            "overflow": null,
            "overflow_x": null,
            "overflow_y": null,
            "padding": null,
            "right": null,
            "top": null,
            "visibility": null,
            "width": null
          }
        },
        "91f9c01b60d744339c7b86397e585760": {
          "model_module": "@jupyter-widgets/controls",
          "model_name": "DescriptionStyleModel",
          "model_module_version": "1.5.0",
          "state": {
            "_model_module": "@jupyter-widgets/controls",
            "_model_module_version": "1.5.0",
            "_model_name": "DescriptionStyleModel",
            "_view_count": null,
            "_view_module": "@jupyter-widgets/base",
            "_view_module_version": "1.2.0",
            "_view_name": "StyleView",
            "description_width": ""
          }
        },
        "8601eb8cb35441b681b5b39c594d4784": {
          "model_module": "@jupyter-widgets/base",
          "model_name": "LayoutModel",
          "model_module_version": "1.2.0",
          "state": {
            "_model_module": "@jupyter-widgets/base",
            "_model_module_version": "1.2.0",
            "_model_name": "LayoutModel",
            "_view_count": null,
            "_view_module": "@jupyter-widgets/base",
            "_view_module_version": "1.2.0",
            "_view_name": "LayoutView",
            "align_content": null,
            "align_items": null,
            "align_self": null,
            "border": null,
            "bottom": null,
            "display": null,
            "flex": null,
            "flex_flow": null,
            "grid_area": null,
            "grid_auto_columns": null,
            "grid_auto_flow": null,
            "grid_auto_rows": null,
            "grid_column": null,
            "grid_gap": null,
            "grid_row": null,
            "grid_template_areas": null,
            "grid_template_columns": null,
            "grid_template_rows": null,
            "height": null,
            "justify_content": null,
            "justify_items": null,
            "left": null,
            "margin": null,
            "max_height": null,
            "max_width": null,
            "min_height": null,
            "min_width": null,
            "object_fit": null,
            "object_position": null,
            "order": null,
            "overflow": null,
            "overflow_x": null,
            "overflow_y": null,
            "padding": null,
            "right": null,
            "top": null,
            "visibility": null,
            "width": null
          }
        },
        "cd7d7abf30694231b5300b11f67497f4": {
          "model_module": "@jupyter-widgets/controls",
          "model_name": "ProgressStyleModel",
          "model_module_version": "1.5.0",
          "state": {
            "_model_module": "@jupyter-widgets/controls",
            "_model_module_version": "1.5.0",
            "_model_name": "ProgressStyleModel",
            "_view_count": null,
            "_view_module": "@jupyter-widgets/base",
            "_view_module_version": "1.2.0",
            "_view_name": "StyleView",
            "bar_color": null,
            "description_width": ""
          }
        },
        "ef845fe4e82e43838f6f784d99a673ef": {
          "model_module": "@jupyter-widgets/base",
          "model_name": "LayoutModel",
          "model_module_version": "1.2.0",
          "state": {
            "_model_module": "@jupyter-widgets/base",
            "_model_module_version": "1.2.0",
            "_model_name": "LayoutModel",
            "_view_count": null,
            "_view_module": "@jupyter-widgets/base",
            "_view_module_version": "1.2.0",
            "_view_name": "LayoutView",
            "align_content": null,
            "align_items": null,
            "align_self": null,
            "border": null,
            "bottom": null,
            "display": null,
            "flex": null,
            "flex_flow": null,
            "grid_area": null,
            "grid_auto_columns": null,
            "grid_auto_flow": null,
            "grid_auto_rows": null,
            "grid_column": null,
            "grid_gap": null,
            "grid_row": null,
            "grid_template_areas": null,
            "grid_template_columns": null,
            "grid_template_rows": null,
            "height": null,
            "justify_content": null,
            "justify_items": null,
            "left": null,
            "margin": null,
            "max_height": null,
            "max_width": null,
            "min_height": null,
            "min_width": null,
            "object_fit": null,
            "object_position": null,
            "order": null,
            "overflow": null,
            "overflow_x": null,
            "overflow_y": null,
            "padding": null,
            "right": null,
            "top": null,
            "visibility": null,
            "width": null
          }
        },
        "6bea1057792e4e629f972ae32fee850d": {
          "model_module": "@jupyter-widgets/controls",
          "model_name": "DescriptionStyleModel",
          "model_module_version": "1.5.0",
          "state": {
            "_model_module": "@jupyter-widgets/controls",
            "_model_module_version": "1.5.0",
            "_model_name": "DescriptionStyleModel",
            "_view_count": null,
            "_view_module": "@jupyter-widgets/base",
            "_view_module_version": "1.2.0",
            "_view_name": "StyleView",
            "description_width": ""
          }
        },
        "74bef642cbb94b219a1e1b7b6390bbdc": {
          "model_module": "@jupyter-widgets/controls",
          "model_name": "HBoxModel",
          "model_module_version": "1.5.0",
          "state": {
            "_dom_classes": [],
            "_model_module": "@jupyter-widgets/controls",
            "_model_module_version": "1.5.0",
            "_model_name": "HBoxModel",
            "_view_count": null,
            "_view_module": "@jupyter-widgets/controls",
            "_view_module_version": "1.5.0",
            "_view_name": "HBoxView",
            "box_style": "",
            "children": [
              "IPY_MODEL_d159f91db81f4bc7a280e11c2f22c243",
              "IPY_MODEL_0bed79bc6a0148fabe5af8bb9bd41ef8",
              "IPY_MODEL_79a3961547bd4b15ba6e72ad3275abf4"
            ],
            "layout": "IPY_MODEL_1366c7df08f444d5bd02c00e35bf2fab"
          }
        },
        "d159f91db81f4bc7a280e11c2f22c243": {
          "model_module": "@jupyter-widgets/controls",
          "model_name": "HTMLModel",
          "model_module_version": "1.5.0",
          "state": {
            "_dom_classes": [],
            "_model_module": "@jupyter-widgets/controls",
            "_model_module_version": "1.5.0",
            "_model_name": "HTMLModel",
            "_view_count": null,
            "_view_module": "@jupyter-widgets/controls",
            "_view_module_version": "1.5.0",
            "_view_name": "HTMLView",
            "description": "",
            "description_tooltip": null,
            "layout": "IPY_MODEL_7f2a605a9c88402ab3ff0b489e1cdd89",
            "placeholder": "​",
            "style": "IPY_MODEL_137f899f42ea470ebc4757810df172a9",
            "value": "Downloading artifacts: 100%"
          }
        },
        "0bed79bc6a0148fabe5af8bb9bd41ef8": {
          "model_module": "@jupyter-widgets/controls",
          "model_name": "FloatProgressModel",
          "model_module_version": "1.5.0",
          "state": {
            "_dom_classes": [],
            "_model_module": "@jupyter-widgets/controls",
            "_model_module_version": "1.5.0",
            "_model_name": "FloatProgressModel",
            "_view_count": null,
            "_view_module": "@jupyter-widgets/controls",
            "_view_module_version": "1.5.0",
            "_view_name": "ProgressView",
            "bar_style": "success",
            "description": "",
            "description_tooltip": null,
            "layout": "IPY_MODEL_a6b39460fcb14592aadc8ac2823c0136",
            "max": 5,
            "min": 0,
            "orientation": "horizontal",
            "style": "IPY_MODEL_e6d10456cd3e4001bb19d1a199547731",
            "value": 5
          }
        },
        "79a3961547bd4b15ba6e72ad3275abf4": {
          "model_module": "@jupyter-widgets/controls",
          "model_name": "HTMLModel",
          "model_module_version": "1.5.0",
          "state": {
            "_dom_classes": [],
            "_model_module": "@jupyter-widgets/controls",
            "_model_module_version": "1.5.0",
            "_model_name": "HTMLModel",
            "_view_count": null,
            "_view_module": "@jupyter-widgets/controls",
            "_view_module_version": "1.5.0",
            "_view_name": "HTMLView",
            "description": "",
            "description_tooltip": null,
            "layout": "IPY_MODEL_e6324b113e18436392182b44cd1f5df8",
            "placeholder": "​",
            "style": "IPY_MODEL_d44111f03c264344972dd137cf13be03",
            "value": " 5/5 [00:00&lt;00:00, 34.62it/s]"
          }
        },
        "1366c7df08f444d5bd02c00e35bf2fab": {
          "model_module": "@jupyter-widgets/base",
          "model_name": "LayoutModel",
          "model_module_version": "1.2.0",
          "state": {
            "_model_module": "@jupyter-widgets/base",
            "_model_module_version": "1.2.0",
            "_model_name": "LayoutModel",
            "_view_count": null,
            "_view_module": "@jupyter-widgets/base",
            "_view_module_version": "1.2.0",
            "_view_name": "LayoutView",
            "align_content": null,
            "align_items": null,
            "align_self": null,
            "border": null,
            "bottom": null,
            "display": null,
            "flex": null,
            "flex_flow": null,
            "grid_area": null,
            "grid_auto_columns": null,
            "grid_auto_flow": null,
            "grid_auto_rows": null,
            "grid_column": null,
            "grid_gap": null,
            "grid_row": null,
            "grid_template_areas": null,
            "grid_template_columns": null,
            "grid_template_rows": null,
            "height": null,
            "justify_content": null,
            "justify_items": null,
            "left": null,
            "margin": null,
            "max_height": null,
            "max_width": null,
            "min_height": null,
            "min_width": null,
            "object_fit": null,
            "object_position": null,
            "order": null,
            "overflow": null,
            "overflow_x": null,
            "overflow_y": null,
            "padding": null,
            "right": null,
            "top": null,
            "visibility": null,
            "width": null
          }
        },
        "7f2a605a9c88402ab3ff0b489e1cdd89": {
          "model_module": "@jupyter-widgets/base",
          "model_name": "LayoutModel",
          "model_module_version": "1.2.0",
          "state": {
            "_model_module": "@jupyter-widgets/base",
            "_model_module_version": "1.2.0",
            "_model_name": "LayoutModel",
            "_view_count": null,
            "_view_module": "@jupyter-widgets/base",
            "_view_module_version": "1.2.0",
            "_view_name": "LayoutView",
            "align_content": null,
            "align_items": null,
            "align_self": null,
            "border": null,
            "bottom": null,
            "display": null,
            "flex": null,
            "flex_flow": null,
            "grid_area": null,
            "grid_auto_columns": null,
            "grid_auto_flow": null,
            "grid_auto_rows": null,
            "grid_column": null,
            "grid_gap": null,
            "grid_row": null,
            "grid_template_areas": null,
            "grid_template_columns": null,
            "grid_template_rows": null,
            "height": null,
            "justify_content": null,
            "justify_items": null,
            "left": null,
            "margin": null,
            "max_height": null,
            "max_width": null,
            "min_height": null,
            "min_width": null,
            "object_fit": null,
            "object_position": null,
            "order": null,
            "overflow": null,
            "overflow_x": null,
            "overflow_y": null,
            "padding": null,
            "right": null,
            "top": null,
            "visibility": null,
            "width": null
          }
        },
        "137f899f42ea470ebc4757810df172a9": {
          "model_module": "@jupyter-widgets/controls",
          "model_name": "DescriptionStyleModel",
          "model_module_version": "1.5.0",
          "state": {
            "_model_module": "@jupyter-widgets/controls",
            "_model_module_version": "1.5.0",
            "_model_name": "DescriptionStyleModel",
            "_view_count": null,
            "_view_module": "@jupyter-widgets/base",
            "_view_module_version": "1.2.0",
            "_view_name": "StyleView",
            "description_width": ""
          }
        },
        "a6b39460fcb14592aadc8ac2823c0136": {
          "model_module": "@jupyter-widgets/base",
          "model_name": "LayoutModel",
          "model_module_version": "1.2.0",
          "state": {
            "_model_module": "@jupyter-widgets/base",
            "_model_module_version": "1.2.0",
            "_model_name": "LayoutModel",
            "_view_count": null,
            "_view_module": "@jupyter-widgets/base",
            "_view_module_version": "1.2.0",
            "_view_name": "LayoutView",
            "align_content": null,
            "align_items": null,
            "align_self": null,
            "border": null,
            "bottom": null,
            "display": null,
            "flex": null,
            "flex_flow": null,
            "grid_area": null,
            "grid_auto_columns": null,
            "grid_auto_flow": null,
            "grid_auto_rows": null,
            "grid_column": null,
            "grid_gap": null,
            "grid_row": null,
            "grid_template_areas": null,
            "grid_template_columns": null,
            "grid_template_rows": null,
            "height": null,
            "justify_content": null,
            "justify_items": null,
            "left": null,
            "margin": null,
            "max_height": null,
            "max_width": null,
            "min_height": null,
            "min_width": null,
            "object_fit": null,
            "object_position": null,
            "order": null,
            "overflow": null,
            "overflow_x": null,
            "overflow_y": null,
            "padding": null,
            "right": null,
            "top": null,
            "visibility": null,
            "width": null
          }
        },
        "e6d10456cd3e4001bb19d1a199547731": {
          "model_module": "@jupyter-widgets/controls",
          "model_name": "ProgressStyleModel",
          "model_module_version": "1.5.0",
          "state": {
            "_model_module": "@jupyter-widgets/controls",
            "_model_module_version": "1.5.0",
            "_model_name": "ProgressStyleModel",
            "_view_count": null,
            "_view_module": "@jupyter-widgets/base",
            "_view_module_version": "1.2.0",
            "_view_name": "StyleView",
            "bar_color": null,
            "description_width": ""
          }
        },
        "e6324b113e18436392182b44cd1f5df8": {
          "model_module": "@jupyter-widgets/base",
          "model_name": "LayoutModel",
          "model_module_version": "1.2.0",
          "state": {
            "_model_module": "@jupyter-widgets/base",
            "_model_module_version": "1.2.0",
            "_model_name": "LayoutModel",
            "_view_count": null,
            "_view_module": "@jupyter-widgets/base",
            "_view_module_version": "1.2.0",
            "_view_name": "LayoutView",
            "align_content": null,
            "align_items": null,
            "align_self": null,
            "border": null,
            "bottom": null,
            "display": null,
            "flex": null,
            "flex_flow": null,
            "grid_area": null,
            "grid_auto_columns": null,
            "grid_auto_flow": null,
            "grid_auto_rows": null,
            "grid_column": null,
            "grid_gap": null,
            "grid_row": null,
            "grid_template_areas": null,
            "grid_template_columns": null,
            "grid_template_rows": null,
            "height": null,
            "justify_content": null,
            "justify_items": null,
            "left": null,
            "margin": null,
            "max_height": null,
            "max_width": null,
            "min_height": null,
            "min_width": null,
            "object_fit": null,
            "object_position": null,
            "order": null,
            "overflow": null,
            "overflow_x": null,
            "overflow_y": null,
            "padding": null,
            "right": null,
            "top": null,
            "visibility": null,
            "width": null
          }
        },
        "d44111f03c264344972dd137cf13be03": {
          "model_module": "@jupyter-widgets/controls",
          "model_name": "DescriptionStyleModel",
          "model_module_version": "1.5.0",
          "state": {
            "_model_module": "@jupyter-widgets/controls",
            "_model_module_version": "1.5.0",
            "_model_name": "DescriptionStyleModel",
            "_view_count": null,
            "_view_module": "@jupyter-widgets/base",
            "_view_module_version": "1.2.0",
            "_view_name": "StyleView",
            "description_width": ""
          }
        },
        "fface95b7d974ceaa0588bf26b86d7db": {
          "model_module": "@jupyter-widgets/controls",
          "model_name": "HBoxModel",
          "model_module_version": "1.5.0",
          "state": {
            "_dom_classes": [],
            "_model_module": "@jupyter-widgets/controls",
            "_model_module_version": "1.5.0",
            "_model_name": "HBoxModel",
            "_view_count": null,
            "_view_module": "@jupyter-widgets/controls",
            "_view_module_version": "1.5.0",
            "_view_name": "HBoxView",
            "box_style": "",
            "children": [
              "IPY_MODEL_a72cbc308e8c4763bd689aaed69cdba2",
              "IPY_MODEL_8a1ba8fc191a4808ae3b2d8ead1f549c",
              "IPY_MODEL_71e9959abd144854a92e2731643f33b5"
            ],
            "layout": "IPY_MODEL_599a638faeb44d7380abe1bc90dab7aa"
          }
        },
        "a72cbc308e8c4763bd689aaed69cdba2": {
          "model_module": "@jupyter-widgets/controls",
          "model_name": "HTMLModel",
          "model_module_version": "1.5.0",
          "state": {
            "_dom_classes": [],
            "_model_module": "@jupyter-widgets/controls",
            "_model_module_version": "1.5.0",
            "_model_name": "HTMLModel",
            "_view_count": null,
            "_view_module": "@jupyter-widgets/controls",
            "_view_module_version": "1.5.0",
            "_view_name": "HTMLView",
            "description": "",
            "description_tooltip": null,
            "layout": "IPY_MODEL_9f20b024fe04432cbbeae4724309861e",
            "placeholder": "​",
            "style": "IPY_MODEL_5c7fffcf7db04edeb3b68c4eef788636",
            "value": "Downloading artifacts: 100%"
          }
        },
        "8a1ba8fc191a4808ae3b2d8ead1f549c": {
          "model_module": "@jupyter-widgets/controls",
          "model_name": "FloatProgressModel",
          "model_module_version": "1.5.0",
          "state": {
            "_dom_classes": [],
            "_model_module": "@jupyter-widgets/controls",
            "_model_module_version": "1.5.0",
            "_model_name": "FloatProgressModel",
            "_view_count": null,
            "_view_module": "@jupyter-widgets/controls",
            "_view_module_version": "1.5.0",
            "_view_name": "ProgressView",
            "bar_style": "success",
            "description": "",
            "description_tooltip": null,
            "layout": "IPY_MODEL_a69f0d84756d4d808419ca9ec5b29c85",
            "max": 5,
            "min": 0,
            "orientation": "horizontal",
            "style": "IPY_MODEL_bcf86fbb70cc48d3afb88a34263d9099",
            "value": 5
          }
        },
        "71e9959abd144854a92e2731643f33b5": {
          "model_module": "@jupyter-widgets/controls",
          "model_name": "HTMLModel",
          "model_module_version": "1.5.0",
          "state": {
            "_dom_classes": [],
            "_model_module": "@jupyter-widgets/controls",
            "_model_module_version": "1.5.0",
            "_model_name": "HTMLModel",
            "_view_count": null,
            "_view_module": "@jupyter-widgets/controls",
            "_view_module_version": "1.5.0",
            "_view_name": "HTMLView",
            "description": "",
            "description_tooltip": null,
            "layout": "IPY_MODEL_f481a60e52544b9991846af15524fd82",
            "placeholder": "​",
            "style": "IPY_MODEL_0e0dc02953194469b8cbbf2da30f5e33",
            "value": " 5/5 [00:00&lt;00:00, 32.82it/s]"
          }
        },
        "599a638faeb44d7380abe1bc90dab7aa": {
          "model_module": "@jupyter-widgets/base",
          "model_name": "LayoutModel",
          "model_module_version": "1.2.0",
          "state": {
            "_model_module": "@jupyter-widgets/base",
            "_model_module_version": "1.2.0",
            "_model_name": "LayoutModel",
            "_view_count": null,
            "_view_module": "@jupyter-widgets/base",
            "_view_module_version": "1.2.0",
            "_view_name": "LayoutView",
            "align_content": null,
            "align_items": null,
            "align_self": null,
            "border": null,
            "bottom": null,
            "display": null,
            "flex": null,
            "flex_flow": null,
            "grid_area": null,
            "grid_auto_columns": null,
            "grid_auto_flow": null,
            "grid_auto_rows": null,
            "grid_column": null,
            "grid_gap": null,
            "grid_row": null,
            "grid_template_areas": null,
            "grid_template_columns": null,
            "grid_template_rows": null,
            "height": null,
            "justify_content": null,
            "justify_items": null,
            "left": null,
            "margin": null,
            "max_height": null,
            "max_width": null,
            "min_height": null,
            "min_width": null,
            "object_fit": null,
            "object_position": null,
            "order": null,
            "overflow": null,
            "overflow_x": null,
            "overflow_y": null,
            "padding": null,
            "right": null,
            "top": null,
            "visibility": null,
            "width": null
          }
        },
        "9f20b024fe04432cbbeae4724309861e": {
          "model_module": "@jupyter-widgets/base",
          "model_name": "LayoutModel",
          "model_module_version": "1.2.0",
          "state": {
            "_model_module": "@jupyter-widgets/base",
            "_model_module_version": "1.2.0",
            "_model_name": "LayoutModel",
            "_view_count": null,
            "_view_module": "@jupyter-widgets/base",
            "_view_module_version": "1.2.0",
            "_view_name": "LayoutView",
            "align_content": null,
            "align_items": null,
            "align_self": null,
            "border": null,
            "bottom": null,
            "display": null,
            "flex": null,
            "flex_flow": null,
            "grid_area": null,
            "grid_auto_columns": null,
            "grid_auto_flow": null,
            "grid_auto_rows": null,
            "grid_column": null,
            "grid_gap": null,
            "grid_row": null,
            "grid_template_areas": null,
            "grid_template_columns": null,
            "grid_template_rows": null,
            "height": null,
            "justify_content": null,
            "justify_items": null,
            "left": null,
            "margin": null,
            "max_height": null,
            "max_width": null,
            "min_height": null,
            "min_width": null,
            "object_fit": null,
            "object_position": null,
            "order": null,
            "overflow": null,
            "overflow_x": null,
            "overflow_y": null,
            "padding": null,
            "right": null,
            "top": null,
            "visibility": null,
            "width": null
          }
        },
        "5c7fffcf7db04edeb3b68c4eef788636": {
          "model_module": "@jupyter-widgets/controls",
          "model_name": "DescriptionStyleModel",
          "model_module_version": "1.5.0",
          "state": {
            "_model_module": "@jupyter-widgets/controls",
            "_model_module_version": "1.5.0",
            "_model_name": "DescriptionStyleModel",
            "_view_count": null,
            "_view_module": "@jupyter-widgets/base",
            "_view_module_version": "1.2.0",
            "_view_name": "StyleView",
            "description_width": ""
          }
        },
        "a69f0d84756d4d808419ca9ec5b29c85": {
          "model_module": "@jupyter-widgets/base",
          "model_name": "LayoutModel",
          "model_module_version": "1.2.0",
          "state": {
            "_model_module": "@jupyter-widgets/base",
            "_model_module_version": "1.2.0",
            "_model_name": "LayoutModel",
            "_view_count": null,
            "_view_module": "@jupyter-widgets/base",
            "_view_module_version": "1.2.0",
            "_view_name": "LayoutView",
            "align_content": null,
            "align_items": null,
            "align_self": null,
            "border": null,
            "bottom": null,
            "display": null,
            "flex": null,
            "flex_flow": null,
            "grid_area": null,
            "grid_auto_columns": null,
            "grid_auto_flow": null,
            "grid_auto_rows": null,
            "grid_column": null,
            "grid_gap": null,
            "grid_row": null,
            "grid_template_areas": null,
            "grid_template_columns": null,
            "grid_template_rows": null,
            "height": null,
            "justify_content": null,
            "justify_items": null,
            "left": null,
            "margin": null,
            "max_height": null,
            "max_width": null,
            "min_height": null,
            "min_width": null,
            "object_fit": null,
            "object_position": null,
            "order": null,
            "overflow": null,
            "overflow_x": null,
            "overflow_y": null,
            "padding": null,
            "right": null,
            "top": null,
            "visibility": null,
            "width": null
          }
        },
        "bcf86fbb70cc48d3afb88a34263d9099": {
          "model_module": "@jupyter-widgets/controls",
          "model_name": "ProgressStyleModel",
          "model_module_version": "1.5.0",
          "state": {
            "_model_module": "@jupyter-widgets/controls",
            "_model_module_version": "1.5.0",
            "_model_name": "ProgressStyleModel",
            "_view_count": null,
            "_view_module": "@jupyter-widgets/base",
            "_view_module_version": "1.2.0",
            "_view_name": "StyleView",
            "bar_color": null,
            "description_width": ""
          }
        },
        "f481a60e52544b9991846af15524fd82": {
          "model_module": "@jupyter-widgets/base",
          "model_name": "LayoutModel",
          "model_module_version": "1.2.0",
          "state": {
            "_model_module": "@jupyter-widgets/base",
            "_model_module_version": "1.2.0",
            "_model_name": "LayoutModel",
            "_view_count": null,
            "_view_module": "@jupyter-widgets/base",
            "_view_module_version": "1.2.0",
            "_view_name": "LayoutView",
            "align_content": null,
            "align_items": null,
            "align_self": null,
            "border": null,
            "bottom": null,
            "display": null,
            "flex": null,
            "flex_flow": null,
            "grid_area": null,
            "grid_auto_columns": null,
            "grid_auto_flow": null,
            "grid_auto_rows": null,
            "grid_column": null,
            "grid_gap": null,
            "grid_row": null,
            "grid_template_areas": null,
            "grid_template_columns": null,
            "grid_template_rows": null,
            "height": null,
            "justify_content": null,
            "justify_items": null,
            "left": null,
            "margin": null,
            "max_height": null,
            "max_width": null,
            "min_height": null,
            "min_width": null,
            "object_fit": null,
            "object_position": null,
            "order": null,
            "overflow": null,
            "overflow_x": null,
            "overflow_y": null,
            "padding": null,
            "right": null,
            "top": null,
            "visibility": null,
            "width": null
          }
        },
        "0e0dc02953194469b8cbbf2da30f5e33": {
          "model_module": "@jupyter-widgets/controls",
          "model_name": "DescriptionStyleModel",
          "model_module_version": "1.5.0",
          "state": {
            "_model_module": "@jupyter-widgets/controls",
            "_model_module_version": "1.5.0",
            "_model_name": "DescriptionStyleModel",
            "_view_count": null,
            "_view_module": "@jupyter-widgets/base",
            "_view_module_version": "1.2.0",
            "_view_name": "StyleView",
            "description_width": ""
          }
        },
        "d7c161cb27b144a386c0d5ee91aae82d": {
          "model_module": "@jupyter-widgets/controls",
          "model_name": "HBoxModel",
          "model_module_version": "1.5.0",
          "state": {
            "_dom_classes": [],
            "_model_module": "@jupyter-widgets/controls",
            "_model_module_version": "1.5.0",
            "_model_name": "HBoxModel",
            "_view_count": null,
            "_view_module": "@jupyter-widgets/controls",
            "_view_module_version": "1.5.0",
            "_view_name": "HBoxView",
            "box_style": "",
            "children": [
              "IPY_MODEL_40306917f95241ef9ff7f169535b1651",
              "IPY_MODEL_8699c928cede4869833aa627426608b7",
              "IPY_MODEL_b00739118bbc4a42814369aeeb409f7e"
            ],
            "layout": "IPY_MODEL_700296dcda1c4ae6b21eb45766cc0720"
          }
        },
        "40306917f95241ef9ff7f169535b1651": {
          "model_module": "@jupyter-widgets/controls",
          "model_name": "HTMLModel",
          "model_module_version": "1.5.0",
          "state": {
            "_dom_classes": [],
            "_model_module": "@jupyter-widgets/controls",
            "_model_module_version": "1.5.0",
            "_model_name": "HTMLModel",
            "_view_count": null,
            "_view_module": "@jupyter-widgets/controls",
            "_view_module_version": "1.5.0",
            "_view_name": "HTMLView",
            "description": "",
            "description_tooltip": null,
            "layout": "IPY_MODEL_3c296f9525ff462fab6269b678fb1898",
            "placeholder": "​",
            "style": "IPY_MODEL_900589d34af240e39aa7b76a558c5f2f",
            "value": "Downloading artifacts: 100%"
          }
        },
        "8699c928cede4869833aa627426608b7": {
          "model_module": "@jupyter-widgets/controls",
          "model_name": "FloatProgressModel",
          "model_module_version": "1.5.0",
          "state": {
            "_dom_classes": [],
            "_model_module": "@jupyter-widgets/controls",
            "_model_module_version": "1.5.0",
            "_model_name": "FloatProgressModel",
            "_view_count": null,
            "_view_module": "@jupyter-widgets/controls",
            "_view_module_version": "1.5.0",
            "_view_name": "ProgressView",
            "bar_style": "success",
            "description": "",
            "description_tooltip": null,
            "layout": "IPY_MODEL_5393676792974b83b18339d8ae4228ab",
            "max": 5,
            "min": 0,
            "orientation": "horizontal",
            "style": "IPY_MODEL_b44d3937ccda444a8da9af4475deffd6",
            "value": 5
          }
        },
        "b00739118bbc4a42814369aeeb409f7e": {
          "model_module": "@jupyter-widgets/controls",
          "model_name": "HTMLModel",
          "model_module_version": "1.5.0",
          "state": {
            "_dom_classes": [],
            "_model_module": "@jupyter-widgets/controls",
            "_model_module_version": "1.5.0",
            "_model_name": "HTMLModel",
            "_view_count": null,
            "_view_module": "@jupyter-widgets/controls",
            "_view_module_version": "1.5.0",
            "_view_name": "HTMLView",
            "description": "",
            "description_tooltip": null,
            "layout": "IPY_MODEL_f4d08ead9a5f4f65b94080d5961fb226",
            "placeholder": "​",
            "style": "IPY_MODEL_691db5c0654a4bdebd765999817bf525",
            "value": " 5/5 [00:00&lt;00:00, 18.28it/s]"
          }
        },
        "700296dcda1c4ae6b21eb45766cc0720": {
          "model_module": "@jupyter-widgets/base",
          "model_name": "LayoutModel",
          "model_module_version": "1.2.0",
          "state": {
            "_model_module": "@jupyter-widgets/base",
            "_model_module_version": "1.2.0",
            "_model_name": "LayoutModel",
            "_view_count": null,
            "_view_module": "@jupyter-widgets/base",
            "_view_module_version": "1.2.0",
            "_view_name": "LayoutView",
            "align_content": null,
            "align_items": null,
            "align_self": null,
            "border": null,
            "bottom": null,
            "display": null,
            "flex": null,
            "flex_flow": null,
            "grid_area": null,
            "grid_auto_columns": null,
            "grid_auto_flow": null,
            "grid_auto_rows": null,
            "grid_column": null,
            "grid_gap": null,
            "grid_row": null,
            "grid_template_areas": null,
            "grid_template_columns": null,
            "grid_template_rows": null,
            "height": null,
            "justify_content": null,
            "justify_items": null,
            "left": null,
            "margin": null,
            "max_height": null,
            "max_width": null,
            "min_height": null,
            "min_width": null,
            "object_fit": null,
            "object_position": null,
            "order": null,
            "overflow": null,
            "overflow_x": null,
            "overflow_y": null,
            "padding": null,
            "right": null,
            "top": null,
            "visibility": null,
            "width": null
          }
        },
        "3c296f9525ff462fab6269b678fb1898": {
          "model_module": "@jupyter-widgets/base",
          "model_name": "LayoutModel",
          "model_module_version": "1.2.0",
          "state": {
            "_model_module": "@jupyter-widgets/base",
            "_model_module_version": "1.2.0",
            "_model_name": "LayoutModel",
            "_view_count": null,
            "_view_module": "@jupyter-widgets/base",
            "_view_module_version": "1.2.0",
            "_view_name": "LayoutView",
            "align_content": null,
            "align_items": null,
            "align_self": null,
            "border": null,
            "bottom": null,
            "display": null,
            "flex": null,
            "flex_flow": null,
            "grid_area": null,
            "grid_auto_columns": null,
            "grid_auto_flow": null,
            "grid_auto_rows": null,
            "grid_column": null,
            "grid_gap": null,
            "grid_row": null,
            "grid_template_areas": null,
            "grid_template_columns": null,
            "grid_template_rows": null,
            "height": null,
            "justify_content": null,
            "justify_items": null,
            "left": null,
            "margin": null,
            "max_height": null,
            "max_width": null,
            "min_height": null,
            "min_width": null,
            "object_fit": null,
            "object_position": null,
            "order": null,
            "overflow": null,
            "overflow_x": null,
            "overflow_y": null,
            "padding": null,
            "right": null,
            "top": null,
            "visibility": null,
            "width": null
          }
        },
        "900589d34af240e39aa7b76a558c5f2f": {
          "model_module": "@jupyter-widgets/controls",
          "model_name": "DescriptionStyleModel",
          "model_module_version": "1.5.0",
          "state": {
            "_model_module": "@jupyter-widgets/controls",
            "_model_module_version": "1.5.0",
            "_model_name": "DescriptionStyleModel",
            "_view_count": null,
            "_view_module": "@jupyter-widgets/base",
            "_view_module_version": "1.2.0",
            "_view_name": "StyleView",
            "description_width": ""
          }
        },
        "5393676792974b83b18339d8ae4228ab": {
          "model_module": "@jupyter-widgets/base",
          "model_name": "LayoutModel",
          "model_module_version": "1.2.0",
          "state": {
            "_model_module": "@jupyter-widgets/base",
            "_model_module_version": "1.2.0",
            "_model_name": "LayoutModel",
            "_view_count": null,
            "_view_module": "@jupyter-widgets/base",
            "_view_module_version": "1.2.0",
            "_view_name": "LayoutView",
            "align_content": null,
            "align_items": null,
            "align_self": null,
            "border": null,
            "bottom": null,
            "display": null,
            "flex": null,
            "flex_flow": null,
            "grid_area": null,
            "grid_auto_columns": null,
            "grid_auto_flow": null,
            "grid_auto_rows": null,
            "grid_column": null,
            "grid_gap": null,
            "grid_row": null,
            "grid_template_areas": null,
            "grid_template_columns": null,
            "grid_template_rows": null,
            "height": null,
            "justify_content": null,
            "justify_items": null,
            "left": null,
            "margin": null,
            "max_height": null,
            "max_width": null,
            "min_height": null,
            "min_width": null,
            "object_fit": null,
            "object_position": null,
            "order": null,
            "overflow": null,
            "overflow_x": null,
            "overflow_y": null,
            "padding": null,
            "right": null,
            "top": null,
            "visibility": null,
            "width": null
          }
        },
        "b44d3937ccda444a8da9af4475deffd6": {
          "model_module": "@jupyter-widgets/controls",
          "model_name": "ProgressStyleModel",
          "model_module_version": "1.5.0",
          "state": {
            "_model_module": "@jupyter-widgets/controls",
            "_model_module_version": "1.5.0",
            "_model_name": "ProgressStyleModel",
            "_view_count": null,
            "_view_module": "@jupyter-widgets/base",
            "_view_module_version": "1.2.0",
            "_view_name": "StyleView",
            "bar_color": null,
            "description_width": ""
          }
        },
        "f4d08ead9a5f4f65b94080d5961fb226": {
          "model_module": "@jupyter-widgets/base",
          "model_name": "LayoutModel",
          "model_module_version": "1.2.0",
          "state": {
            "_model_module": "@jupyter-widgets/base",
            "_model_module_version": "1.2.0",
            "_model_name": "LayoutModel",
            "_view_count": null,
            "_view_module": "@jupyter-widgets/base",
            "_view_module_version": "1.2.0",
            "_view_name": "LayoutView",
            "align_content": null,
            "align_items": null,
            "align_self": null,
            "border": null,
            "bottom": null,
            "display": null,
            "flex": null,
            "flex_flow": null,
            "grid_area": null,
            "grid_auto_columns": null,
            "grid_auto_flow": null,
            "grid_auto_rows": null,
            "grid_column": null,
            "grid_gap": null,
            "grid_row": null,
            "grid_template_areas": null,
            "grid_template_columns": null,
            "grid_template_rows": null,
            "height": null,
            "justify_content": null,
            "justify_items": null,
            "left": null,
            "margin": null,
            "max_height": null,
            "max_width": null,
            "min_height": null,
            "min_width": null,
            "object_fit": null,
            "object_position": null,
            "order": null,
            "overflow": null,
            "overflow_x": null,
            "overflow_y": null,
            "padding": null,
            "right": null,
            "top": null,
            "visibility": null,
            "width": null
          }
        },
        "691db5c0654a4bdebd765999817bf525": {
          "model_module": "@jupyter-widgets/controls",
          "model_name": "DescriptionStyleModel",
          "model_module_version": "1.5.0",
          "state": {
            "_model_module": "@jupyter-widgets/controls",
            "_model_module_version": "1.5.0",
            "_model_name": "DescriptionStyleModel",
            "_view_count": null,
            "_view_module": "@jupyter-widgets/base",
            "_view_module_version": "1.2.0",
            "_view_name": "StyleView",
            "description_width": ""
          }
        }
      }
    }
  },
  "nbformat": 4,
  "nbformat_minor": 5
}